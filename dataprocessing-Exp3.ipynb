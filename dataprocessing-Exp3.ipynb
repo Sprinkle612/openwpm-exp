{
 "cells": [
  {
   "cell_type": "code",
   "execution_count": 1,
   "metadata": {},
   "outputs": [],
   "source": [
    "import numpy as np\n",
    "import pandas as pd\n",
    "import sqlite3"
   ]
  },
  {
   "cell_type": "code",
   "execution_count": 2,
   "metadata": {},
   "outputs": [],
   "source": [
    "conn = sqlite3.connect(\"./raw-data/4-22-exp3/crawl-data.sqlite\")"
   ]
  },
  {
   "cell_type": "code",
   "execution_count": 3,
   "metadata": {},
   "outputs": [],
   "source": [
    "# cur = conn.cursor()\n",
    "javascript_cookies = pd.read_sql_query(\"select visit_id, record_type, change_cause, host, name, value, \\\n",
    "time_stamp from javascript_cookies;\", conn)"
   ]
  },
  {
   "cell_type": "code",
   "execution_count": 4,
   "metadata": {},
   "outputs": [],
   "source": [
    "http_responses = pd.read_sql_query(\"select visit_id, url, method, headers, time_stamp from http_responses where response_status == 200;\", conn)"
   ]
  },
  {
   "cell_type": "code",
   "execution_count": 5,
   "metadata": {},
   "outputs": [],
   "source": [
    "http_requests = pd.read_sql_query(\"select visit_id, headers, referrer, Url, time_stamp from http_requests;\", conn)"
   ]
  },
  {
   "cell_type": "code",
   "execution_count": 6,
   "metadata": {},
   "outputs": [],
   "source": [
    "javascript = pd.read_sql_query(\"select visit_id, script_url, symbol, operation, value, arguments, time_stamp from javascript;\", conn)"
   ]
  },
  {
   "cell_type": "code",
   "execution_count": 7,
   "metadata": {},
   "outputs": [],
   "source": [
    "site_visits = pd.read_sql_query(\"select visit_id, site_url from site_visits;\", conn)"
   ]
  },
  {
   "cell_type": "code",
   "execution_count": 8,
   "metadata": {},
   "outputs": [],
   "source": [
    "conn.close()"
   ]
  },
  {
   "cell_type": "code",
   "execution_count": 9,
   "metadata": {},
   "outputs": [
    {
     "data": {
      "text/plain": [
       "['webmd', 'berkeley', 'nytimes']"
      ]
     },
     "execution_count": 9,
     "metadata": {},
     "output_type": "execute_result"
    }
   ],
   "source": [
    "names = list(map(lambda x: x.split('.')[1], list(site_visits.site_url)))\n",
    "names"
   ]
  },
  {
   "cell_type": "code",
   "execution_count": 33,
   "metadata": {},
   "outputs": [],
   "source": [
    "cookies_dict = {\n",
    "  \"nytimes\": ['.nytimes.com', '.et.nytimes.com', 'www.nytimes.com', '.a.nytimes.com', 'static01.nyt.com'],\n",
    "  \"webmd\": ['.www.webmd.com', '.webmd.com', '.css.webmd.com', '.js.webmd.com','.img.webmd.com', 'www.webmd.com', 'survey.o.webmd.com', '.staging.webmd.com'],\n",
    "  \"berkeley\": ['.berkeley.edu', '.www.berkeley.edu', 'www.berkeley.edu', 'matrix.berkeley.edu', \\\n",
    "               'give.berkeley.edu', 'news.berkeley.edu', '.news.berkeley.edu', 'bconnected.berkeley.edu',\\\n",
    "               '.publichealth.berkeley.edu', 'greatergood.berkeley.edu']\n",
    "}"
   ]
  },
  {
   "cell_type": "code",
   "execution_count": 34,
   "metadata": {},
   "outputs": [],
   "source": [
    "js_cookies_1 = javascript_cookies[javascript_cookies.visit_id == 1]\n",
    "js_cookies_2 = javascript_cookies[javascript_cookies.visit_id == 2]\n",
    "js_cookies_3 = javascript_cookies[javascript_cookies.visit_id == 3]"
   ]
  },
  {
   "cell_type": "code",
   "execution_count": 35,
   "metadata": {},
   "outputs": [
    {
     "data": {
      "text/plain": [
       "array(['.www.webmd.com', '.webmd.com', '.css.webmd.com', '.js.webmd.com',\n",
       "       '.img.webmd.com', '.demdex.net', '.media.net', 'www.webmd.com',\n",
       "       '.scorecardresearch.com', '.reddit.com', '.rlcdn.com',\n",
       "       '.facebook.com', '.turn.com', 'ibclick.stream', '.adsrvr.org',\n",
       "       '.twitter.com', '.adnxs.com', '.dotomi.com', '.mfadsrvr.com',\n",
       "       '.liadm.com', '.amazon-adsystem.com', 'global.ib-ibi.com',\n",
       "       '.pubmatic.com', '.ads.pubmatic.com', 'eus.rubiconproject.com',\n",
       "       '.doubleclick.net', '.rubiconproject.com', 'ib.mookie1.com',\n",
       "       '.ib.mookie1.com', '.dpm.demdex.net', '.dnacdn.net',\n",
       "       '.adsymptotic.com', '.mathtag.com', '.bidr.io', '.everesttech.net',\n",
       "       'i.liadm.com', 'id.sharedid.org', '.yieldmo.com', '.1rx.io',\n",
       "       '.taboola.com', '.bidswitch.net', '.pippio.com', '.addthis.com',\n",
       "       '.yahoo.com', '.advertising.com', '.3lift.com', '.contextweb.com',\n",
       "       'bh.contextweb.com', '.dlx.addthis.com', '.analytics.yahoo.com',\n",
       "       'pool.admedo.com', '.technoratimedia.com', '.krxd.net',\n",
       "       '.agkn.com', '.rkdms.com', '.zemanta.com', '.bluekai.com',\n",
       "       '.sitescout.com', '.em.licasd.com', '.exelator.com', '.atdmt.com',\n",
       "       '.crwdcntrl.net', '.simpli.fi', '.ipredictive.com', '.w55c.net',\n",
       "       '.adform.net', '.mxptint.net', 'survey.o.webmd.com',\n",
       "       '.abbviecommercial.demdex.net', '.staging.webmd.com',\n",
       "       'www.surveywriter.net'], dtype=object)"
      ]
     },
     "execution_count": 35,
     "metadata": {},
     "output_type": "execute_result"
    }
   ],
   "source": [
    "# third party cookies (filter by host)\n",
    "js_cookies_1.host.unique()"
   ]
  },
  {
   "cell_type": "code",
   "execution_count": 36,
   "metadata": {
    "scrolled": false
   },
   "outputs": [
    {
     "name": "stdout",
     "output_type": "stream",
     "text": [
      "(890, 7)\n",
      ".www.webmd.com\n",
      "(889, 7)\n",
      ".webmd.com\n",
      "(484, 7)\n",
      ".css.webmd.com\n",
      "(483, 7)\n",
      ".js.webmd.com\n",
      "(482, 7)\n",
      ".img.webmd.com\n",
      "(477, 7)\n",
      "***********************************\n",
      "(111, 7)\n",
      ".berkeley.edu\n",
      "(54, 7)\n",
      ".www.berkeley.edu\n",
      "(53, 7)\n",
      "www.berkeley.edu\n",
      "(45, 7)\n",
      "matrix.berkeley.edu\n",
      "(45, 7)\n",
      "give.berkeley.edu\n",
      "(45, 7)\n",
      "news.berkeley.edu\n",
      "(45, 7)\n",
      ".news.berkeley.edu\n",
      "(45, 7)\n",
      "bconnected.berkeley.edu\n",
      "(45, 7)\n",
      ".publichealth.berkeley.edu\n",
      "(44, 7)\n",
      "greatergood.berkeley.edu\n",
      "(44, 7)\n",
      "***********************************\n",
      "(450, 7)\n",
      ".nytimes.com\n",
      "(304, 7)\n",
      ".et.nytimes.com\n",
      "(211, 7)\n",
      "www.nytimes.com\n",
      "(191, 7)\n",
      ".a.nytimes.com\n",
      "(185, 7)\n",
      "static01.nyt.com\n",
      "(182, 7)\n"
     ]
    }
   ],
   "source": [
    "js_cookies_third_1 = js_cookies_1\n",
    "print(js_cookies_third_1.shape)\n",
    "\n",
    "for temp in cookies_dict.get(names[0]):\n",
    "    print(temp)\n",
    "    # js_cookies_third_1 = js_cookies_third_1[-js_cookies_third_1.host.str.contains(temp)]\n",
    "    js_cookies_third_1 = js_cookies_third_1[-js_cookies_third_1.host.str.match(temp)]\n",
    "    print(js_cookies_third_1.shape)\n",
    "\n",
    "print(\"***********************************\")\n",
    "\n",
    "js_cookies_third_2 = js_cookies_2\n",
    "print(js_cookies_third_2.shape)\n",
    "\n",
    "for temp in cookies_dict.get(names[1]):\n",
    "    print(temp)\n",
    "    js_cookies_third_2 = js_cookies_third_2[-js_cookies_third_2.host.str.match(temp)]\n",
    "    print(js_cookies_third_2.shape)    \n",
    "    \n",
    "print(\"***********************************\")\n",
    "\n",
    "js_cookies_third_3 = js_cookies_3\n",
    "print(js_cookies_third_3.shape)\n",
    "\n",
    "for temp in cookies_dict.get(names[2]):\n",
    "    print(temp)\n",
    "    js_cookies_third_3 = js_cookies_third_3[-js_cookies_third_3.host.str.match(temp)]\n",
    "    print(js_cookies_third_3.shape)\n"
   ]
  },
  {
   "cell_type": "code",
   "execution_count": 39,
   "metadata": {},
   "outputs": [
    {
     "data": {
      "text/html": [
       "<div>\n",
       "<style scoped>\n",
       "    .dataframe tbody tr th:only-of-type {\n",
       "        vertical-align: middle;\n",
       "    }\n",
       "\n",
       "    .dataframe tbody tr th {\n",
       "        vertical-align: top;\n",
       "    }\n",
       "\n",
       "    .dataframe thead th {\n",
       "        text-align: right;\n",
       "    }\n",
       "</style>\n",
       "<table border=\"1\" class=\"dataframe\">\n",
       "  <thead>\n",
       "    <tr style=\"text-align: right;\">\n",
       "      <th></th>\n",
       "      <th>visit_id</th>\n",
       "      <th>record_type</th>\n",
       "      <th>change_cause</th>\n",
       "      <th>host</th>\n",
       "      <th>name</th>\n",
       "      <th>value</th>\n",
       "      <th>time_stamp</th>\n",
       "    </tr>\n",
       "  </thead>\n",
       "  <tbody>\n",
       "  </tbody>\n",
       "</table>\n",
       "</div>"
      ],
      "text/plain": [
       "Empty DataFrame\n",
       "Columns: [visit_id, record_type, change_cause, host, name, value, time_stamp]\n",
       "Index: []"
      ]
     },
     "execution_count": 39,
     "metadata": {},
     "output_type": "execute_result"
    }
   ],
   "source": [
    "# double check\n",
    "js_cookies_third_1[js_cookies_third_1.host.str.contains(names[0])]\n",
    "js_cookies_third_2[js_cookies_third_2.host.str.contains(names[1])]\n",
    "js_cookies_third_3[js_cookies_third_3.host.str.contains(names[2])]"
   ]
  },
  {
   "cell_type": "code",
   "execution_count": 40,
   "metadata": {},
   "outputs": [],
   "source": [
    "js_cookies_third_1.to_csv('3-1-cookies.csv', index=False)\n",
    "js_cookies_third_2.to_csv('3-2-cookies.csv', index=False)\n",
    "js_cookies_third_3.to_csv('3-3-cookies.csv', index=False)"
   ]
  },
  {
   "cell_type": "code",
   "execution_count": null,
   "metadata": {},
   "outputs": [],
   "source": []
  },
  {
   "cell_type": "code",
   "execution_count": null,
   "metadata": {},
   "outputs": [],
   "source": []
  },
  {
   "cell_type": "code",
   "execution_count": 41,
   "metadata": {},
   "outputs": [],
   "source": [
    "js_1 = javascript[javascript.visit_id == 1]\n",
    "js_2 = javascript[javascript.visit_id == 2]\n",
    "js_3 = javascript[javascript.visit_id == 3]"
   ]
  },
  {
   "cell_type": "code",
   "execution_count": 42,
   "metadata": {},
   "outputs": [
    {
     "data": {
      "text/plain": [
       "array(['https://js.webmd.com/dtmcms/live/webmd/PageBuilder_Assets/JS/responsive_scripts153.js',\n",
       "       'https://assets.adobedtm.com/dbc05520d4f49caf542bbd26c65a4b463263a2c9/satelliteLib-99a8aacf5aa69747ae52c15253c9133d2fb09587.js',\n",
       "       'https://s.go-mpulse.net/boomerang/7TA4C-EHAW8-JP6NL-WZFXG-NSUSJ',\n",
       "       'https://img.webmd.com/pixel/aiq.a.html?domain=webmd.com&pvid=158760706805381697',\n",
       "       'https://js.webmd.com/dtmcms/live/webmd/PageBuilder_Assets/JS_static/components/beacon.liveramp.js',\n",
       "       'https://js.webmd.com/dtmcms/live/webmd/PageBuilder_Assets/JS_static/components/beacon.aiq.js',\n",
       "       'https://ibclick.stream/assets/js/track/dist/js/v1/tracker.min.js',\n",
       "       'https://img.webmd.com/pixel/liveramp.b.html?lrid=76c4e207b5287521a40f2b085ef1b1ada755af946d3de9d0e70e12bd184b5d0a525a548f079a9e09',\n",
       "       'https://gum.criteo.com/syncframe?topUrl=www.webmd.com#{%22sid%22:{%22value%22:null,%22origin%22:0},%22uid%22:{%22value%22:null,%22origin%22:0},%22optout%22:{%22value%22:false,%22origin%22:0},%22bundle%22:{%22value%22:null,%22origin%22:0},%22lwid%22:{%22value%22:null,%22origin%22:0},%22tld%22:%22webmd.com%22,%22cw%22:true,%22origin%22:%22rtus%22,%22topUrl%22:%22www.webmd.com%22,%22rtusCallerId%22:158}',\n",
       "       'https://webmd.demdex.net/dest5.html?d_nsid=0#https%3A%2F%2Fwww.webmd.com',\n",
       "       'https://ads.pubmatic.com/AdServer/js/showad.js#PIX&kdntuid=1&SPug=true&p=156176&predirect=https%3A%2F%2Fcontextual.media.net%2Fcksync.php%3Fcs%3D1%26vsid%3D2306086684971300000V10%26type%3Dpb%26refUrl%3D%26vid%3D76070720472306086684971300000V10%26ovsid%3DPM_UID&userIdMacro=PM_UID&it=0&gdpr=0&np=0',\n",
       "       'https://c.amazon-adsystem.com/aax2/apstag.js',\n",
       "       'https://securepubads.g.doubleclick.net/tag/js/gpt.js',\n",
       "       'https://contextual.media.net/dmedianet.js?cid=8CUU54RQD&https=1',\n",
       "       'https://assets.adobedtm.com/dbc05520d4f49caf542bbd26c65a4b463263a2c9/mbox-contents-ebaef46ec7b7354eb057e66308e35f0ebbe97370.js',\n",
       "       'https://contextual.media.net/bidexchange.js?cid=8CU66J63J&version=3.2&https=1',\n",
       "       'https://securepubads.g.doubleclick.net/gpt/pubads_impl_2020041602.js',\n",
       "       'https://cdn.tt.omtrdc.net/cdn/target.js',\n",
       "       'https://www.webmd.com/',\n",
       "       'https://img.webmd.com/bi_common/bi_consumer.js?d=4/22/2020',\n",
       "       'https://www.googleadservices.com/pagead/conversion_async.js',\n",
       "       'https://contextual.media.net/pubcid.php?itype=HB&cb=window.advBidxc.mnetCoRtusId',\n",
       "       'https://js.webmd.com/dtmcms/live/webmd/PageBuilder_Assets/JS_static/responsive_scripts_body.js',\n",
       "       'https://gum.criteo.com/sync?r=2&c=321&j=window.advBidxc.mnetRtusId',\n",
       "       'https://connect.facebook.net/en_US/sdk.js#xfbml=1&version=v3.1',\n",
       "       'https://connect.facebook.net/en_US/fbevents.js',\n",
       "       'https://www.redditstatic.com/ads/pixel.js',\n",
       "       'https://b-code.liadm.com/a-00xm.min.js',\n",
       "       'https://cdn.mouseflow.com/projects/5ac4993e-d991-4a31-8de6-778aba38a40c.js',\n",
       "       'https://consent.trustarc.com/notice?domain=webmd.com&c=teconsent&js=nj&noticeType=bb&text=true&cookieLink=https%3A%2F%2Fwww.webmd.com%2Fabout-webmd-policies%2Fabout-california-privacy-policy&privacypolicylink=https%3A%2F%2Fwww.webmd.com%2Fabout-webmd-policies%2Fabout-privacy-policy',\n",
       "       'https://s.pinimg.com/ct/lib/main.a37a8bbc.js',\n",
       "       'https://connect.facebook.net/en_US/sdk.js?hash=b96e188cf6267ee272542466e1f8d5a9',\n",
       "       'https://connect.facebook.net/signals/config/428750600651790?v=2.9.16&r=stable',\n",
       "       'https://gum.criteo.com/sync?r=2&c=158&j=STRCriteoCallback&callback=STRCriteoCallback',\n",
       "       'https://securepubads.g.doubleclick.net/gpt/pubads_impl_rendering_2020041602.js',\n",
       "       'https://www.googletagservices.com/activeview/js/current/osd_listener.js?cache=r20110914',\n",
       "       'https://b-code.liadm.com/sync-container.js',\n",
       "       'https://s3.amazonaws.com/ki.js/38969/hrI.js',\n",
       "       'https://z.moatads.com/webmddfp936579382290/moatad.js#moatClientLevel1=17912954&moatClientLevel2=2678096350&moatClientLevel3=5329369610&moatClientLevel4=138307139196&moatClientSlicer1=3312554&moatClientSlicer2=25989674&zMoatMNView=&zMoatMNRefresh=&zMoatPG=&zMoatECD=0&zMoatMGV=&zMoatMMV=&zMoatMSafety=&zMoatMData=&zMoatCC=83&zMoatLeaf=17008&zMoatPT=1728&zMoatBP=1&zMoatURI=/default&zMoatVALUE=158760706805381697&zMoatShield=&zMoatPS=137&zMoatFR=',\n",
       "       'https://www.googletagservices.com/activeview/js/current/osd.js?cb=%2Fr20100101',\n",
       "       'https://contextual.media.net/checksync.php?&vsSync=1&cs=1&hb=1&cv=37&ndec=1&cid=8CU66J63J&prvid=23%2C28%2C29%2C38%2C41%2C51%2C54%2C55%2C56%2C59%2C72%2C76%2C79%2C80%2C82%2C84%2C86%2C96%2C97%2C102%2C107%2C108%2C109%2C132%2C145%2C157%2C159%2C171%2C172%2C175%2C178%2C186%2C201%2C203%2C208%2C214%2C222%2C3003%2C3008%2C3014&rtime=2728&https=1&usp_status=0&usp_consent=1',\n",
       "       'https://ads.pubmatic.com/AdServer/js/user_sync.html?p=156176&userIdMacro=PM_UID&predirect=https%3A%2F%2Fcontextual.media.net%2Fcksync.php%3Fcs%3D1%26vsid%3D2306086684971300000V10%26type%3Dpb%26refUrl%3D%26vid%3D76070720472306086684971300000V10%26ovsid%3DPM_UID',\n",
       "       'https://eus.rubiconproject.com/usync.html?p=medianet',\n",
       "       'https://www.googletagservices.com/dcm/dcmads.js',\n",
       "       'https://www.facebook.com/rsrc.php/v3/yf/r/0MkaEOgawcv.js?_nc_x=Ij3Wp8lg5Kz',\n",
       "       'https://www.facebook.com/rsrc.php/v3iEpO4/yk/l/en_US/An_VLSLsTP_.js?_nc_x=Ij3Wp8lg5Kz',\n",
       "       'https://img.webmd.com/dtmcms/live/webmd/consumer_assets/site_images/tools/coronavirus-map/js/app.js?v=1711420656',\n",
       "       'https://www.googletagservices.com/dcm/impl_v55.js',\n",
       "       'https://ad.doubleclick.net/ddm/adj/N1251450.1236WEBMD/B24026375.271692387;dc_ver=55.153;dc_eid=40004001;sz=728x90;u_sd=1;dc_adk=2550138417;ord=qo38t7;click=https%3A%2F%2Fadclick.g.doubleclick.net%2Fpcs%2Fclick%3Fxai%3DAKAOjstf_qWeGA2V1yAWO2IV0NdB7avLi1_8A-gHc_E-jNeFeWPNrVMyTjW4_HJWG6N0PmbUaHPqz6g7i_AiwxA-ckMHJhwC4yJtiqIByKy4VbW_XsJXzP-CBRxK-LxvUZ9TpuUq4kwg-YTQhL6gdkl6WwdO7X1OvdUKOMeRT8Dsjww2tp_WiP47UOsl_v31q7PX9oWnuOeo-EDnJBfMuergVL0Yiitp3MzR5AAwDpuE4aHrWs38vPOlUov_HyEyEtcxUKIlOoMnBU-fq50A%26sai%3DAMfl-YRmdz6nKbThl4ToI84UkOTv7sWlTxht_w6Nll-T4-ss1zME7H2-puhdG0iQOiqeuDoqYYlJ251nDtmRn1F3mbsbsKmkkPq2IcHuchZQ%26sig%3DCg0ArKJSzLcCnDkYfiekEAE%26urlfix%3D1%26adurl%3D;dc_rfl=1,https%3A%2F%2Fwww.webmd.com%2F$0;xdt=0;crlt=XH9_0.uzdB;osda=2;sttr=4169;prcl=s?',\n",
       "       'https://z.moatads.com/webmddfp936579382290/moatad.js#moatClientLevel1=4862803161&moatClientLevel2=2685151144&moatClientLevel3=5347387581&moatClientLevel4=138309470542&moatClientSlicer1=3312554&moatClientSlicer2=25989674&zMoatMNView=&zMoatMNRefresh=&zMoatPG=&zMoatECD=0&zMoatMGV=&zMoatMMV=&zMoatMSafety=&zMoatMData=&zMoatCC=83&zMoatLeaf=17008&zMoatPT=1728&zMoatBP=1&zMoatURI=/default&zMoatVALUE=158760706805381697&zMoatShield=&zMoatPS=101&zMoatFR=',\n",
       "       'https://tpc.googlesyndication.com/sodar/UFYwWwmt.js',\n",
       "       'https://www.googletagservices.com/activeview/js/current/lidar.js?cache=r20110914rxlidarcontrol',\n",
       "       'https://ad.doubleclick.net/ddm/adj/N1251450.1236WEBMD/B24026375.271614484;dc_ver=55.153;sz=300x250;u_sd=1;dc_adk=3381720797;ord=osl67g;click=https%3A%2F%2Fadclick.g.doubleclick.net%2Fpcs%2Fclick%3Fxai%3DAKAOjsto8hoNraTXS4Y4tjAAvJ7ulDsO1B7elO3l0HlNrdKqx9blZMhfEQJq-fhR7OTm0qEF2NkY56gT4raA9hlKKL18cn5KiclcDozksbrNYfK-rnOSNbGq2aGF2jTGPtzODy8ICdvUvUulscdU7e2ZNLiH06Ff6DVF9iGqhk-JyNhAKk0uC52ZCKU8UgX0eobNZIBkSqphUgeZLWZDpd2r6_h45F_MqueEdi0pQ4MHjnVthVDWKwGb4VNCxSbewgLpj7uR56IX7E7UIT7h%26sai%3DAMfl-YSQoaALViG26hUCQAgQac4qXzPTJ49En8nBIRcPFVhx__zaO59nQgAgJe3vHi90c6cQjLfm9x4LG50jrN1yY7xtj-mTSZVvY-IASxoO%26sig%3DCg0ArKJSzEpgvz_EP9YpEAE%26urlfix%3D1%26adurl%3D;dc_rfl=1,https%3A%2F%2Fwww.webmd.com%2F$0;xdt=0;crlt=XH9_0.uzdB;osda=2;sttr=4530;prcl=s?',\n",
       "       'https://z.moatads.com/webmddfp936579382290/moatad.js#moatClientLevel1=4862803161&moatClientLevel2=2685151144&moatClientLevel3=5347387581&moatClientLevel4=138309097785&moatClientSlicer1=3312554&moatClientSlicer2=25989674&zMoatMNView=&zMoatMNRefresh=&zMoatPG=&zMoatECD=0&zMoatMGV=&zMoatMMV=&zMoatMSafety=&zMoatMData=&zMoatCC=83&zMoatLeaf=17008&zMoatPT=1728&zMoatBP=1&zMoatURI=/default&zMoatVALUE=158760706805381697&zMoatShield=&zMoatPS=121&zMoatFR=',\n",
       "       'https://www.googletagservices.com/activeview/js/current/lidar.js?cache=r20110914',\n",
       "       'https://dntcl.qualaroo.com/frame.html',\n",
       "       'https://tpc.googlesyndication.com/sodar/sodar2/209/runner.html',\n",
       "       'https://tpc.googlesyndication.com/sodar/Enqz_20U.html',\n",
       "       'https://tpc.googlesyndication.com/safeframe/1-0-37/html/container.html',\n",
       "       'https://tpc.googlesyndication.com/safeframe/1-0-37/js/ext.js',\n",
       "       'https://tpc.googlesyndication.com/sodar/sodar2.js',\n",
       "       'https://eus.rubiconproject.com/usync.html?region=na&country=us&endpoint=us-east&p=a9us&',\n",
       "       'https://img.webmd.com/dtmcms/live/webmd/consumer_assets/site_images/amd_modules/newsletter-hover/1/hover-newsletter-counter.js',\n",
       "       'https://www.facebook.com/rsrc.php/v3/yK/r/36oG0kEj1NI.js?_nc_x=Ij3Wp8lg5Kz',\n",
       "       'https://www.facebook.com/rsrc.php/v3/y1/r/VBWHd98I2om.js?_nc_x=Ij3Wp8lg5Kz',\n",
       "       'https://pagead2.googlesyndication.com/bg/r_kJ4x66L0q9ptqPN1EZdQZJVGt7LCWecB4z-4tOz0Y.js',\n",
       "       'https://www.facebook.com/rsrc.php/v3/yg/r/A3gFHgoUMHG.js?_nc_x=Ij3Wp8lg5Kz',\n",
       "       'https://js.webmd.com/dtmcms/live/webmd/PageBuilder_Assets/JS/harmony/scripts_harmony218.js',\n",
       "       'https://gum.criteo.com/syncframe?topUrl=www.webmd.com#{%22sid%22:{%22value%22:null,%22origin%22:0},%22uid%22:{%22value%22:null,%22origin%22:0},%22optout%22:{%22value%22:false,%22origin%22:0},%22bundle%22:{%22value%22:%22MQt3jF8wT3YwemJEM1R5dmdYcmpKZkQ0R1o3b1YydFElMkYwaTNoQ1h5U1lqY2RIQmhReEo5Wk5Rb002NjI1UW50dm4wJTJGeVZUYXZ2NGJxWDhhWmxlSkxjNVklMkJ5RDQ0SUtiSjVydlVzdmVVRWxRVEdheFdmTlN3Z2o0eVlPYUxQWEpzcFdEbg%22,%22origin%22:3},%22lwid%22:{%22value%22:null,%22origin%22:0},%22tld%22:%22webmd.com%22,%22cw%22:true,%22origin%22:%22rtus%22,%22topUrl%22:%22www.webmd.com%22,%22rtusCallerId%22:158}',\n",
       "       'https://www.webmd.com/skin-problems-and-treatments/psoriasis/severe-psoriasis-19/psoriasis-treatment-options',\n",
       "       'https://js.webmd.com/dtmcms/live/webmd/PageBuilder_Assets/JS/funded-editorial/funded-editorial166.js',\n",
       "       'https://cdn.doubleverify.com/dvbs_src_internal77.js',\n",
       "       'https://rtb2.doubleverify.com/verify.js?jsCallback=__verify_callback_251170919302&jsTagObjCallback=__tagObject_callback_251170919302&num=6&ctx=10751831&cmp=23613336&plc=263452989&sid=911643&advid=&adsrv=&unit=728x90&isdvvid=&uid=251170919302&tagtype=&adID=&app=&sup=&isovv=0&gmnpo=&crt=&dup=null&brid=0&brver=&bridua=2&chro=1&hist=2&winh=694&winw=1366&wouh=768&wouw=1366&scah=768&scaw=1366&srcurlD=0&ssl=1&refD=1&htmlmsging=1&aUrlD=&m1=13&noc=2&fcifrms=10&brh=2&fwc=0&fcl=2761&flt=0&fec=517&vavbkt=&lvvn=28&dvp_idcerr=undefined&ver=126&eparams=DC4FC%3Dl9EEADTbpTauTauHHH%5DH63%3E5%5D4%40%3ETauD%3C%3A%3F%5CAC%403%3D6%3ED%5C2%3F5%5CEC62E%3E6%3FEDTauAD%40C%3A2D%3ADTauD6G6C6%5CAD%40C%3A2D%3AD%5C%60hTauAD%40C%3A2D%3AD%5CEC62E%3E6%3FE%5C%40AE%3A%40%3FDU2%26C%3Dl',\n",
       "       'https://z.moatads.com/webmddfp936579382290/moatad.js#moatClientLevel1=18551474&moatClientLevel2=2640356589&moatClientLevel3=5249911891&moatClientLevel4=138298626048&moatClientSlicer1=3312554&moatClientSlicer2=25989914&zMoatMNView=&zMoatMNRefresh=&zMoatPG=&zMoatECD=0&zMoatMGV=&zMoatMMV=&zMoatMSafety=&zMoatMData=&zMoatCC=10&zMoatLeaf=17488&zMoatPT=4121&zMoatBP=1&zMoatURI=/skin-problems-and-treatments/psoriasis/severe-psoriasis-19/psoriasis-treatment-options&zMoatVALUE=158760712677503052&zMoatShield=&zMoatPS=101&zMoatFR=',\n",
       "       'https://rtb2.doubleverify.com/verify.js?jsCallback=__verify_callback_698927746870&jsTagObjCallback=__tagObject_callback_698927746870&num=6&ctx=10751831&cmp=23613336&plc=263452989&sid=911643&advid=&adsrv=&unit=300x250&isdvvid=&uid=698927746870&tagtype=&adID=&app=&sup=&isovv=0&gmnpo=&crt=&dup=null&brid=0&brver=&bridua=2&chro=1&hist=2&winh=694&winw=1366&wouh=768&wouw=1366&scah=768&scaw=1366&srcurlD=0&ssl=1&refD=1&htmlmsging=1&aUrlD=&m1=13&noc=2&fcifrms=10&brh=2&fwc=0&fcl=2761&flt=0&fec=517&vavbkt=&lvvn=28&dvp_idcerr=undefined&ver=126&eparams=DC4FC%3Dl9EEADTbpTauTauHHH%5DH63%3E5%5D4%40%3ETauD%3C%3A%3F%5CAC%403%3D6%3ED%5C2%3F5%5CEC62E%3E6%3FEDTauAD%40C%3A2D%3ADTauD6G6C6%5CAD%40C%3A2D%3AD%5C%60hTauAD%40C%3A2D%3AD%5CEC62E%3E6%3FE%5C%40AE%3A%40%3FDU2%26C%3Dl',\n",
       "       'https://z.moatads.com/webmddfp936579382290/moatad.js#moatClientLevel1=18551474&moatClientLevel2=2640356589&moatClientLevel3=5249911891&moatClientLevel4=138298973212&moatClientSlicer1=3312554&moatClientSlicer2=25989914&zMoatMNView=&zMoatMNRefresh=&zMoatPG=&zMoatECD=0&zMoatMGV=&zMoatMMV=&zMoatMSafety=&zMoatMData=&zMoatCC=10&zMoatLeaf=17488&zMoatPT=4121&zMoatBP=1&zMoatURI=/skin-problems-and-treatments/psoriasis/severe-psoriasis-19/psoriasis-treatment-options&zMoatVALUE=158760712677503052&zMoatShield=&zMoatPS=121&zMoatFR=',\n",
       "       'https://gum.criteo.com/syncframe?topUrl=www.webmd.com#{%22sid%22:{%22value%22:null,%22origin%22:0},%22uid%22:{%22value%22:null,%22origin%22:0},%22optout%22:{%22value%22:false,%22origin%22:0},%22bundle%22:{%22value%22:%22wYUCGl8wT3YwemJEM1R5dmdYcmpKZkQ0R1p5U2Y1YWU4TTE2T05jSzdYTVExSHIlMkJmVHclMkJYbHNibzFjcTVlamlCJTJCTk1FJTJGYmk1T202VyUyQmlhTGpDWEpHMmk0WHNPdFZqT3AyTUNzZXpEMklReCUyQnRHY2pJcUhDcTFVRXhEc2NHOWVrcVlNVUYzTEt2NTIzdTJ3cncyVjRneEZBSWclM0QlM0Q%22,%22origin%22:3},%22lwid%22:{%22value%22:null,%22origin%22:0},%22tld%22:%22webmd.com%22,%22cw%22:true,%22origin%22:%22rtus%22,%22topUrl%22:%22www.webmd.com%22,%22rtusCallerId%22:321}',\n",
       "       'https://contextual.media.net/checksync.php?&vsSync=1&cs=1&hb=1&cv=37&ndec=1&cid=8CU66J63J&prvid=23%2C28%2C29%2C38%2C41%2C51%2C54%2C55%2C56%2C59%2C72%2C76%2C79%2C80%2C82%2C84%2C86%2C96%2C97%2C102%2C107%2C108%2C109%2C132%2C145%2C157%2C159%2C171%2C172%2C175%2C178%2C186%2C201%2C203%2C208%2C214%2C222%2C3003%2C3008%2C3014&rtime=4063&https=1&usp_status=0&usp_consent=1',\n",
       "       'https://z.moatads.com/webmddfp936579382290/moatad.js#moatClientLevel1=17912954&moatClientLevel2=2678096350&moatClientLevel3=5329369610&moatClientLevel4=138307516696&moatClientSlicer1=3312554&moatClientSlicer2=25989674&zMoatMNView=&zMoatMNRefresh=&zMoatPG=&zMoatECD=0&zMoatMGV=&zMoatMMV=&zMoatMSafety=&zMoatMData=&zMoatCC=83&zMoatLeaf=17008&zMoatPT=1728&zMoatBP=1&zMoatURI=/default&zMoatVALUE=158760714943399304&zMoatShield=&zMoatPS=137&zMoatFR=',\n",
       "       'https://img.webmd.com/dtmcms/live/webmd/consumer_assets/site_images/tools/coronavirus-map/js/app.js?v=1572889717',\n",
       "       'https://ad.doubleclick.net/ddm/adj/N1251450.1236WEBMD/B24026375.271692387;dc_ver=55.153;dc_eid=40004001;sz=728x90;u_sd=1;dc_adk=1027831081;ord=ts77l3;click=https%3A%2F%2Fadclick.g.doubleclick.net%2Fpcs%2Fclick%3Fxai%3DAKAOjsuD0yEB1egnhckRw66s7pJL6uYg_VydGtqiZsRn0Jz1Py5uy8Wz6hON7AmPQRGJoyzZ4z4BRPGVOCPxqa5EtHatO_xOhZ0NOyt_k6y0M0tDd9rIGy24hSve-isXJiZG2_Tt0hBXqRXhi5cFkK4B3jJgbQ2Mf-qVn7KW2mkdLtz4fETztZ5pXstoZzzwrrAoedRFod4oAVo88jFCeeQRFVOktcffIHwPPRZA0-Ll7qnEauspscWxfa4aDQTY-8bjBp9AyE5CgumEZ5Fy%26sig%3DCg0ArKJSzHwBNiAW1DYaEAE%26urlfix%3D1%26adurl%3D;dc_rfl=1,https%3A%2F%2Fwww.webmd.com%2F$0;xdt=0;crlt=!O0er_ioHj;osda=2;sttr=1545;prcl=s?',\n",
       "       'https://ad.doubleclick.net/ddm/adj/N1251450.1236WEBMD/B24026375.271614484;dc_ver=55.153;dc_eid=40004001;sz=300x250;u_sd=1;dc_adk=1526426640;ord=dp0hbt;click=https%3A%2F%2Fadclick.g.doubleclick.net%2Fpcs%2Fclick%3Fxai%3DAKAOjsu0z-AMY-arRMruJX8NnMXjMU-7AMw0ThRtxl7KIljZZU1nONSlVjf-AP1UZeYr0ZjRQRP6NFDXOlYz4xllLWY3ZUANaxsLNuS4QT6fV7-mUNzeUoUy3VmiPBVWTODkF2VxhJQmD7bz-8XtM5ce1L-avHTgbEYQaOS0vp2HdA-3hOMdnzzUC-dIvTcnQQpgO_K1xOfkSsAx_M2p4NgHvwbGhwCgeOS9biCAULUAeV33l8SN-_5DyrETPYgnbNSRxH0arVCVGjoaHn7E%26sig%3DCg0ArKJSzCifh55_33q_EAE%26urlfix%3D1%26adurl%3D;dc_rfl=1,https%3A%2F%2Fwww.webmd.com%2F$0;xdt=0;crlt=!O0er_ioHj;osda=2;sttr=1515;prcl=s?',\n",
       "       'https://s0.2mdn.net/4169376/1547068123522/gwd_webcomponents_min.js',\n",
       "       'https://s0.2mdn.net/879366/DcmEnabler_01_231.js',\n",
       "       'https://cdn3.doubleverify.com/t2tv7.html',\n",
       "       'https://cdnjs.cloudflare.com/ajax/libs/gsap/2.1.3/TweenMax.min.js',\n",
       "       'https://cdn.doubleverify.com/dv-measurements319.js',\n",
       "       'https://tps30.doubleverify.com/visit.js?bridua=2&tstype=2&eparams=DC4FC%3Dl9EEADTbpTauTauHHH%5DH63%3E5%5D4%40%3ETau%3A35%5C4C%409%3FD%5C5%3AD62D6TauF%3D46C2E%3AG6%5C4%40%3D%3AE%3ADTauF4%5C%60gTau62E%5CD%3E2CETauF4%5CAC%403%3D6%3E%5C7%40%405DU2%26C%3Dl&srcurlD=0&aUrlD=0&ssl=https:&dvp_region=30&dfs=1158&ddur=82&uid=1587607178794363&jsCallback=dvCallback_1587607178794774&dvtagver=6.1.src&navUa=Mozilla%2F5.0%20(X11%3B%20Linux%20x86_64%3B%20rv%3A72.0)%20Gecko%2F20100101%20Firefox%2F72.0&htmlmsging=1&chro=0&hist=2&winh=694&winw=1366&wouh=768&wouw=1366&scah=768&scaw=1366&jsver=319&lvvn=28&m1=13&refD=1&fwc=0&fcl=2916&flt=0&fec=669&fcifrms=8&brh=2&dvp_epl=185&noc=2&ctx=10286319&cmp=23538753&sid=308430&plc=261131889&crt=110997356&btreg=457076051&btadsrv=doubleclick&adsrv=1&advid=4169376&dvp_tuid=1275612377704',\n",
       "       'https://www.webmd.com/ibd-crohns-disease/ulcerative-colitis/uc-18/eat-smart/uc-problem-foods',\n",
       "       'https://survey.o.webmd.com/in/survey/survey140/C5213_2020018P_AT1x.asp?itype=1&prg=[InsertProgramCode]&eaid=5259405043&ecid=138299722948&esid=3312554&epid=25989914&pt=3558&hcent=1018&scent=1071&leaf=17206&art=091e9c5e8053d710&uri=/ibd-crohns-disease/ulcerative-colitis/uc-18/eat-smart/uc-problem-foods&pvid=158760717512492663',\n",
       "       'https://s0.2mdn.net/879366/express_html_inpage_rendering_lib_200_268.js',\n",
       "       'https://sb.voicefive.com/c2/6036219/rs.js#c1=3&amp;c3=23538753&amp;c4=110997356&amp;c5=261131889&amp;c11=308430&amp;c13=728x90&amp;c16=dcm',\n",
       "       'https://c.evidon.com/durly.js?;coid=273;nid=151231;ad_wxh=728x90;',\n",
       "       'https://sb.scorecardresearch.com/rs/vce_st.js',\n",
       "       'https://c.evidon.com/geo/ba.js?r181114',\n",
       "       'https://tps30.doubleverify.com/visit.js?bridua=2&tstype=2&eparams=DC4FC%3Dl9EEADTbpTauTauHHH%5DH63%3E5%5D4%40%3ETau%3A35%5C4C%409%3FD%5C5%3AD62D6TauF%3D46C2E%3AG6%5C4%40%3D%3AE%3ADTauF4%5C%60gTau62E%5CD%3E2CETauF4%5CAC%403%3D6%3E%5C7%40%405DU2%26C%3Dl&srcurlD=0&aUrlD=0&ssl=https:&dvp_region=30&dfs=1230&ddur=85&uid=1587607179180257&jsCallback=dvCallback_1587607179180278&dvtagver=6.1.src&navUa=Mozilla%2F5.0%20(X11%3B%20Linux%20x86_64%3B%20rv%3A72.0)%20Gecko%2F20100101%20Firefox%2F72.0&htmlmsging=1&chro=0&hist=2&winh=694&winw=1366&wouh=768&wouw=1366&scah=768&scaw=1366&jsver=319&lvvn=28&m1=13&refD=1&fwc=0&fcl=2916&flt=0&fec=669&fcifrms=8&brh=2&dvp_epl=185&noc=2&ctx=10286319&cmp=23538753&sid=308430&plc=261133017&crt=129642720&btreg=457076054&btadsrv=doubleclick&adsrv=1&advid=4169376&dvp_tuid=124126893186',\n",
       "       'https://sb.voicefive.com/c2/6036219/rs.js#c1=3&amp;c3=23538753&amp;c4=129642720&amp;c5=261133017&amp;c11=308430&amp;c13=300x600&amp;c16=dcm',\n",
       "       'https://c.evidon.com/durly.js?;coid=273;nid=151231;ad_wxh=300x600;',\n",
       "       'https://gum.criteo.com/syncframe?topUrl=www.webmd.com#{%22sid%22:{%22value%22:null,%22origin%22:0},%22uid%22:{%22value%22:null,%22origin%22:0},%22optout%22:{%22value%22:false,%22origin%22:0},%22bundle%22:{%22value%22:%22JztUwF8wT3YwemJEM1R5dmdYcmpKZkQ0R1p6U0VxTjZKbzhqTG5hT2xtMm1XSjJkOUE0eElBVGJBQzJiZU9WYiUyRmZibW5ISFJCVmw3TnpRa1VYalpHMVNrZHdhbVlxakcxdmVHckUyejhicVljUjI3cWVOU0ViQ25UdnZnMWNBWXklMkYyNEljdktLN1BRZE5YOWFuQUhsdmNVRHVBJTNEJTNE%22,%22origin%22:3},%22lwid%22:{%22value%22:null,%22origin%22:0},%22tld%22:%22webmd.com%22,%22cw%22:true,%22origin%22:%22rtus%22,%22topUrl%22:%22www.webmd.com%22,%22rtusCallerId%22:158}',\n",
       "       'https://js.staging.webmd.com/dtmcms/staging/webmd/consumer_assets/site_images/native-ads/careseeker/careseeker-helper.js',\n",
       "       'https://gum.criteo.com/syncframe?topUrl=www.webmd.com#{%22sid%22:{%22value%22:null,%22origin%22:0},%22uid%22:{%22value%22:null,%22origin%22:0},%22optout%22:{%22value%22:false,%22origin%22:0},%22bundle%22:{%22value%22:%22PsUIhF8wT3YwemJEM1R5dmdYcmpKZkQ0R1p3NGlBaSUyQlRabk11QkxpZGlrUTlQbjI4ajZmd1pHNnhheVlkWXkxUSUyRmk5Q0xTZFFNNU5UZWk1Nk9HY1JFaVk0WnJsYVZNRXQxUyUyQmV6NkhLem45N2JJODlPYTVIJTJGY2U1UGthb05IVDNTJTJGSjNSb3JxNWZVVGFVaVppN1djWXZjbmdBJTNEJTNE%22,%22origin%22:3},%22lwid%22:{%22value%22:null,%22origin%22:0},%22tld%22:%22webmd.com%22,%22cw%22:true,%22origin%22:%22rtus%22,%22topUrl%22:%22www.webmd.com%22,%22rtusCallerId%22:321}',\n",
       "       'https://z.moatads.com/webmddfp936579382290/moatad.js#moatClientLevel1=17912954&moatClientLevel2=2678096350&moatClientLevel3=5329369610&moatClientLevel4=138307139196&moatClientSlicer1=3312554&moatClientSlicer2=25989674&zMoatMNView=&zMoatMNRefresh=&zMoatPG=&zMoatECD=0&zMoatMGV=&zMoatMMV=&zMoatMSafety=&zMoatMData=&zMoatCC=83&zMoatLeaf=17008&zMoatPT=1728&zMoatBP=1&zMoatURI=/default&zMoatVALUE=158760720033974479&zMoatShield=&zMoatPS=137&zMoatFR=',\n",
       "       'https://img.webmd.com/dtmcms/live/webmd/consumer_assets/site_images/tools/coronavirus-map/js/app.js?v=1778571016'],\n",
       "      dtype=object)"
      ]
     },
     "execution_count": 42,
     "metadata": {},
     "output_type": "execute_result"
    }
   ],
   "source": [
    "# third party js (filter by script_url)\n",
    "js_1.script_url.unique()"
   ]
  },
  {
   "cell_type": "code",
   "execution_count": null,
   "metadata": {},
   "outputs": [],
   "source": []
  },
  {
   "cell_type": "code",
   "execution_count": null,
   "metadata": {},
   "outputs": [],
   "source": []
  },
  {
   "cell_type": "code",
   "execution_count": 63,
   "metadata": {
    "scrolled": true
   },
   "outputs": [],
   "source": [
    "js_dict = {\n",
    "  \"nytimes\": ['https://static01.nyt.com', 'https://www.nytimes.com', 'https://myaccount.nytimes.com'],\n",
    "  \"webmd\": ['https://js.webmd.com', 'https://www.webmd.com', 'https://img.webmd.com', \\\n",
    "            'https://survey.o.webmd.com', 'https://js.staging.webmd.com'],\n",
    "  \"berkeley\": ['https://www.berkeley.edu', 'https://bconnected.berkeley.edu', 'https://give.berkeley.edu', \\\n",
    "               'https://news.berkeley.edu', 'https://greatergood.berkeley.edu', 'https://matrix.berkeley.edu'\\\n",
    "              , 'https://irle.berkeley.edu', 'https://publichealth.berkeley.edu',  'https://calparents.berkeley.edu']\n",
    "}"
   ]
  },
  {
   "cell_type": "code",
   "execution_count": 64,
   "metadata": {},
   "outputs": [
    {
     "name": "stdout",
     "output_type": "stream",
     "text": [
      "(13357, 7)\n",
      "https://js.webmd.com\n",
      "(12273, 7)\n",
      "https://www.webmd.com\n",
      "(11243, 7)\n",
      "https://img.webmd.com\n",
      "(10705, 7)\n",
      "https://survey.o.webmd.com\n",
      "(10697, 7)\n",
      "https://js.staging.webmd.com\n",
      "(10691, 7)\n",
      "***********************************\n",
      "(1658, 7)\n",
      "https://www.berkeley.edu\n",
      "(858, 7)\n",
      "https://bconnected.berkeley.edu\n",
      "(858, 7)\n",
      "https://give.berkeley.edu\n",
      "(858, 7)\n",
      "https://news.berkeley.edu\n",
      "(858, 7)\n",
      "https://greatergood.berkeley.edu\n",
      "(858, 7)\n",
      "https://matrix.berkeley.edu\n",
      "(858, 7)\n",
      "https://irle.berkeley.edu\n",
      "(858, 7)\n",
      "https://publichealth.berkeley.edu\n",
      "(849, 7)\n",
      "https://calparents.berkeley.edu\n",
      "(813, 7)\n",
      "***********************************\n",
      "(5363, 7)\n",
      "https://static01.nyt.com\n",
      "(5243, 7)\n",
      "https://www.nytimes.com\n",
      "(3710, 7)\n",
      "https://myaccount.nytimes.com\n",
      "(3710, 7)\n",
      "***********************************\n"
     ]
    }
   ],
   "source": [
    "js_third_1 = js_1\n",
    "print(js_third_1.shape)\n",
    "for temp in js_dict.get(names[0]):\n",
    "    print(temp)\n",
    "    js_third_1 = js_third_1[-js_third_1.script_url.str.startswith(temp)]\n",
    "    print(js_third_1.shape)\n",
    "    \n",
    "print(\"***********************************\")\n",
    "\n",
    "js_third_2 = js_2\n",
    "print(js_third_2.shape)\n",
    "for temp in js_dict.get(names[1]):\n",
    "    print(temp)\n",
    "    js_third_2 = js_third_2[-js_third_2.script_url.str.startswith(temp)]\n",
    "    print(js_third_2.shape)\n",
    "    \n",
    "print(\"***********************************\")\n",
    "\n",
    "js_third_3 = js_3\n",
    "print(js_third_3.shape)\n",
    "for temp in js_dict.get(names[2]):\n",
    "    print(temp)\n",
    "    js_third_3 = js_third_3[-js_third_3.script_url.str.startswith(temp)]\n",
    "    print(js_third_3.shape)\n",
    "    \n",
    "print(\"***********************************\")"
   ]
  },
  {
   "cell_type": "code",
   "execution_count": 70,
   "metadata": {},
   "outputs": [],
   "source": [
    "# double check\n",
    "# webmd\n",
    "\n",
    "temp = js_third_1[-js_third_1.script_url.str.contains('doubleclick')]\n",
    "temp = temp[-temp.script_url.str.contains('moatads')]\n",
    "temp = temp[-temp.script_url.str.contains('criteo')]\n",
    "list(temp[temp.script_url.str.contains(names[0])].script_url)"
   ]
  },
  {
   "cell_type": "code",
   "execution_count": 78,
   "metadata": {},
   "outputs": [
    {
     "data": {
      "text/plain": [
       "[]"
      ]
     },
     "execution_count": 78,
     "metadata": {},
     "output_type": "execute_result"
    }
   ],
   "source": [
    "# double check\n",
    "# berkeley\n",
    "\n",
    "temp = js_third_2\n",
    "temp = temp[-temp.script_url.str.contains('youtube')]\n",
    "# temp = temp[-temp.script_url.str.contains('twitter')]\n",
    "list(temp[temp.script_url.str.contains(names[1])].script_url)"
   ]
  },
  {
   "cell_type": "code",
   "execution_count": 82,
   "metadata": {},
   "outputs": [],
   "source": [
    "# double check\n",
    "# nytimes\n",
    "\n",
    "temp = js_third_3\n",
    "temp = temp[-temp.script_url.str.contains('contextual')]\n",
    "temp = temp[-temp.script_url.str.contains('criteo')]\n",
    "list(temp[temp.script_url.str.contains(names[2])].script_url)"
   ]
  },
  {
   "cell_type": "code",
   "execution_count": 84,
   "metadata": {},
   "outputs": [],
   "source": [
    "js_third_1.to_csv('3-1-js.csv', index=False)\n",
    "js_third_2.to_csv('3-2-js.csv', index=False)\n",
    "js_third_3.to_csv('3-3-js.csv', index=False)"
   ]
  },
  {
   "cell_type": "code",
   "execution_count": null,
   "metadata": {},
   "outputs": [],
   "source": []
  },
  {
   "cell_type": "code",
   "execution_count": 10,
   "metadata": {},
   "outputs": [],
   "source": [
    "# http request"
   ]
  },
  {
   "cell_type": "code",
   "execution_count": 12,
   "metadata": {},
   "outputs": [
    {
     "data": {
      "text/html": [
       "<div>\n",
       "<style scoped>\n",
       "    .dataframe tbody tr th:only-of-type {\n",
       "        vertical-align: middle;\n",
       "    }\n",
       "\n",
       "    .dataframe tbody tr th {\n",
       "        vertical-align: top;\n",
       "    }\n",
       "\n",
       "    .dataframe thead th {\n",
       "        text-align: right;\n",
       "    }\n",
       "</style>\n",
       "<table border=\"1\" class=\"dataframe\">\n",
       "  <thead>\n",
       "    <tr style=\"text-align: right;\">\n",
       "      <th></th>\n",
       "      <th>visit_id</th>\n",
       "      <th>headers</th>\n",
       "      <th>referrer</th>\n",
       "      <th>url</th>\n",
       "      <th>time_stamp</th>\n",
       "      <th>cookies</th>\n",
       "    </tr>\n",
       "  </thead>\n",
       "  <tbody>\n",
       "    <tr>\n",
       "      <th>0</th>\n",
       "      <td>1</td>\n",
       "      <td>[[\"Host\",\"www.webmd.com\"],[\"User-Agent\",\"Mozil...</td>\n",
       "      <td></td>\n",
       "      <td>https://www.webmd.com/</td>\n",
       "      <td>2020-04-23T01:57:47.317Z</td>\n",
       "      <td></td>\n",
       "    </tr>\n",
       "    <tr>\n",
       "      <th>1</th>\n",
       "      <td>1</td>\n",
       "      <td>[[\"Host\",\"css.webmd.com\"],[\"User-Agent\",\"Mozil...</td>\n",
       "      <td>https://www.webmd.com/</td>\n",
       "      <td>https://css.webmd.com/dtmcms/live/webmd/PageBu...</td>\n",
       "      <td>2020-04-23T01:57:48.185Z</td>\n",
       "      <td>\\ci\\:\\3.12.123.145\\}; VisitorId=fe1fbf5f-34f6-...</td>\n",
       "    </tr>\n",
       "    <tr>\n",
       "      <th>2</th>\n",
       "      <td>1</td>\n",
       "      <td>[[\"Host\",\"css.webmd.com\"],[\"User-Agent\",\"Mozil...</td>\n",
       "      <td>https://www.webmd.com/</td>\n",
       "      <td>https://css.webmd.com/dtmcms/live/webmd/PageBu...</td>\n",
       "      <td>2020-04-23T01:57:48.186Z</td>\n",
       "      <td>\\ci\\:\\3.12.123.145\\}; VisitorId=fe1fbf5f-34f6-...</td>\n",
       "    </tr>\n",
       "    <tr>\n",
       "      <th>3</th>\n",
       "      <td>1</td>\n",
       "      <td>[[\"Host\",\"css.webmd.com\"],[\"User-Agent\",\"Mozil...</td>\n",
       "      <td>https://www.webmd.com/</td>\n",
       "      <td>https://css.webmd.com/dtmcms/live/webmd/PageBu...</td>\n",
       "      <td>2020-04-23T01:57:48.186Z</td>\n",
       "      <td>\\ci\\:\\3.12.123.145\\}; VisitorId=fe1fbf5f-34f6-...</td>\n",
       "    </tr>\n",
       "    <tr>\n",
       "      <th>4</th>\n",
       "      <td>1</td>\n",
       "      <td>[[\"Host\",\"js.webmd.com\"],[\"User-Agent\",\"Mozill...</td>\n",
       "      <td>https://www.webmd.com/</td>\n",
       "      <td>https://js.webmd.com/dtmcms/live/webmd/PageBui...</td>\n",
       "      <td>2020-04-23T01:57:48.187Z</td>\n",
       "      <td>\\ci\\:\\3.12.123.145\\}; VisitorId=fe1fbf5f-34f6-...</td>\n",
       "    </tr>\n",
       "    <tr>\n",
       "      <th>...</th>\n",
       "      <td>...</td>\n",
       "      <td>...</td>\n",
       "      <td>...</td>\n",
       "      <td>...</td>\n",
       "      <td>...</td>\n",
       "      <td>...</td>\n",
       "    </tr>\n",
       "    <tr>\n",
       "      <th>3036</th>\n",
       "      <td>3</td>\n",
       "      <td>[[\"Host\",\"tags.bluekai.com\"],[\"User-Agent\",\"Mo...</td>\n",
       "      <td>https://stags.bluekai.com/site/50134?ret=html&amp;...</td>\n",
       "      <td>https://tags.bluekai.com/site/4413?id=XqD3OQAA...</td>\n",
       "      <td>2020-04-23T02:03:31.910Z</td>\n",
       "      <td>bkdc=phx; bku=5LD99e4lGa8omALf</td>\n",
       "    </tr>\n",
       "    <tr>\n",
       "      <th>3037</th>\n",
       "      <td>3</td>\n",
       "      <td>[[\"Host\",\"tags.bluekai.com\"],[\"User-Agent\",\"Mo...</td>\n",
       "      <td>https://stags.bluekai.com/site/50134?ret=html&amp;...</td>\n",
       "      <td>https://tags.bluekai.com/site/4538?id=125B40BC...</td>\n",
       "      <td>2020-04-23T02:03:31.911Z</td>\n",
       "      <td>bkdc=phx; bku=5LD99e4lGa8omALf</td>\n",
       "    </tr>\n",
       "    <tr>\n",
       "      <th>3038</th>\n",
       "      <td>3</td>\n",
       "      <td>[[\"Host\",\"a.et.nytimes.com\"],[\"User-Agent\",\"Mo...</td>\n",
       "      <td>https://www.nytimes.com/</td>\n",
       "      <td>https://a.et.nytimes.com/track</td>\n",
       "      <td>2020-04-23T02:03:36.502Z</td>\n",
       "      <td>nyt-a=U_h3AgoUpt_Wrn2aOKijMQ; nyt-gdpr=0; nyt-...</td>\n",
       "    </tr>\n",
       "    <tr>\n",
       "      <th>3039</th>\n",
       "      <td>3</td>\n",
       "      <td>[[\"Host\",\"pnytimes.chartbeat.net\"],[\"User-Agen...</td>\n",
       "      <td>https://www.nytimes.com/</td>\n",
       "      <td>https://pnytimes.chartbeat.net/ping?h=nytimes....</td>\n",
       "      <td>2020-04-23T02:03:40.176Z</td>\n",
       "      <td></td>\n",
       "    </tr>\n",
       "    <tr>\n",
       "      <th>3040</th>\n",
       "      <td>3</td>\n",
       "      <td>[[\"Host\",\"a.et.nytimes.com\"],[\"User-Agent\",\"Mo...</td>\n",
       "      <td>https://www.nytimes.com/</td>\n",
       "      <td>https://a.et.nytimes.com/track</td>\n",
       "      <td>2020-04-23T02:03:41.497Z</td>\n",
       "      <td>nyt-a=U_h3AgoUpt_Wrn2aOKijMQ; nyt-gdpr=0; nyt-...</td>\n",
       "    </tr>\n",
       "  </tbody>\n",
       "</table>\n",
       "<p>3041 rows × 6 columns</p>\n",
       "</div>"
      ],
      "text/plain": [
       "      visit_id                                            headers  \\\n",
       "0            1  [[\"Host\",\"www.webmd.com\"],[\"User-Agent\",\"Mozil...   \n",
       "1            1  [[\"Host\",\"css.webmd.com\"],[\"User-Agent\",\"Mozil...   \n",
       "2            1  [[\"Host\",\"css.webmd.com\"],[\"User-Agent\",\"Mozil...   \n",
       "3            1  [[\"Host\",\"css.webmd.com\"],[\"User-Agent\",\"Mozil...   \n",
       "4            1  [[\"Host\",\"js.webmd.com\"],[\"User-Agent\",\"Mozill...   \n",
       "...        ...                                                ...   \n",
       "3036         3  [[\"Host\",\"tags.bluekai.com\"],[\"User-Agent\",\"Mo...   \n",
       "3037         3  [[\"Host\",\"tags.bluekai.com\"],[\"User-Agent\",\"Mo...   \n",
       "3038         3  [[\"Host\",\"a.et.nytimes.com\"],[\"User-Agent\",\"Mo...   \n",
       "3039         3  [[\"Host\",\"pnytimes.chartbeat.net\"],[\"User-Agen...   \n",
       "3040         3  [[\"Host\",\"a.et.nytimes.com\"],[\"User-Agent\",\"Mo...   \n",
       "\n",
       "                                               referrer  \\\n",
       "0                                                         \n",
       "1                                https://www.webmd.com/   \n",
       "2                                https://www.webmd.com/   \n",
       "3                                https://www.webmd.com/   \n",
       "4                                https://www.webmd.com/   \n",
       "...                                                 ...   \n",
       "3036  https://stags.bluekai.com/site/50134?ret=html&...   \n",
       "3037  https://stags.bluekai.com/site/50134?ret=html&...   \n",
       "3038                           https://www.nytimes.com/   \n",
       "3039                           https://www.nytimes.com/   \n",
       "3040                           https://www.nytimes.com/   \n",
       "\n",
       "                                                    url  \\\n",
       "0                                https://www.webmd.com/   \n",
       "1     https://css.webmd.com/dtmcms/live/webmd/PageBu...   \n",
       "2     https://css.webmd.com/dtmcms/live/webmd/PageBu...   \n",
       "3     https://css.webmd.com/dtmcms/live/webmd/PageBu...   \n",
       "4     https://js.webmd.com/dtmcms/live/webmd/PageBui...   \n",
       "...                                                 ...   \n",
       "3036  https://tags.bluekai.com/site/4413?id=XqD3OQAA...   \n",
       "3037  https://tags.bluekai.com/site/4538?id=125B40BC...   \n",
       "3038                     https://a.et.nytimes.com/track   \n",
       "3039  https://pnytimes.chartbeat.net/ping?h=nytimes....   \n",
       "3040                     https://a.et.nytimes.com/track   \n",
       "\n",
       "                    time_stamp  \\\n",
       "0     2020-04-23T01:57:47.317Z   \n",
       "1     2020-04-23T01:57:48.185Z   \n",
       "2     2020-04-23T01:57:48.186Z   \n",
       "3     2020-04-23T01:57:48.186Z   \n",
       "4     2020-04-23T01:57:48.187Z   \n",
       "...                        ...   \n",
       "3036  2020-04-23T02:03:31.910Z   \n",
       "3037  2020-04-23T02:03:31.911Z   \n",
       "3038  2020-04-23T02:03:36.502Z   \n",
       "3039  2020-04-23T02:03:40.176Z   \n",
       "3040  2020-04-23T02:03:41.497Z   \n",
       "\n",
       "                                                cookies  \n",
       "0                                                        \n",
       "1     \\ci\\:\\3.12.123.145\\}; VisitorId=fe1fbf5f-34f6-...  \n",
       "2     \\ci\\:\\3.12.123.145\\}; VisitorId=fe1fbf5f-34f6-...  \n",
       "3     \\ci\\:\\3.12.123.145\\}; VisitorId=fe1fbf5f-34f6-...  \n",
       "4     \\ci\\:\\3.12.123.145\\}; VisitorId=fe1fbf5f-34f6-...  \n",
       "...                                                 ...  \n",
       "3036                     bkdc=phx; bku=5LD99e4lGa8omALf  \n",
       "3037                     bkdc=phx; bku=5LD99e4lGa8omALf  \n",
       "3038  nyt-a=U_h3AgoUpt_Wrn2aOKijMQ; nyt-gdpr=0; nyt-...  \n",
       "3039                                                     \n",
       "3040  nyt-a=U_h3AgoUpt_Wrn2aOKijMQ; nyt-gdpr=0; nyt-...  \n",
       "\n",
       "[3041 rows x 6 columns]"
      ]
     },
     "execution_count": 12,
     "metadata": {},
     "output_type": "execute_result"
    }
   ],
   "source": [
    "def find_cookie(x):\n",
    "    ls = x.replace('\"','').split('],[')\n",
    "    for l in ls:\n",
    "        ta = l.replace(']]','').split(',')\n",
    "        if \"Cookie\" in ta:\n",
    "            return ta[-1]\n",
    "    return ''\n",
    "\n",
    "http_req_cookies = list(map(lambda x: find_cookie(x), http_requests.headers.tolist()))\n",
    "\n",
    "http_requests[\"cookies\"] = http_req_cookies\n",
    "\n",
    "http_requests"
   ]
  },
  {
   "cell_type": "code",
   "execution_count": null,
   "metadata": {},
   "outputs": [],
   "source": []
  },
  {
   "cell_type": "code",
   "execution_count": 13,
   "metadata": {},
   "outputs": [],
   "source": [
    "http_request_1 = http_requests[http_requests.visit_id == 1]\n",
    "http_request_2 = http_requests[http_requests.visit_id == 2]\n",
    "http_request_3 = http_requests[http_requests.visit_id == 3]"
   ]
  },
  {
   "cell_type": "code",
   "execution_count": 14,
   "metadata": {},
   "outputs": [],
   "source": [
    "# http_request_1[http_request_1.url.str.contains(names[0])].url.unique()"
   ]
  },
  {
   "cell_type": "code",
   "execution_count": 15,
   "metadata": {},
   "outputs": [],
   "source": [
    "# http_request (filter by url)"
   ]
  },
  {
   "cell_type": "code",
   "execution_count": 16,
   "metadata": {},
   "outputs": [],
   "source": [
    "http_dict = {\n",
    "  \"nytimes\": ['https://www.nytimes.com', 'https://nytimes.com', 'https://a.et.nytimes', 'https://et.nytimes.com','https://static01.nyt.com', \\\n",
    "              'https://a.nytimes.com' ,'https://g1.nyt.com', 'https://als-svc.nytimes.com', 'https://content.api.nytimes.com', 'https://purr.nytimes.com',\\\n",
    "              'https://samizdat-graphql.nytimes.com',  'https://meter-svc.nytimes.com',  'https://mwcm.nytimes.com',  'https://myaccount.nytimes.com'],\n",
    "  \"webmd\": ['https://www.webmd.com', 'https://css.webmd.com', 'https://js.webmd.com','https://img.webmd.com',  'http://img.webmd.com',\\\n",
    "            'https://ssl.o.webmd.com' , 'https://survey.o.webmd.com', 'https://js.staging.webmd.com', 'https://css.staging.webmd.com'],\n",
    "  \"berkeley\": ['https://www.berkeley.edu', 'https://news.berkeley.edu', 'https://matrix.berkeley.edu', 'http://give.berkeley.edu', \\\n",
    "               'http://bconnected.berkeley.edu', 'https://bconnected.berkeley.edu', 'https://greatergood.berkeley.edu', \\\n",
    "               'https://irle.berkeley.edu',  'https://publichealth.berkeley.edu', 'https://calparents.berkeley.edu',  \\\n",
    "               'http://vcue.berkeley.edu','https://vcue.berkeley.edu', 'http://events.berkeley.edu','https://events.berkeley.edu']\n",
    "}"
   ]
  },
  {
   "cell_type": "code",
   "execution_count": 17,
   "metadata": {},
   "outputs": [
    {
     "name": "stdout",
     "output_type": "stream",
     "text": [
      "(1947, 6)\n",
      "https://www.webmd.com\n",
      "(1921, 6)\n",
      "https://css.webmd.com\n",
      "(1877, 6)\n",
      "https://js.webmd.com\n",
      "(1864, 6)\n",
      "https://img.webmd.com\n",
      "(1563, 6)\n",
      "http://img.webmd.com\n",
      "(1563, 6)\n",
      "https://ssl.o.webmd.com\n",
      "(1555, 6)\n",
      "https://survey.o.webmd.com\n",
      "(1554, 6)\n",
      "https://js.staging.webmd.com\n",
      "(1552, 6)\n",
      "https://css.staging.webmd.com\n",
      "(1551, 6)\n",
      "***********************************\n",
      "(355, 6)\n",
      "https://www.berkeley.edu\n",
      "(290, 6)\n",
      "https://news.berkeley.edu\n",
      "(289, 6)\n",
      "https://matrix.berkeley.edu\n",
      "(289, 6)\n",
      "http://give.berkeley.edu\n",
      "(289, 6)\n",
      "http://bconnected.berkeley.edu\n",
      "(289, 6)\n",
      "https://bconnected.berkeley.edu\n",
      "(289, 6)\n",
      "https://greatergood.berkeley.edu\n",
      "(289, 6)\n",
      "https://irle.berkeley.edu\n",
      "(289, 6)\n",
      "https://publichealth.berkeley.edu\n",
      "(281, 6)\n",
      "https://calparents.berkeley.edu\n",
      "(220, 6)\n",
      "http://vcue.berkeley.edu\n",
      "(220, 6)\n",
      "https://vcue.berkeley.edu\n",
      "(220, 6)\n",
      "http://events.berkeley.edu\n",
      "(220, 6)\n",
      "https://events.berkeley.edu\n",
      "(220, 6)\n",
      "special (175, 6)\n",
      "***********************************\n",
      "(739, 6)\n",
      "https://www.nytimes.com\n",
      "(575, 6)\n",
      "https://nytimes.com\n",
      "(573, 6)\n",
      "https://a.et.nytimes\n",
      "(533, 6)\n",
      "https://et.nytimes.com\n",
      "(508, 6)\n",
      "https://static01.nyt.com\n",
      "(464, 6)\n",
      "https://a.nytimes.com\n",
      "(462, 6)\n",
      "https://g1.nyt.com\n",
      "(449, 6)\n",
      "https://als-svc.nytimes.com\n",
      "(447, 6)\n",
      "https://content.api.nytimes.com\n",
      "(408, 6)\n",
      "https://purr.nytimes.com\n",
      "(406, 6)\n",
      "https://samizdat-graphql.nytimes.com\n",
      "(403, 6)\n",
      "https://meter-svc.nytimes.com\n",
      "(401, 6)\n",
      "https://mwcm.nytimes.com\n",
      "(399, 6)\n",
      "https://myaccount.nytimes.com\n",
      "(399, 6)\n",
      "***********************************\n"
     ]
    }
   ],
   "source": [
    "http_request_third_1 = http_request_1\n",
    "print(http_request_third_1.shape)\n",
    "for temp in http_dict.get(names[0]):\n",
    "    print(temp)\n",
    "    http_request_third_1 = http_request_third_1[-http_request_third_1.url.str.startswith(temp)]\n",
    "    print(http_request_third_1.shape)\n",
    "    \n",
    "print(\"***********************************\")\n",
    "\n",
    "http_request_third_2 = http_request_2\n",
    "print(http_request_third_2.shape)\n",
    "for temp in http_dict.get(names[1]):\n",
    "    print(temp)\n",
    "    http_request_third_2 = http_request_third_2[-http_request_third_2.url.str.startswith(temp)]\n",
    "    print(http_request_third_2.shape)\n",
    "\n",
    "http_request_third_2 = http_request_third_2[-http_request_third_2.url.str.contains(\"publichealth.berkeley.edu\")]\n",
    "print(\"special\", http_request_third_2.shape)\n",
    "\n",
    "print(\"***********************************\")\n",
    "\n",
    "\n",
    "http_request_third_3 = http_request_3\n",
    "print(http_request_third_3.shape)\n",
    "for temp in http_dict.get(names[2]):\n",
    "    print(temp)\n",
    "    http_request_third_3 = http_request_third_3[-http_request_third_3.url.str.startswith(temp)]\n",
    "    print(http_request_third_3.shape)\n",
    "    \n",
    "print(\"***********************************\")\n",
    "\n"
   ]
  },
  {
   "cell_type": "code",
   "execution_count": 106,
   "metadata": {},
   "outputs": [],
   "source": [
    "# double check\n",
    "# list(http_request_third_1[http_request_third_1.url.str.contains('webmd')].url)\n",
    "\n",
    "temp = http_request_third_1\n",
    "temp = temp[-temp.url.str.contains('facebook')]\n",
    "temp = temp[-temp.url.str.contains('pinterest')]\n",
    "temp = temp[-temp.url.str.contains('criteo')]\n",
    "temp = temp[-temp.url.str.contains('liadm')]\n",
    "temp = temp[-temp.url.str.contains('pagead2')]\n",
    "temp = temp[-temp.url.str.contains('media.net')]\n",
    "temp = temp[-temp.url.str.contains('doubleclick')]\n",
    "temp = temp[-temp.url.str.contains('moatads')]\n",
    "temp = temp[-temp.url.str.contains('webmddfp936579382290')]\n",
    "temp = temp[-temp.url.str.contains('scorecardresearch')]\n",
    "temp = temp[-temp.url.str.contains('trustarc')]\n",
    "temp = temp[-temp.url.str.contains('omtrdc')]\n",
    "temp = temp[-temp.url.str.contains('doubleverify')]\n",
    "temp = temp[-temp.url.str.contains('ibclick.stream')]\n",
    "\n",
    "list(temp[temp.url.str.contains(names[0])].url)"
   ]
  },
  {
   "cell_type": "code",
   "execution_count": 116,
   "metadata": {},
   "outputs": [],
   "source": [
    "# double check\n",
    "# berkeley\n",
    "\n",
    "temp = http_request_third_2\n",
    "temp = temp[-temp.url.str.contains('facebook')]\n",
    "temp = temp[-temp.url.str.contains('typekit')]\n",
    "list(temp[temp.url.str.contains(names[1])].url)"
   ]
  },
  {
   "cell_type": "code",
   "execution_count": 127,
   "metadata": {},
   "outputs": [],
   "source": [
    "# media.net - adexchange\n",
    "\n",
    "# double check\n",
    "# nytimes\n",
    "\n",
    "temp = http_request_third_3\n",
    "temp = temp[-temp.url.str.contains('contextual')]\n",
    "temp = temp[-temp.url.str.contains('media.net')]\n",
    "temp = temp[-temp.url.str.contains('scorecardresearch')]\n",
    "temp = temp[-temp.url.str.contains('google-analytics')]\n",
    "temp = temp[-temp.url.str.contains('bluekai')]\n",
    "temp = temp[-temp.url.str.contains('chartbeat')]\n",
    "temp = temp[-temp.url.str.contains('tpcserve')]\n",
    "temp = temp[-temp.url.str.contains('doubleclick')]\n",
    "temp = temp[-temp.url.str.contains('amazon-adsystem')]\n",
    "\n",
    "list(temp[temp.url.str.contains(names[2])].url)"
   ]
  },
  {
   "cell_type": "code",
   "execution_count": null,
   "metadata": {
    "scrolled": true
   },
   "outputs": [],
   "source": []
  },
  {
   "cell_type": "code",
   "execution_count": 18,
   "metadata": {},
   "outputs": [],
   "source": [
    "http_request_third_1.to_csv('3-1-httprequest.csv', index=False)\n",
    "http_request_third_2.to_csv('3-2-httprequest.csv', index=False)\n",
    "http_request_third_3.to_csv('3-3-httprequest.csv', index=False)"
   ]
  },
  {
   "cell_type": "code",
   "execution_count": null,
   "metadata": {},
   "outputs": [],
   "source": []
  },
  {
   "cell_type": "code",
   "execution_count": null,
   "metadata": {},
   "outputs": [],
   "source": []
  },
  {
   "cell_type": "code",
   "execution_count": 5,
   "metadata": {},
   "outputs": [
    {
     "data": {
      "text/html": [
       "<div>\n",
       "<style scoped>\n",
       "    .dataframe tbody tr th:only-of-type {\n",
       "        vertical-align: middle;\n",
       "    }\n",
       "\n",
       "    .dataframe tbody tr th {\n",
       "        vertical-align: top;\n",
       "    }\n",
       "\n",
       "    .dataframe thead th {\n",
       "        text-align: right;\n",
       "    }\n",
       "</style>\n",
       "<table border=\"1\" class=\"dataframe\">\n",
       "  <thead>\n",
       "    <tr style=\"text-align: right;\">\n",
       "      <th></th>\n",
       "      <th>Exp</th>\n",
       "      <th>Websites</th>\n",
       "    </tr>\n",
       "  </thead>\n",
       "  <tbody>\n",
       "    <tr>\n",
       "      <th>0</th>\n",
       "      <td>1</td>\n",
       "      <td>['nytimes', 'webmd', 'berkeley']</td>\n",
       "    </tr>\n",
       "    <tr>\n",
       "      <th>1</th>\n",
       "      <td>2</td>\n",
       "      <td>['webmd', 'nytimes', 'berkeley']</td>\n",
       "    </tr>\n",
       "  </tbody>\n",
       "</table>\n",
       "</div>"
      ],
      "text/plain": [
       "   Exp                          Websites\n",
       "0    1  ['nytimes', 'webmd', 'berkeley']\n",
       "1    2  ['webmd', 'nytimes', 'berkeley']"
      ]
     },
     "execution_count": 5,
     "metadata": {},
     "output_type": "execute_result"
    }
   ],
   "source": [
    "experiments_df = pd.DataFrame(pd.read_csv('experiments.csv')  , columns = ['Exp', 'Websites']) \n",
    "experiments_df"
   ]
  },
  {
   "cell_type": "code",
   "execution_count": 15,
   "metadata": {},
   "outputs": [
    {
     "data": {
      "text/html": [
       "<div>\n",
       "<style scoped>\n",
       "    .dataframe tbody tr th:only-of-type {\n",
       "        vertical-align: middle;\n",
       "    }\n",
       "\n",
       "    .dataframe tbody tr th {\n",
       "        vertical-align: top;\n",
       "    }\n",
       "\n",
       "    .dataframe thead th {\n",
       "        text-align: right;\n",
       "    }\n",
       "</style>\n",
       "<table border=\"1\" class=\"dataframe\">\n",
       "  <thead>\n",
       "    <tr style=\"text-align: right;\">\n",
       "      <th></th>\n",
       "      <th>Exp</th>\n",
       "      <th>Websites</th>\n",
       "    </tr>\n",
       "  </thead>\n",
       "  <tbody>\n",
       "    <tr>\n",
       "      <th>0</th>\n",
       "      <td>1</td>\n",
       "      <td>['nytimes', 'webmd', 'berkeley']</td>\n",
       "    </tr>\n",
       "    <tr>\n",
       "      <th>1</th>\n",
       "      <td>2</td>\n",
       "      <td>['webmd', 'nytimes', 'berkeley']</td>\n",
       "    </tr>\n",
       "    <tr>\n",
       "      <th>0</th>\n",
       "      <td>3</td>\n",
       "      <td>[webmd, berkeley, nytimes]</td>\n",
       "    </tr>\n",
       "  </tbody>\n",
       "</table>\n",
       "</div>"
      ],
      "text/plain": [
       "   Exp                          Websites\n",
       "0    1  ['nytimes', 'webmd', 'berkeley']\n",
       "1    2  ['webmd', 'nytimes', 'berkeley']\n",
       "0    3        [webmd, berkeley, nytimes]"
      ]
     },
     "execution_count": 15,
     "metadata": {},
     "output_type": "execute_result"
    }
   ],
   "source": [
    "experiment_num = 3\n",
    "\n",
    "temp = pd.DataFrame([[experiment_num, names]], columns = ['Exp', 'Websites']) \n",
    "\n",
    "experiments_df = pd.concat([experiments_df,temp])\n",
    "\n",
    "experiments_df\n"
   ]
  },
  {
   "cell_type": "code",
   "execution_count": 16,
   "metadata": {},
   "outputs": [],
   "source": [
    "experiments_df.to_csv('experiments.csv', index=False)\n",
    "\n"
   ]
  },
  {
   "cell_type": "code",
   "execution_count": null,
   "metadata": {},
   "outputs": [],
   "source": []
  },
  {
   "cell_type": "code",
   "execution_count": null,
   "metadata": {},
   "outputs": [],
   "source": []
  }
 ],
 "metadata": {
  "kernelspec": {
   "display_name": "Python 3",
   "language": "python",
   "name": "python3"
  },
  "language_info": {
   "codemirror_mode": {
    "name": "ipython",
    "version": 3
   },
   "file_extension": ".py",
   "mimetype": "text/x-python",
   "name": "python",
   "nbconvert_exporter": "python",
   "pygments_lexer": "ipython3",
   "version": "3.7.6"
  }
 },
 "nbformat": 4,
 "nbformat_minor": 2
}
