{
 "cells": [
  {
   "cell_type": "code",
   "execution_count": 1,
   "metadata": {},
   "outputs": [],
   "source": [
    "import numpy as np\n",
    "import pandas as pd\n",
    "import sqlite3"
   ]
  },
  {
   "cell_type": "code",
   "execution_count": 4,
   "metadata": {},
   "outputs": [],
   "source": [
    "conn = sqlite3.connect(\"./4-22-exp4/crawl-data.sqlite\")"
   ]
  },
  {
   "cell_type": "code",
   "execution_count": 5,
   "metadata": {},
   "outputs": [],
   "source": [
    "# cur = conn.cursor()\n",
    "javascript_cookies = pd.read_sql_query(\"select visit_id, record_type, change_cause, host, name, value, \\\n",
    "time_stamp from javascript_cookies;\", conn)"
   ]
  },
  {
   "cell_type": "code",
   "execution_count": 6,
   "metadata": {},
   "outputs": [],
   "source": [
    "http_responses = pd.read_sql_query(\"select visit_id, url, method, headers, time_stamp from http_responses where response_status == 200;\", conn)"
   ]
  },
  {
   "cell_type": "code",
   "execution_count": 7,
   "metadata": {},
   "outputs": [],
   "source": [
    "http_requests = pd.read_sql_query(\"select visit_id, headers, referrer, Url, time_stamp from http_requests;\", conn)"
   ]
  },
  {
   "cell_type": "code",
   "execution_count": 8,
   "metadata": {},
   "outputs": [],
   "source": [
    "javascript = pd.read_sql_query(\"select visit_id, script_url, symbol, operation, value, arguments, time_stamp from javascript;\", conn)"
   ]
  },
  {
   "cell_type": "code",
   "execution_count": 9,
   "metadata": {},
   "outputs": [],
   "source": [
    "site_visits = pd.read_sql_query(\"select visit_id, site_url from site_visits;\", conn)"
   ]
  },
  {
   "cell_type": "code",
   "execution_count": 10,
   "metadata": {},
   "outputs": [],
   "source": [
    "conn.close()"
   ]
  },
  {
   "cell_type": "code",
   "execution_count": 11,
   "metadata": {},
   "outputs": [
    {
     "data": {
      "text/plain": [
       "['berkeley', 'webmd', 'nytimes']"
      ]
     },
     "execution_count": 11,
     "metadata": {},
     "output_type": "execute_result"
    }
   ],
   "source": [
    "names = list(map(lambda x: x.split('.')[1], list(site_visits.site_url)))\n",
    "names"
   ]
  },
  {
   "cell_type": "code",
   "execution_count": 12,
   "metadata": {},
   "outputs": [],
   "source": [
    "cookies_dict = {\n",
    "  \"nytimes\": ['.nytimes.com', '.et.nytimes.com', 'www.nytimes.com', '.a.nytimes.com', 'static01.nyt.com'],\n",
    "  \"webmd\": ['.www.webmd.com', '.webmd.com', '.css.webmd.com', '.js.webmd.com','.img.webmd.com', 'www.webmd.com', 'survey.o.webmd.com', '.staging.webmd.com'],\n",
    "  \"berkeley\": ['.berkeley.edu', '.www.berkeley.edu', 'www.berkeley.edu', 'matrix.berkeley.edu', \\\n",
    "               'give.berkeley.edu', 'news.berkeley.edu', '.news.berkeley.edu', 'bconnected.berkeley.edu',\\\n",
    "               '.publichealth.berkeley.edu', 'greatergood.berkeley.edu']\n",
    "}"
   ]
  },
  {
   "cell_type": "code",
   "execution_count": 13,
   "metadata": {},
   "outputs": [],
   "source": [
    "js_cookies_1 = javascript_cookies[javascript_cookies.visit_id == 1]\n",
    "js_cookies_2 = javascript_cookies[javascript_cookies.visit_id == 2]\n",
    "js_cookies_3 = javascript_cookies[javascript_cookies.visit_id == 3]"
   ]
  },
  {
   "cell_type": "code",
   "execution_count": 14,
   "metadata": {},
   "outputs": [
    {
     "data": {
      "text/plain": [
       "array(['.berkeley.edu', '.www.berkeley.edu',\n",
       "       '8343.global.siteimproveanalytics.io', 'www.berkeley.edu',\n",
       "       'vcue.berkeley.edu', '.events.berkeley.edu', '.youtube.com',\n",
       "       '.linkedin.com', '.www.linkedin.com', '.doubleclick.net'],\n",
       "      dtype=object)"
      ]
     },
     "execution_count": 14,
     "metadata": {},
     "output_type": "execute_result"
    }
   ],
   "source": [
    "# third party cookies (filter by host)\n",
    "js_cookies_1.host.unique()"
   ]
  },
  {
   "cell_type": "code",
   "execution_count": 15,
   "metadata": {
    "scrolled": false
   },
   "outputs": [
    {
     "name": "stdout",
     "output_type": "stream",
     "text": [
      "(79, 7)\n",
      ".berkeley.edu\n",
      "(29, 7)\n",
      ".www.berkeley.edu\n",
      "(28, 7)\n",
      "www.berkeley.edu\n",
      "(20, 7)\n",
      "matrix.berkeley.edu\n",
      "(20, 7)\n",
      "give.berkeley.edu\n",
      "(20, 7)\n",
      "news.berkeley.edu\n",
      "(20, 7)\n",
      ".news.berkeley.edu\n",
      "(20, 7)\n",
      "bconnected.berkeley.edu\n",
      "(20, 7)\n",
      ".publichealth.berkeley.edu\n",
      "(20, 7)\n",
      "greatergood.berkeley.edu\n",
      "(20, 7)\n",
      "***********************************\n",
      "(1495, 7)\n",
      ".www.webmd.com\n",
      "(1494, 7)\n",
      ".webmd.com\n",
      "(1161, 7)\n",
      ".css.webmd.com\n",
      "(1160, 7)\n",
      ".js.webmd.com\n",
      "(1159, 7)\n",
      ".img.webmd.com\n",
      "(1154, 7)\n",
      "www.webmd.com\n",
      "(1048, 7)\n",
      "survey.o.webmd.com\n",
      "(1046, 7)\n",
      ".staging.webmd.com\n",
      "(1045, 7)\n",
      "***********************************\n",
      "(1102, 7)\n",
      ".nytimes.com\n",
      "(684, 7)\n",
      ".et.nytimes.com\n",
      "(417, 7)\n",
      "www.nytimes.com\n",
      "(349, 7)\n",
      ".a.nytimes.com\n",
      "(335, 7)\n",
      "static01.nyt.com\n",
      "(324, 7)\n"
     ]
    }
   ],
   "source": [
    "js_cookies_third_1 = js_cookies_1\n",
    "print(js_cookies_third_1.shape)\n",
    "\n",
    "for temp in cookies_dict.get(names[0]):\n",
    "    print(temp)\n",
    "    # js_cookies_third_1 = js_cookies_third_1[-js_cookies_third_1.host.str.contains(temp)]\n",
    "    js_cookies_third_1 = js_cookies_third_1[-js_cookies_third_1.host.str.match(temp)]\n",
    "    print(js_cookies_third_1.shape)\n",
    "\n",
    "print(\"***********************************\")\n",
    "\n",
    "js_cookies_third_2 = js_cookies_2\n",
    "print(js_cookies_third_2.shape)\n",
    "\n",
    "for temp in cookies_dict.get(names[1]):\n",
    "    print(temp)\n",
    "    js_cookies_third_2 = js_cookies_third_2[-js_cookies_third_2.host.str.match(temp)]\n",
    "    print(js_cookies_third_2.shape)    \n",
    "    \n",
    "print(\"***********************************\")\n",
    "\n",
    "js_cookies_third_3 = js_cookies_3\n",
    "print(js_cookies_third_3.shape)\n",
    "\n",
    "for temp in cookies_dict.get(names[2]):\n",
    "    print(temp)\n",
    "    js_cookies_third_3 = js_cookies_third_3[-js_cookies_third_3.host.str.match(temp)]\n",
    "    print(js_cookies_third_3.shape)\n"
   ]
  },
  {
   "cell_type": "code",
   "execution_count": 16,
   "metadata": {},
   "outputs": [
    {
     "data": {
      "text/html": [
       "<div>\n",
       "<style scoped>\n",
       "    .dataframe tbody tr th:only-of-type {\n",
       "        vertical-align: middle;\n",
       "    }\n",
       "\n",
       "    .dataframe tbody tr th {\n",
       "        vertical-align: top;\n",
       "    }\n",
       "\n",
       "    .dataframe thead th {\n",
       "        text-align: right;\n",
       "    }\n",
       "</style>\n",
       "<table border=\"1\" class=\"dataframe\">\n",
       "  <thead>\n",
       "    <tr style=\"text-align: right;\">\n",
       "      <th></th>\n",
       "      <th>visit_id</th>\n",
       "      <th>record_type</th>\n",
       "      <th>change_cause</th>\n",
       "      <th>host</th>\n",
       "      <th>name</th>\n",
       "      <th>value</th>\n",
       "      <th>time_stamp</th>\n",
       "    </tr>\n",
       "  </thead>\n",
       "  <tbody>\n",
       "  </tbody>\n",
       "</table>\n",
       "</div>"
      ],
      "text/plain": [
       "Empty DataFrame\n",
       "Columns: [visit_id, record_type, change_cause, host, name, value, time_stamp]\n",
       "Index: []"
      ]
     },
     "execution_count": 16,
     "metadata": {},
     "output_type": "execute_result"
    }
   ],
   "source": [
    "# double check\n",
    "js_cookies_third_1[js_cookies_third_1.host.str.contains(names[0])]\n",
    "js_cookies_third_2[js_cookies_third_2.host.str.contains(names[1])]\n",
    "js_cookies_third_3[js_cookies_third_3.host.str.contains(names[2])]"
   ]
  },
  {
   "cell_type": "code",
   "execution_count": 17,
   "metadata": {},
   "outputs": [],
   "source": [
    "js_cookies_third_1.to_csv('4-1-cookies.csv', index=False)\n",
    "js_cookies_third_2.to_csv('4-2-cookies.csv', index=False)\n",
    "js_cookies_third_3.to_csv('4-3-cookies.csv', index=False)"
   ]
  },
  {
   "cell_type": "code",
   "execution_count": null,
   "metadata": {},
   "outputs": [],
   "source": []
  },
  {
   "cell_type": "code",
   "execution_count": null,
   "metadata": {},
   "outputs": [],
   "source": []
  },
  {
   "cell_type": "code",
   "execution_count": 18,
   "metadata": {},
   "outputs": [],
   "source": [
    "js_1 = javascript[javascript.visit_id == 1]\n",
    "js_2 = javascript[javascript.visit_id == 2]\n",
    "js_3 = javascript[javascript.visit_id == 3]"
   ]
  },
  {
   "cell_type": "code",
   "execution_count": 19,
   "metadata": {},
   "outputs": [
    {
     "data": {
      "text/plain": [
       "array(['https://use.typekit.net/zpy2xov.js',\n",
       "       'https://ssl.google-analytics.com/ga.js',\n",
       "       'https://connect.facebook.net/en_UK/all.js',\n",
       "       'https://s.ytimg.com/yts/jsbin/www-widgetapi-vflTDS0tW/www-widgetapi.js',\n",
       "       'https://siteimproveanalytics.com/js/siteanalyze_8343.js',\n",
       "       'https://connect.facebook.net/en_US/all.js?hash=e6605ed997e83c2fa3601dfcb11dae61',\n",
       "       'https://www.berkeley.edu/',\n",
       "       'https://vcue.berkeley.edu/sites/default/files/js/js_EebRuRXFlkaf356V0T2K_8cnUVfCKesNTxdvvPSEhCM.js',\n",
       "       'https://vcue.berkeley.edu/sites/default/files/js/js_CplP3uaSe7aRXQ9aiBD3b56wkeieD2nerD94Kv9mV3k.js',\n",
       "       'https://www.google-analytics.com/analytics.js',\n",
       "       'https://www.youtube.com/embed/https://www.youtube.com/watch?v=3_tTbvyHDa0?autoplay=0&controls=2&modestbranding=1&showinfo=0&ohide=1&enablejsapi=1&wmode=transparent&origin=http%3A%2F%2Fwww.berkeley.edu',\n",
       "       'https://www.youtube.com/yts/jsbin/www-embed-player-vfl4a1sG9/www-embed-player.js',\n",
       "       'https://www.youtube.com/s/player/bfb2a3b4/player_ias.vflset/en_US/base.js',\n",
       "       'https://use.fontawesome.com/webfontloader/1.6.24/webfontloader.js'],\n",
       "      dtype=object)"
      ]
     },
     "execution_count": 19,
     "metadata": {},
     "output_type": "execute_result"
    }
   ],
   "source": [
    "# third party js (filter by script_url)\n",
    "js_1.script_url.unique()"
   ]
  },
  {
   "cell_type": "code",
   "execution_count": null,
   "metadata": {},
   "outputs": [],
   "source": []
  },
  {
   "cell_type": "code",
   "execution_count": null,
   "metadata": {},
   "outputs": [],
   "source": []
  },
  {
   "cell_type": "code",
   "execution_count": 27,
   "metadata": {
    "scrolled": true
   },
   "outputs": [],
   "source": [
    "js_dict = {\n",
    "  \"nytimes\": ['https://static01.nyt.com', 'https://www.nytimes.com', 'https://myaccount.nytimes.com'],\n",
    "  \"webmd\": ['https://js.webmd.com', 'https://www.webmd.com', 'https://img.webmd.com', \\\n",
    "            'https://survey.o.webmd.com', 'https://js.staging.webmd.com'],\n",
    "  \"berkeley\": ['https://www.berkeley.edu', 'https://bconnected.berkeley.edu', 'https://give.berkeley.edu', \\\n",
    "               'https://news.berkeley.edu', 'https://greatergood.berkeley.edu', 'https://matrix.berkeley.edu', \\\n",
    "               'https://irle.berkeley.edu', 'https://publichealth.berkeley.edu',  'https://calparents.berkeley.edu',\\\n",
    "               'https://vcue.berkeley.edu']\n",
    "}"
   ]
  },
  {
   "cell_type": "code",
   "execution_count": 28,
   "metadata": {},
   "outputs": [
    {
     "name": "stdout",
     "output_type": "stream",
     "text": [
      "(1346, 7)\n",
      "https://www.berkeley.edu\n",
      "(546, 7)\n",
      "https://bconnected.berkeley.edu\n",
      "(546, 7)\n",
      "https://give.berkeley.edu\n",
      "(546, 7)\n",
      "https://news.berkeley.edu\n",
      "(546, 7)\n",
      "https://greatergood.berkeley.edu\n",
      "(546, 7)\n",
      "https://matrix.berkeley.edu\n",
      "(546, 7)\n",
      "https://irle.berkeley.edu\n",
      "(546, 7)\n",
      "https://publichealth.berkeley.edu\n",
      "(546, 7)\n",
      "https://calparents.berkeley.edu\n",
      "(546, 7)\n",
      "https://vcue.berkeley.edu\n",
      "(544, 7)\n",
      "***********************************\n",
      "(11738, 7)\n",
      "https://js.webmd.com\n",
      "(10818, 7)\n",
      "https://www.webmd.com\n",
      "(9798, 7)\n",
      "https://img.webmd.com\n",
      "(9283, 7)\n",
      "https://survey.o.webmd.com\n",
      "(9275, 7)\n",
      "https://js.staging.webmd.com\n",
      "(9275, 7)\n",
      "***********************************\n",
      "(15071, 7)\n",
      "https://static01.nyt.com\n",
      "(14705, 7)\n",
      "https://www.nytimes.com\n",
      "(10699, 7)\n",
      "https://myaccount.nytimes.com\n",
      "(10689, 7)\n",
      "***********************************\n"
     ]
    }
   ],
   "source": [
    "js_third_1 = js_1\n",
    "print(js_third_1.shape)\n",
    "for temp in js_dict.get(names[0]):\n",
    "    print(temp)\n",
    "    js_third_1 = js_third_1[-js_third_1.script_url.str.startswith(temp)]\n",
    "    print(js_third_1.shape)\n",
    "    \n",
    "print(\"***********************************\")\n",
    "\n",
    "js_third_2 = js_2\n",
    "print(js_third_2.shape)\n",
    "for temp in js_dict.get(names[1]):\n",
    "    print(temp)\n",
    "    js_third_2 = js_third_2[-js_third_2.script_url.str.startswith(temp)]\n",
    "    print(js_third_2.shape)\n",
    "    \n",
    "print(\"***********************************\")\n",
    "\n",
    "js_third_3 = js_3\n",
    "print(js_third_3.shape)\n",
    "for temp in js_dict.get(names[2]):\n",
    "    print(temp)\n",
    "    js_third_3 = js_third_3[-js_third_3.script_url.str.startswith(temp)]\n",
    "    print(js_third_3.shape)\n",
    "    \n",
    "print(\"***********************************\")"
   ]
  },
  {
   "cell_type": "code",
   "execution_count": 31,
   "metadata": {},
   "outputs": [
    {
     "data": {
      "text/plain": [
       "[]"
      ]
     },
     "execution_count": 31,
     "metadata": {},
     "output_type": "execute_result"
    }
   ],
   "source": [
    "# double check\n",
    "# berkeley\n",
    "\n",
    "temp = js_third_1\n",
    "temp = temp[-temp.script_url.str.contains('youtube')]\n",
    "list(temp[temp.script_url.str.contains(names[0])].script_url)"
   ]
  },
  {
   "cell_type": "code",
   "execution_count": 37,
   "metadata": {},
   "outputs": [],
   "source": [
    "# double check\n",
    "# webmd\n",
    "\n",
    "temp = js_third_2\n",
    "temp = temp[-temp.script_url.str.contains('doubleclick')]\n",
    "temp = temp[-temp.script_url.str.contains('moatads')]\n",
    "temp = temp[-temp.script_url.str.contains('contextual')]\n",
    "temp = temp[-temp.script_url.str.contains('criteo')]\n",
    "list(temp[temp.script_url.str.contains(names[1])].script_url)"
   ]
  },
  {
   "cell_type": "code",
   "execution_count": 39,
   "metadata": {},
   "outputs": [],
   "source": [
    "# double check\n",
    "# nytimes\n",
    "\n",
    "temp = js_third_3\n",
    "temp = temp[-temp.script_url.str.contains('contextual')]\n",
    "temp = temp[-temp.script_url.str.contains('criteo')]\n",
    "list(temp[temp.script_url.str.contains(names[2])].script_url)"
   ]
  },
  {
   "cell_type": "code",
   "execution_count": 40,
   "metadata": {},
   "outputs": [],
   "source": [
    "js_third_1.to_csv('4-1-js.csv', index=False)\n",
    "js_third_2.to_csv('4-2-js.csv', index=False)\n",
    "js_third_3.to_csv('4-3-js.csv', index=False)"
   ]
  },
  {
   "cell_type": "code",
   "execution_count": null,
   "metadata": {},
   "outputs": [],
   "source": []
  },
  {
   "cell_type": "code",
   "execution_count": 225,
   "metadata": {},
   "outputs": [],
   "source": [
    "# http request"
   ]
  },
  {
   "cell_type": "code",
   "execution_count": 226,
   "metadata": {},
   "outputs": [
    {
     "data": {
      "text/plain": [
       "'[[\"Host\",\"www.nytimes.com\"],[\"User-Agent\",\"Mozilla/5.0 (X11; Linux x86_64; rv:72.0) Gecko/20100101 Firefox/72.0\"],[\"Accept\",\"text/html,application/xhtml+xml,application/xml;q=0.9,image/webp,*/*;q=0.8\"],[\"Accept-Language\",\"en-US,en;q=0.5\"],[\"Accept-Encoding\",\"gzip, deflate, br\"],[\"Connection\",\"keep-alive\"],[\"Upgrade-Insecure-Requests\",\"1\"]]'"
      ]
     },
     "execution_count": 226,
     "metadata": {},
     "output_type": "execute_result"
    }
   ],
   "source": [
    "# http_requests.headers[0]"
   ]
  },
  {
   "cell_type": "code",
   "execution_count": 227,
   "metadata": {},
   "outputs": [
    {
     "data": {
      "text/plain": [
       "Index(['visit_id', 'headers', 'referrer', 'url', 'time_stamp'], dtype='object')"
      ]
     },
     "execution_count": 227,
     "metadata": {},
     "output_type": "execute_result"
    }
   ],
   "source": [
    "# http_requests.columns"
   ]
  },
  {
   "cell_type": "code",
   "execution_count": 41,
   "metadata": {},
   "outputs": [],
   "source": [
    "http_request_1 = http_requests[http_requests.visit_id == 1]\n",
    "http_request_2 = http_requests[http_requests.visit_id == 2]\n",
    "http_request_3 = http_requests[http_requests.visit_id == 3]"
   ]
  },
  {
   "cell_type": "code",
   "execution_count": 119,
   "metadata": {},
   "outputs": [],
   "source": [
    "http_request_1[http_request_1.url.str.contains(names[0])].url.unique()"
   ]
  },
  {
   "cell_type": "code",
   "execution_count": 230,
   "metadata": {},
   "outputs": [],
   "source": [
    "# http_request (filter by url)"
   ]
  },
  {
   "cell_type": "code",
   "execution_count": 65,
   "metadata": {},
   "outputs": [],
   "source": [
    "http_dict = {\n",
    "  \"nytimes\": ['https://www.nytimes.com', 'https://nytimes.com', 'https://a.et.nytimes', 'https://et.nytimes.com','https://static01.nyt.com', \\\n",
    "              'https://a.nytimes.com' ,'https://g1.nyt.com', 'https://als-svc.nytimes.com', 'https://content.api.nytimes.com', 'https://purr.nytimes.com',\\\n",
    "              'https://samizdat-graphql.nytimes.com',  'https://meter-svc.nytimes.com',  'https://mwcm.nytimes.com',  'https://myaccount.nytimes.com'],\n",
    "  \"webmd\": ['https://www.webmd.com', 'https://css.webmd.com', 'https://js.webmd.com','https://img.webmd.com',  'http://img.webmd.com',\\\n",
    "            'https://ssl.o.webmd.com' , 'https://survey.o.webmd.com', 'https://js.staging.webmd.com', 'https://css.staging.webmd.com'],\n",
    "  \"berkeley\": ['https://www.berkeley.edu', 'https://news.berkeley.edu', 'https://matrix.berkeley.edu', 'http://give.berkeley.edu', \\\n",
    "               'http://bconnected.berkeley.edu', 'https://bconnected.berkeley.edu', 'https://greatergood.berkeley.edu', \\\n",
    "               'https://irle.berkeley.edu',  'https://publichealth.berkeley.edu', 'https://calparents.berkeley.edu',  \\\n",
    "               'http://vcue.berkeley.edu','https://vcue.berkeley.edu', 'http://events.berkeley.edu','https://events.berkeley.edu']\n",
    "}"
   ]
  },
  {
   "cell_type": "code",
   "execution_count": 66,
   "metadata": {},
   "outputs": [
    {
     "name": "stdout",
     "output_type": "stream",
     "text": [
      "(257, 5)\n",
      "https://www.berkeley.edu\n",
      "(192, 5)\n",
      "https://news.berkeley.edu\n",
      "(191, 5)\n",
      "https://matrix.berkeley.edu\n",
      "(191, 5)\n",
      "http://give.berkeley.edu\n",
      "(191, 5)\n",
      "http://bconnected.berkeley.edu\n",
      "(191, 5)\n",
      "https://bconnected.berkeley.edu\n",
      "(191, 5)\n",
      "https://greatergood.berkeley.edu\n",
      "(191, 5)\n",
      "https://irle.berkeley.edu\n",
      "(191, 5)\n",
      "https://publichealth.berkeley.edu\n",
      "(191, 5)\n",
      "https://calparents.berkeley.edu\n",
      "(191, 5)\n",
      "http://vcue.berkeley.edu\n",
      "(190, 5)\n",
      "https://vcue.berkeley.edu\n",
      "(161, 5)\n",
      "http://events.berkeley.edu\n",
      "(160, 5)\n",
      "https://events.berkeley.edu\n",
      "(147, 5)\n",
      "***********************************\n",
      "(2006, 5)\n",
      "https://www.webmd.com\n",
      "(1981, 5)\n",
      "https://css.webmd.com\n",
      "(1947, 5)\n",
      "https://js.webmd.com\n",
      "(1932, 5)\n",
      "https://img.webmd.com\n",
      "(1629, 5)\n",
      "http://img.webmd.com\n",
      "(1628, 5)\n",
      "https://ssl.o.webmd.com\n",
      "(1621, 5)\n",
      "https://survey.o.webmd.com\n",
      "(1620, 5)\n",
      "https://js.staging.webmd.com\n",
      "(1620, 5)\n",
      "https://css.staging.webmd.com\n",
      "(1620, 5)\n",
      "***********************************\n",
      "(1725, 5)\n",
      "https://www.nytimes.com\n",
      "(1503, 5)\n",
      "https://nytimes.com\n",
      "(1497, 5)\n",
      "https://a.et.nytimes\n",
      "(1382, 5)\n",
      "https://et.nytimes.com\n",
      "(1305, 5)\n",
      "https://static01.nyt.com\n",
      "(1220, 5)\n",
      "https://a.nytimes.com\n",
      "(1213, 5)\n",
      "https://g1.nyt.com\n",
      "(1180, 5)\n",
      "https://als-svc.nytimes.com\n",
      "(1174, 5)\n",
      "https://content.api.nytimes.com\n",
      "(1107, 5)\n",
      "https://purr.nytimes.com\n",
      "(1101, 5)\n",
      "https://samizdat-graphql.nytimes.com\n",
      "(1086, 5)\n",
      "https://meter-svc.nytimes.com\n",
      "(1080, 5)\n",
      "https://mwcm.nytimes.com\n",
      "(1074, 5)\n",
      "https://myaccount.nytimes.com\n",
      "(1067, 5)\n",
      "***********************************\n"
     ]
    }
   ],
   "source": [
    "http_request_third_1 = http_request_1\n",
    "print(http_request_third_1.shape)\n",
    "for temp in http_dict.get(names[0]):\n",
    "    print(temp)\n",
    "    http_request_third_1 = http_request_third_1[-http_request_third_1.url.str.startswith(temp)]\n",
    "    print(http_request_third_1.shape)\n",
    "    \n",
    "print(\"***********************************\")\n",
    "\n",
    "http_request_third_2 = http_request_2\n",
    "print(http_request_third_2.shape)\n",
    "for temp in http_dict.get(names[1]):\n",
    "    print(temp)\n",
    "    http_request_third_2 = http_request_third_2[-http_request_third_2.url.str.startswith(temp)]\n",
    "    print(http_request_third_2.shape)\n",
    "\n",
    "# http_request_third_2 = http_request_third_2[-http_request_third_2.url.str.contains(\"publichealth.berkeley.edu\")]\n",
    "# print(\"special\", http_request_third_2.shape)\n",
    "\n",
    "print(\"***********************************\")\n",
    "\n",
    "\n",
    "http_request_third_3 = http_request_3\n",
    "print(http_request_third_3.shape)\n",
    "for temp in http_dict.get(names[2]):\n",
    "    print(temp)\n",
    "    http_request_third_3 = http_request_third_3[-http_request_third_3.url.str.startswith(temp)]\n",
    "    print(http_request_third_3.shape)\n",
    "    \n",
    "print(\"***********************************\")\n",
    "\n"
   ]
  },
  {
   "cell_type": "code",
   "execution_count": 60,
   "metadata": {},
   "outputs": [],
   "source": [
    "# double check\n",
    "# berkeley\n",
    "\n",
    "temp = http_request_third_1\n",
    "temp = temp[-temp.url.str.contains('facebook')]\n",
    "temp = temp[-temp.url.str.contains('typekit')]\n",
    "temp = temp[-temp.url.str.contains('google-analytics')]\n",
    "temp = temp[-temp.url.str.contains('siteimproveanalytics')]\n",
    "\n",
    "list(temp[temp.url.str.contains(names[0])].url)"
   ]
  },
  {
   "cell_type": "code",
   "execution_count": 68,
   "metadata": {},
   "outputs": [],
   "source": [
    "# double check\n",
    "\n",
    "temp = http_request_third_2\n",
    "temp = temp[-temp.url.str.contains('facebook')]\n",
    "temp = temp[-temp.url.str.contains('pinterest')]\n",
    "temp = temp[-temp.url.str.contains('criteo')]\n",
    "temp = temp[-temp.url.str.contains('liadm')]\n",
    "temp = temp[-temp.url.str.contains('pagead2')]\n",
    "temp = temp[-temp.url.str.contains('media.net')]\n",
    "temp = temp[-temp.url.str.contains('doubleclick')]\n",
    "temp = temp[-temp.url.str.contains('moatads')]\n",
    "temp = temp[-temp.url.str.contains('webmddfp936579382290')]\n",
    "temp = temp[-temp.url.str.contains('scorecardresearch')]\n",
    "temp = temp[-temp.url.str.contains('trustarc')]\n",
    "temp = temp[-temp.url.str.contains('omtrdc')]\n",
    "temp = temp[-temp.url.str.contains('doubleverify')]\n",
    "temp = temp[-temp.url.str.contains('ibclick.stream')]\n",
    "\n",
    "list(temp[temp.url.str.contains(names[1])].url)"
   ]
  },
  {
   "cell_type": "code",
   "execution_count": 71,
   "metadata": {},
   "outputs": [],
   "source": [
    "# media.net - adexchange\n",
    "\n",
    "# double check\n",
    "# nytimes\n",
    "\n",
    "temp = http_request_third_3\n",
    "temp = temp[-temp.url.str.contains('contextual')]\n",
    "temp = temp[-temp.url.str.contains('media.net')]\n",
    "temp = temp[-temp.url.str.contains('scorecardresearch')]\n",
    "temp = temp[-temp.url.str.contains('google-analytics')]\n",
    "temp = temp[-temp.url.str.contains('bluekai')]\n",
    "temp = temp[-temp.url.str.contains('chartbeat')]\n",
    "temp = temp[-temp.url.str.contains('tpcserve')]\n",
    "temp = temp[-temp.url.str.contains('doubleclick')]\n",
    "temp = temp[-temp.url.str.contains('amazon-adsystem')]\n",
    "temp = temp[-temp.url.str.contains('criteo')]\n",
    "\n",
    "list(temp[temp.url.str.contains(names[2])].url)"
   ]
  },
  {
   "cell_type": "code",
   "execution_count": null,
   "metadata": {
    "scrolled": true
   },
   "outputs": [],
   "source": []
  },
  {
   "cell_type": "code",
   "execution_count": 72,
   "metadata": {},
   "outputs": [],
   "source": [
    "http_request_third_1.to_csv('4-1-httprequest.csv', index=False)\n",
    "http_request_third_2.to_csv('4-2-httprequest.csv', index=False)\n",
    "http_request_third_3.to_csv('4-3-httprequest.csv', index=False)"
   ]
  },
  {
   "cell_type": "code",
   "execution_count": null,
   "metadata": {},
   "outputs": [],
   "source": []
  },
  {
   "cell_type": "code",
   "execution_count": null,
   "metadata": {},
   "outputs": [],
   "source": []
  },
  {
   "cell_type": "code",
   "execution_count": 76,
   "metadata": {},
   "outputs": [
    {
     "data": {
      "text/html": [
       "<div>\n",
       "<style scoped>\n",
       "    .dataframe tbody tr th:only-of-type {\n",
       "        vertical-align: middle;\n",
       "    }\n",
       "\n",
       "    .dataframe tbody tr th {\n",
       "        vertical-align: top;\n",
       "    }\n",
       "\n",
       "    .dataframe thead th {\n",
       "        text-align: right;\n",
       "    }\n",
       "</style>\n",
       "<table border=\"1\" class=\"dataframe\">\n",
       "  <thead>\n",
       "    <tr style=\"text-align: right;\">\n",
       "      <th></th>\n",
       "      <th>Exp</th>\n",
       "      <th>Websites</th>\n",
       "    </tr>\n",
       "  </thead>\n",
       "  <tbody>\n",
       "    <tr>\n",
       "      <th>0</th>\n",
       "      <td>1</td>\n",
       "      <td>['nytimes', 'webmd', 'berkeley']</td>\n",
       "    </tr>\n",
       "    <tr>\n",
       "      <th>1</th>\n",
       "      <td>2</td>\n",
       "      <td>['webmd', 'nytimes', 'berkeley']</td>\n",
       "    </tr>\n",
       "    <tr>\n",
       "      <th>2</th>\n",
       "      <td>3</td>\n",
       "      <td>['webmd', 'berkeley', 'nytimes']</td>\n",
       "    </tr>\n",
       "  </tbody>\n",
       "</table>\n",
       "</div>"
      ],
      "text/plain": [
       "   Exp                          Websites\n",
       "0    1  ['nytimes', 'webmd', 'berkeley']\n",
       "1    2  ['webmd', 'nytimes', 'berkeley']\n",
       "2    3  ['webmd', 'berkeley', 'nytimes']"
      ]
     },
     "execution_count": 76,
     "metadata": {},
     "output_type": "execute_result"
    }
   ],
   "source": [
    "experiments_df = pd.DataFrame(pd.read_csv('experiments.csv')  , columns = ['Exp', 'Websites']) \n",
    "experiments_df"
   ]
  },
  {
   "cell_type": "code",
   "execution_count": 77,
   "metadata": {},
   "outputs": [
    {
     "data": {
      "text/html": [
       "<div>\n",
       "<style scoped>\n",
       "    .dataframe tbody tr th:only-of-type {\n",
       "        vertical-align: middle;\n",
       "    }\n",
       "\n",
       "    .dataframe tbody tr th {\n",
       "        vertical-align: top;\n",
       "    }\n",
       "\n",
       "    .dataframe thead th {\n",
       "        text-align: right;\n",
       "    }\n",
       "</style>\n",
       "<table border=\"1\" class=\"dataframe\">\n",
       "  <thead>\n",
       "    <tr style=\"text-align: right;\">\n",
       "      <th></th>\n",
       "      <th>Exp</th>\n",
       "      <th>Websites</th>\n",
       "    </tr>\n",
       "  </thead>\n",
       "  <tbody>\n",
       "    <tr>\n",
       "      <th>0</th>\n",
       "      <td>1</td>\n",
       "      <td>['nytimes', 'webmd', 'berkeley']</td>\n",
       "    </tr>\n",
       "    <tr>\n",
       "      <th>1</th>\n",
       "      <td>2</td>\n",
       "      <td>['webmd', 'nytimes', 'berkeley']</td>\n",
       "    </tr>\n",
       "    <tr>\n",
       "      <th>2</th>\n",
       "      <td>3</td>\n",
       "      <td>['webmd', 'berkeley', 'nytimes']</td>\n",
       "    </tr>\n",
       "    <tr>\n",
       "      <th>0</th>\n",
       "      <td>4</td>\n",
       "      <td>[berkeley, webmd, nytimes]</td>\n",
       "    </tr>\n",
       "  </tbody>\n",
       "</table>\n",
       "</div>"
      ],
      "text/plain": [
       "   Exp                          Websites\n",
       "0    1  ['nytimes', 'webmd', 'berkeley']\n",
       "1    2  ['webmd', 'nytimes', 'berkeley']\n",
       "2    3  ['webmd', 'berkeley', 'nytimes']\n",
       "0    4        [berkeley, webmd, nytimes]"
      ]
     },
     "execution_count": 77,
     "metadata": {},
     "output_type": "execute_result"
    }
   ],
   "source": [
    "experiment_num = 4\n",
    "\n",
    "temp = pd.DataFrame([[experiment_num, names]], columns = ['Exp', 'Websites']) \n",
    "\n",
    "experiments_df = pd.concat([experiments_df,temp])\n",
    "\n",
    "experiments_df\n"
   ]
  },
  {
   "cell_type": "code",
   "execution_count": 78,
   "metadata": {},
   "outputs": [],
   "source": [
    "experiments_df.to_csv('experiments.csv', index=False)"
   ]
  },
  {
   "cell_type": "code",
   "execution_count": null,
   "metadata": {},
   "outputs": [],
   "source": []
  }
 ],
 "metadata": {
  "kernelspec": {
   "display_name": "Python 3",
   "language": "python",
   "name": "python3"
  },
  "language_info": {
   "codemirror_mode": {
    "name": "ipython",
    "version": 3
   },
   "file_extension": ".py",
   "mimetype": "text/x-python",
   "name": "python",
   "nbconvert_exporter": "python",
   "pygments_lexer": "ipython3",
   "version": "3.7.6"
  }
 },
 "nbformat": 4,
 "nbformat_minor": 2
}
