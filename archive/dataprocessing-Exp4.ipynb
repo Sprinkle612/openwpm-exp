{
 "cells": [
  {
   "cell_type": "code",
   "execution_count": 1,
   "metadata": {},
   "outputs": [],
   "source": [
    "import numpy as np\n",
    "import pandas as pd\n",
    "import sqlite3"
   ]
  },
  {
   "cell_type": "code",
   "execution_count": 2,
   "metadata": {},
   "outputs": [],
   "source": [
    "conn = sqlite3.connect(\"./raw-data/4-22-exp4/crawl-data.sqlite\")"
   ]
  },
  {
   "cell_type": "code",
   "execution_count": 3,
   "metadata": {},
   "outputs": [],
   "source": [
    "# cur = conn.cursor()\n",
    "javascript_cookies = pd.read_sql_query(\"select visit_id, record_type, change_cause, host, name, value, \\\n",
    "time_stamp from javascript_cookies;\", conn)"
   ]
  },
  {
   "cell_type": "code",
   "execution_count": 4,
   "metadata": {},
   "outputs": [],
   "source": [
    "http_responses = pd.read_sql_query(\"select visit_id, url, method, headers, time_stamp from http_responses where response_status == 200;\", conn)"
   ]
  },
  {
   "cell_type": "code",
   "execution_count": 5,
   "metadata": {},
   "outputs": [],
   "source": [
    "http_requests = pd.read_sql_query(\"select visit_id, headers, referrer, Url, time_stamp from http_requests;\", conn)"
   ]
  },
  {
   "cell_type": "code",
   "execution_count": 6,
   "metadata": {},
   "outputs": [],
   "source": [
    "javascript = pd.read_sql_query(\"select visit_id, script_url, symbol, operation, value, arguments, time_stamp from javascript;\", conn)"
   ]
  },
  {
   "cell_type": "code",
   "execution_count": 7,
   "metadata": {},
   "outputs": [],
   "source": [
    "site_visits = pd.read_sql_query(\"select visit_id, site_url from site_visits;\", conn)"
   ]
  },
  {
   "cell_type": "code",
   "execution_count": 8,
   "metadata": {},
   "outputs": [],
   "source": [
    "conn.close()"
   ]
  },
  {
   "cell_type": "code",
   "execution_count": 9,
   "metadata": {},
   "outputs": [
    {
     "data": {
      "text/plain": [
       "['berkeley', 'webmd', 'nytimes']"
      ]
     },
     "execution_count": 9,
     "metadata": {},
     "output_type": "execute_result"
    }
   ],
   "source": [
    "names = list(map(lambda x: x.split('.')[1], list(site_visits.site_url)))\n",
    "names"
   ]
  },
  {
   "cell_type": "code",
   "execution_count": 12,
   "metadata": {},
   "outputs": [],
   "source": [
    "cookies_dict = {\n",
    "  \"nytimes\": ['.nytimes.com', '.et.nytimes.com', 'www.nytimes.com', '.a.nytimes.com', 'static01.nyt.com'],\n",
    "  \"webmd\": ['.www.webmd.com', '.webmd.com', '.css.webmd.com', '.js.webmd.com','.img.webmd.com', 'www.webmd.com', 'survey.o.webmd.com', '.staging.webmd.com'],\n",
    "  \"berkeley\": ['.berkeley.edu', '.www.berkeley.edu', 'www.berkeley.edu', 'matrix.berkeley.edu', \\\n",
    "               'give.berkeley.edu', 'news.berkeley.edu', '.news.berkeley.edu', 'bconnected.berkeley.edu',\\\n",
    "               '.publichealth.berkeley.edu', 'greatergood.berkeley.edu']\n",
    "}"
   ]
  },
  {
   "cell_type": "code",
   "execution_count": 13,
   "metadata": {},
   "outputs": [],
   "source": [
    "js_cookies_1 = javascript_cookies[javascript_cookies.visit_id == 1]\n",
    "js_cookies_2 = javascript_cookies[javascript_cookies.visit_id == 2]\n",
    "js_cookies_3 = javascript_cookies[javascript_cookies.visit_id == 3]"
   ]
  },
  {
   "cell_type": "code",
   "execution_count": 14,
   "metadata": {},
   "outputs": [
    {
     "data": {
      "text/plain": [
       "array(['.berkeley.edu', '.www.berkeley.edu',\n",
       "       '8343.global.siteimproveanalytics.io', 'www.berkeley.edu',\n",
       "       'vcue.berkeley.edu', '.events.berkeley.edu', '.youtube.com',\n",
       "       '.linkedin.com', '.www.linkedin.com', '.doubleclick.net'],\n",
       "      dtype=object)"
      ]
     },
     "execution_count": 14,
     "metadata": {},
     "output_type": "execute_result"
    }
   ],
   "source": [
    "# third party cookies (filter by host)\n",
    "js_cookies_1.host.unique()"
   ]
  },
  {
   "cell_type": "code",
   "execution_count": 15,
   "metadata": {
    "scrolled": false
   },
   "outputs": [
    {
     "name": "stdout",
     "output_type": "stream",
     "text": [
      "(79, 7)\n",
      ".berkeley.edu\n",
      "(29, 7)\n",
      ".www.berkeley.edu\n",
      "(28, 7)\n",
      "www.berkeley.edu\n",
      "(20, 7)\n",
      "matrix.berkeley.edu\n",
      "(20, 7)\n",
      "give.berkeley.edu\n",
      "(20, 7)\n",
      "news.berkeley.edu\n",
      "(20, 7)\n",
      ".news.berkeley.edu\n",
      "(20, 7)\n",
      "bconnected.berkeley.edu\n",
      "(20, 7)\n",
      ".publichealth.berkeley.edu\n",
      "(20, 7)\n",
      "greatergood.berkeley.edu\n",
      "(20, 7)\n",
      "***********************************\n",
      "(1495, 7)\n",
      ".www.webmd.com\n",
      "(1494, 7)\n",
      ".webmd.com\n",
      "(1161, 7)\n",
      ".css.webmd.com\n",
      "(1160, 7)\n",
      ".js.webmd.com\n",
      "(1159, 7)\n",
      ".img.webmd.com\n",
      "(1154, 7)\n",
      "www.webmd.com\n",
      "(1048, 7)\n",
      "survey.o.webmd.com\n",
      "(1046, 7)\n",
      ".staging.webmd.com\n",
      "(1045, 7)\n",
      "***********************************\n",
      "(1102, 7)\n",
      ".nytimes.com\n",
      "(684, 7)\n",
      ".et.nytimes.com\n",
      "(417, 7)\n",
      "www.nytimes.com\n",
      "(349, 7)\n",
      ".a.nytimes.com\n",
      "(335, 7)\n",
      "static01.nyt.com\n",
      "(324, 7)\n"
     ]
    }
   ],
   "source": [
    "js_cookies_third_1 = js_cookies_1\n",
    "print(js_cookies_third_1.shape)\n",
    "\n",
    "for temp in cookies_dict.get(names[0]):\n",
    "    print(temp)\n",
    "    # js_cookies_third_1 = js_cookies_third_1[-js_cookies_third_1.host.str.contains(temp)]\n",
    "    js_cookies_third_1 = js_cookies_third_1[-js_cookies_third_1.host.str.match(temp)]\n",
    "    print(js_cookies_third_1.shape)\n",
    "\n",
    "print(\"***********************************\")\n",
    "\n",
    "js_cookies_third_2 = js_cookies_2\n",
    "print(js_cookies_third_2.shape)\n",
    "\n",
    "for temp in cookies_dict.get(names[1]):\n",
    "    print(temp)\n",
    "    js_cookies_third_2 = js_cookies_third_2[-js_cookies_third_2.host.str.match(temp)]\n",
    "    print(js_cookies_third_2.shape)    \n",
    "    \n",
    "print(\"***********************************\")\n",
    "\n",
    "js_cookies_third_3 = js_cookies_3\n",
    "print(js_cookies_third_3.shape)\n",
    "\n",
    "for temp in cookies_dict.get(names[2]):\n",
    "    print(temp)\n",
    "    js_cookies_third_3 = js_cookies_third_3[-js_cookies_third_3.host.str.match(temp)]\n",
    "    print(js_cookies_third_3.shape)\n"
   ]
  },
  {
   "cell_type": "code",
   "execution_count": 16,
   "metadata": {},
   "outputs": [
    {
     "data": {
      "text/html": [
       "<div>\n",
       "<style scoped>\n",
       "    .dataframe tbody tr th:only-of-type {\n",
       "        vertical-align: middle;\n",
       "    }\n",
       "\n",
       "    .dataframe tbody tr th {\n",
       "        vertical-align: top;\n",
       "    }\n",
       "\n",
       "    .dataframe thead th {\n",
       "        text-align: right;\n",
       "    }\n",
       "</style>\n",
       "<table border=\"1\" class=\"dataframe\">\n",
       "  <thead>\n",
       "    <tr style=\"text-align: right;\">\n",
       "      <th></th>\n",
       "      <th>visit_id</th>\n",
       "      <th>record_type</th>\n",
       "      <th>change_cause</th>\n",
       "      <th>host</th>\n",
       "      <th>name</th>\n",
       "      <th>value</th>\n",
       "      <th>time_stamp</th>\n",
       "    </tr>\n",
       "  </thead>\n",
       "  <tbody>\n",
       "  </tbody>\n",
       "</table>\n",
       "</div>"
      ],
      "text/plain": [
       "Empty DataFrame\n",
       "Columns: [visit_id, record_type, change_cause, host, name, value, time_stamp]\n",
       "Index: []"
      ]
     },
     "execution_count": 16,
     "metadata": {},
     "output_type": "execute_result"
    }
   ],
   "source": [
    "# double check\n",
    "js_cookies_third_1[js_cookies_third_1.host.str.contains(names[0])]\n",
    "js_cookies_third_2[js_cookies_third_2.host.str.contains(names[1])]\n",
    "js_cookies_third_3[js_cookies_third_3.host.str.contains(names[2])]"
   ]
  },
  {
   "cell_type": "code",
   "execution_count": 17,
   "metadata": {},
   "outputs": [],
   "source": [
    "js_cookies_third_1.to_csv('4-1-cookies.csv', index=False)\n",
    "js_cookies_third_2.to_csv('4-2-cookies.csv', index=False)\n",
    "js_cookies_third_3.to_csv('4-3-cookies.csv', index=False)"
   ]
  },
  {
   "cell_type": "code",
   "execution_count": null,
   "metadata": {},
   "outputs": [],
   "source": []
  },
  {
   "cell_type": "code",
   "execution_count": null,
   "metadata": {},
   "outputs": [],
   "source": []
  },
  {
   "cell_type": "code",
   "execution_count": 18,
   "metadata": {},
   "outputs": [],
   "source": [
    "js_1 = javascript[javascript.visit_id == 1]\n",
    "js_2 = javascript[javascript.visit_id == 2]\n",
    "js_3 = javascript[javascript.visit_id == 3]"
   ]
  },
  {
   "cell_type": "code",
   "execution_count": 19,
   "metadata": {},
   "outputs": [
    {
     "data": {
      "text/plain": [
       "array(['https://use.typekit.net/zpy2xov.js',\n",
       "       'https://ssl.google-analytics.com/ga.js',\n",
       "       'https://connect.facebook.net/en_UK/all.js',\n",
       "       'https://s.ytimg.com/yts/jsbin/www-widgetapi-vflTDS0tW/www-widgetapi.js',\n",
       "       'https://siteimproveanalytics.com/js/siteanalyze_8343.js',\n",
       "       'https://connect.facebook.net/en_US/all.js?hash=e6605ed997e83c2fa3601dfcb11dae61',\n",
       "       'https://www.berkeley.edu/',\n",
       "       'https://vcue.berkeley.edu/sites/default/files/js/js_EebRuRXFlkaf356V0T2K_8cnUVfCKesNTxdvvPSEhCM.js',\n",
       "       'https://vcue.berkeley.edu/sites/default/files/js/js_CplP3uaSe7aRXQ9aiBD3b56wkeieD2nerD94Kv9mV3k.js',\n",
       "       'https://www.google-analytics.com/analytics.js',\n",
       "       'https://www.youtube.com/embed/https://www.youtube.com/watch?v=3_tTbvyHDa0?autoplay=0&controls=2&modestbranding=1&showinfo=0&ohide=1&enablejsapi=1&wmode=transparent&origin=http%3A%2F%2Fwww.berkeley.edu',\n",
       "       'https://www.youtube.com/yts/jsbin/www-embed-player-vfl4a1sG9/www-embed-player.js',\n",
       "       'https://www.youtube.com/s/player/bfb2a3b4/player_ias.vflset/en_US/base.js',\n",
       "       'https://use.fontawesome.com/webfontloader/1.6.24/webfontloader.js'],\n",
       "      dtype=object)"
      ]
     },
     "execution_count": 19,
     "metadata": {},
     "output_type": "execute_result"
    }
   ],
   "source": [
    "# third party js (filter by script_url)\n",
    "js_1.script_url.unique()"
   ]
  },
  {
   "cell_type": "code",
   "execution_count": null,
   "metadata": {},
   "outputs": [],
   "source": []
  },
  {
   "cell_type": "code",
   "execution_count": null,
   "metadata": {},
   "outputs": [],
   "source": []
  },
  {
   "cell_type": "code",
   "execution_count": 27,
   "metadata": {
    "scrolled": true
   },
   "outputs": [],
   "source": [
    "js_dict = {\n",
    "  \"nytimes\": ['https://static01.nyt.com', 'https://www.nytimes.com', 'https://myaccount.nytimes.com'],\n",
    "  \"webmd\": ['https://js.webmd.com', 'https://www.webmd.com', 'https://img.webmd.com', \\\n",
    "            'https://survey.o.webmd.com', 'https://js.staging.webmd.com'],\n",
    "  \"berkeley\": ['https://www.berkeley.edu', 'https://bconnected.berkeley.edu', 'https://give.berkeley.edu', \\\n",
    "               'https://news.berkeley.edu', 'https://greatergood.berkeley.edu', 'https://matrix.berkeley.edu', \\\n",
    "               'https://irle.berkeley.edu', 'https://publichealth.berkeley.edu',  'https://calparents.berkeley.edu',\\\n",
    "               'https://vcue.berkeley.edu']\n",
    "}"
   ]
  },
  {
   "cell_type": "code",
   "execution_count": 28,
   "metadata": {},
   "outputs": [
    {
     "name": "stdout",
     "output_type": "stream",
     "text": [
      "(1346, 7)\n",
      "https://www.berkeley.edu\n",
      "(546, 7)\n",
      "https://bconnected.berkeley.edu\n",
      "(546, 7)\n",
      "https://give.berkeley.edu\n",
      "(546, 7)\n",
      "https://news.berkeley.edu\n",
      "(546, 7)\n",
      "https://greatergood.berkeley.edu\n",
      "(546, 7)\n",
      "https://matrix.berkeley.edu\n",
      "(546, 7)\n",
      "https://irle.berkeley.edu\n",
      "(546, 7)\n",
      "https://publichealth.berkeley.edu\n",
      "(546, 7)\n",
      "https://calparents.berkeley.edu\n",
      "(546, 7)\n",
      "https://vcue.berkeley.edu\n",
      "(544, 7)\n",
      "***********************************\n",
      "(11738, 7)\n",
      "https://js.webmd.com\n",
      "(10818, 7)\n",
      "https://www.webmd.com\n",
      "(9798, 7)\n",
      "https://img.webmd.com\n",
      "(9283, 7)\n",
      "https://survey.o.webmd.com\n",
      "(9275, 7)\n",
      "https://js.staging.webmd.com\n",
      "(9275, 7)\n",
      "***********************************\n",
      "(15071, 7)\n",
      "https://static01.nyt.com\n",
      "(14705, 7)\n",
      "https://www.nytimes.com\n",
      "(10699, 7)\n",
      "https://myaccount.nytimes.com\n",
      "(10689, 7)\n",
      "***********************************\n"
     ]
    }
   ],
   "source": [
    "js_third_1 = js_1\n",
    "print(js_third_1.shape)\n",
    "for temp in js_dict.get(names[0]):\n",
    "    print(temp)\n",
    "    js_third_1 = js_third_1[-js_third_1.script_url.str.startswith(temp)]\n",
    "    print(js_third_1.shape)\n",
    "    \n",
    "print(\"***********************************\")\n",
    "\n",
    "js_third_2 = js_2\n",
    "print(js_third_2.shape)\n",
    "for temp in js_dict.get(names[1]):\n",
    "    print(temp)\n",
    "    js_third_2 = js_third_2[-js_third_2.script_url.str.startswith(temp)]\n",
    "    print(js_third_2.shape)\n",
    "    \n",
    "print(\"***********************************\")\n",
    "\n",
    "js_third_3 = js_3\n",
    "print(js_third_3.shape)\n",
    "for temp in js_dict.get(names[2]):\n",
    "    print(temp)\n",
    "    js_third_3 = js_third_3[-js_third_3.script_url.str.startswith(temp)]\n",
    "    print(js_third_3.shape)\n",
    "    \n",
    "print(\"***********************************\")"
   ]
  },
  {
   "cell_type": "code",
   "execution_count": 31,
   "metadata": {},
   "outputs": [
    {
     "data": {
      "text/plain": [
       "[]"
      ]
     },
     "execution_count": 31,
     "metadata": {},
     "output_type": "execute_result"
    }
   ],
   "source": [
    "# double check\n",
    "# berkeley\n",
    "\n",
    "temp = js_third_1\n",
    "temp = temp[-temp.script_url.str.contains('youtube')]\n",
    "list(temp[temp.script_url.str.contains(names[0])].script_url)"
   ]
  },
  {
   "cell_type": "code",
   "execution_count": 37,
   "metadata": {},
   "outputs": [],
   "source": [
    "# double check\n",
    "# webmd\n",
    "\n",
    "temp = js_third_2\n",
    "temp = temp[-temp.script_url.str.contains('doubleclick')]\n",
    "temp = temp[-temp.script_url.str.contains('moatads')]\n",
    "temp = temp[-temp.script_url.str.contains('contextual')]\n",
    "temp = temp[-temp.script_url.str.contains('criteo')]\n",
    "list(temp[temp.script_url.str.contains(names[1])].script_url)"
   ]
  },
  {
   "cell_type": "code",
   "execution_count": 39,
   "metadata": {},
   "outputs": [],
   "source": [
    "# double check\n",
    "# nytimes\n",
    "\n",
    "temp = js_third_3\n",
    "temp = temp[-temp.script_url.str.contains('contextual')]\n",
    "temp = temp[-temp.script_url.str.contains('criteo')]\n",
    "list(temp[temp.script_url.str.contains(names[2])].script_url)"
   ]
  },
  {
   "cell_type": "code",
   "execution_count": 40,
   "metadata": {},
   "outputs": [],
   "source": [
    "js_third_1.to_csv('4-1-js.csv', index=False)\n",
    "js_third_2.to_csv('4-2-js.csv', index=False)\n",
    "js_third_3.to_csv('4-3-js.csv', index=False)"
   ]
  },
  {
   "cell_type": "code",
   "execution_count": null,
   "metadata": {},
   "outputs": [],
   "source": []
  },
  {
   "cell_type": "code",
   "execution_count": 10,
   "metadata": {},
   "outputs": [],
   "source": [
    "# HTTP REQUEST\n",
    "\n",
    "def get_host_from_headers(x):\n",
    "    temp = x.replace('\"','').split('],[')\n",
    "    for t in temp:\n",
    "            pair = t.replace(']]','').replace('[[','').split(',')\n",
    "            if \"Host\" in pair:\n",
    "                host_value = pair[1]\n",
    "    return host_value\n",
    "\n",
    "def get_cookies_from_headers(x):\n",
    "    ls = x.replace('\"','').split('],[')\n",
    "    for l in ls:\n",
    "        ta = l.replace(']]','').split(',')\n",
    "        if \"Cookie\" in ta:\n",
    "            return ta[-1]\n",
    "    return ''\n"
   ]
  },
  {
   "cell_type": "code",
   "execution_count": 11,
   "metadata": {},
   "outputs": [
    {
     "data": {
      "text/html": [
       "<div>\n",
       "<style scoped>\n",
       "    .dataframe tbody tr th:only-of-type {\n",
       "        vertical-align: middle;\n",
       "    }\n",
       "\n",
       "    .dataframe tbody tr th {\n",
       "        vertical-align: top;\n",
       "    }\n",
       "\n",
       "    .dataframe thead th {\n",
       "        text-align: right;\n",
       "    }\n",
       "</style>\n",
       "<table border=\"1\" class=\"dataframe\">\n",
       "  <thead>\n",
       "    <tr style=\"text-align: right;\">\n",
       "      <th></th>\n",
       "      <th>visit_id</th>\n",
       "      <th>headers</th>\n",
       "      <th>referrer</th>\n",
       "      <th>url</th>\n",
       "      <th>time_stamp</th>\n",
       "      <th>cookies</th>\n",
       "      <th>host</th>\n",
       "    </tr>\n",
       "  </thead>\n",
       "  <tbody>\n",
       "    <tr>\n",
       "      <th>0</th>\n",
       "      <td>1</td>\n",
       "      <td>[[\"Host\",\"www.berkeley.edu\"],[\"User-Agent\",\"Mo...</td>\n",
       "      <td></td>\n",
       "      <td>https://www.berkeley.edu/</td>\n",
       "      <td>2020-04-23T03:35:19.020Z</td>\n",
       "      <td></td>\n",
       "      <td>www.berkeley.edu</td>\n",
       "    </tr>\n",
       "    <tr>\n",
       "      <th>1</th>\n",
       "      <td>1</td>\n",
       "      <td>[[\"Host\",\"www.berkeley.edu\"],[\"User-Agent\",\"Mo...</td>\n",
       "      <td>https://www.berkeley.edu/</td>\n",
       "      <td>https://www.berkeley.edu/cache/5813b1334e164cd...</td>\n",
       "      <td>2020-04-23T03:35:19.483Z</td>\n",
       "      <td></td>\n",
       "      <td>www.berkeley.edu</td>\n",
       "    </tr>\n",
       "    <tr>\n",
       "      <th>2</th>\n",
       "      <td>1</td>\n",
       "      <td>[[\"Host\",\"www.berkeley.edu\"],[\"User-Agent\",\"Mo...</td>\n",
       "      <td>https://www.berkeley.edu/</td>\n",
       "      <td>https://www.berkeley.edu/?css=styles/.infograp...</td>\n",
       "      <td>2020-04-23T03:35:19.483Z</td>\n",
       "      <td></td>\n",
       "      <td>www.berkeley.edu</td>\n",
       "    </tr>\n",
       "    <tr>\n",
       "      <th>3</th>\n",
       "      <td>1</td>\n",
       "      <td>[[\"Host\",\"www.berkeley.edu\"],[\"User-Agent\",\"Mo...</td>\n",
       "      <td>https://www.berkeley.edu/</td>\n",
       "      <td>https://www.berkeley.edu/?css=styles/.yamm</td>\n",
       "      <td>2020-04-23T03:35:19.483Z</td>\n",
       "      <td></td>\n",
       "      <td>www.berkeley.edu</td>\n",
       "    </tr>\n",
       "    <tr>\n",
       "      <th>4</th>\n",
       "      <td>1</td>\n",
       "      <td>[[\"Host\",\"use.typekit.net\"],[\"User-Agent\",\"Moz...</td>\n",
       "      <td>https://www.berkeley.edu/</td>\n",
       "      <td>https://use.typekit.net/zpy2xov.js</td>\n",
       "      <td>2020-04-23T03:35:19.484Z</td>\n",
       "      <td></td>\n",
       "      <td>use.typekit.net</td>\n",
       "    </tr>\n",
       "    <tr>\n",
       "      <th>...</th>\n",
       "      <td>...</td>\n",
       "      <td>...</td>\n",
       "      <td>...</td>\n",
       "      <td>...</td>\n",
       "      <td>...</td>\n",
       "      <td>...</td>\n",
       "      <td>...</td>\n",
       "    </tr>\n",
       "    <tr>\n",
       "      <th>3983</th>\n",
       "      <td>3</td>\n",
       "      <td>[[\"Host\",\"pagead2.googlesyndication.com\"],[\"Us...</td>\n",
       "      <td>https://www.nytimes.com/</td>\n",
       "      <td>https://pagead2.googlesyndication.com/pagead/g...</td>\n",
       "      <td>2020-04-23T03:42:06.423Z</td>\n",
       "      <td></td>\n",
       "      <td>pagead2.googlesyndication.com</td>\n",
       "    </tr>\n",
       "    <tr>\n",
       "      <th>3984</th>\n",
       "      <td>3</td>\n",
       "      <td>[[\"Host\",\"a.et.nytimes.com\"],[\"User-Agent\",\"Mo...</td>\n",
       "      <td>https://www.nytimes.com/</td>\n",
       "      <td>https://a.et.nytimes.com/track</td>\n",
       "      <td>2020-04-23T03:42:10.594Z</td>\n",
       "      <td>nyt-a=N1f2AAhkYYQcRa9lhI_ld2; nyt-gdpr=0; nyt-...</td>\n",
       "      <td>a.et.nytimes.com</td>\n",
       "    </tr>\n",
       "    <tr>\n",
       "      <th>3985</th>\n",
       "      <td>3</td>\n",
       "      <td>[[\"Host\",\"a.et.nytimes.com\"],[\"User-Agent\",\"Mo...</td>\n",
       "      <td>https://www.nytimes.com/</td>\n",
       "      <td>https://a.et.nytimes.com/track</td>\n",
       "      <td>2020-04-23T03:42:15.597Z</td>\n",
       "      <td>nyt-a=N1f2AAhkYYQcRa9lhI_ld2; nyt-gdpr=0; nyt-...</td>\n",
       "      <td>a.et.nytimes.com</td>\n",
       "    </tr>\n",
       "    <tr>\n",
       "      <th>3986</th>\n",
       "      <td>3</td>\n",
       "      <td>[[\"Host\",\"pnytimes.chartbeat.net\"],[\"User-Agen...</td>\n",
       "      <td>https://www.nytimes.com/</td>\n",
       "      <td>https://pnytimes.chartbeat.net/ping?h=nytimes....</td>\n",
       "      <td>2020-04-23T03:42:18.003Z</td>\n",
       "      <td></td>\n",
       "      <td>pnytimes.chartbeat.net</td>\n",
       "    </tr>\n",
       "    <tr>\n",
       "      <th>3987</th>\n",
       "      <td>3</td>\n",
       "      <td>[[\"Host\",\"a.et.nytimes.com\"],[\"User-Agent\",\"Mo...</td>\n",
       "      <td>https://www.nytimes.com/</td>\n",
       "      <td>https://a.et.nytimes.com/track</td>\n",
       "      <td>2020-04-23T03:42:20.591Z</td>\n",
       "      <td>nyt-a=N1f2AAhkYYQcRa9lhI_ld2; nyt-gdpr=0; nyt-...</td>\n",
       "      <td>a.et.nytimes.com</td>\n",
       "    </tr>\n",
       "  </tbody>\n",
       "</table>\n",
       "<p>3988 rows × 7 columns</p>\n",
       "</div>"
      ],
      "text/plain": [
       "      visit_id                                            headers  \\\n",
       "0            1  [[\"Host\",\"www.berkeley.edu\"],[\"User-Agent\",\"Mo...   \n",
       "1            1  [[\"Host\",\"www.berkeley.edu\"],[\"User-Agent\",\"Mo...   \n",
       "2            1  [[\"Host\",\"www.berkeley.edu\"],[\"User-Agent\",\"Mo...   \n",
       "3            1  [[\"Host\",\"www.berkeley.edu\"],[\"User-Agent\",\"Mo...   \n",
       "4            1  [[\"Host\",\"use.typekit.net\"],[\"User-Agent\",\"Moz...   \n",
       "...        ...                                                ...   \n",
       "3983         3  [[\"Host\",\"pagead2.googlesyndication.com\"],[\"Us...   \n",
       "3984         3  [[\"Host\",\"a.et.nytimes.com\"],[\"User-Agent\",\"Mo...   \n",
       "3985         3  [[\"Host\",\"a.et.nytimes.com\"],[\"User-Agent\",\"Mo...   \n",
       "3986         3  [[\"Host\",\"pnytimes.chartbeat.net\"],[\"User-Agen...   \n",
       "3987         3  [[\"Host\",\"a.et.nytimes.com\"],[\"User-Agent\",\"Mo...   \n",
       "\n",
       "                       referrer  \\\n",
       "0                                 \n",
       "1     https://www.berkeley.edu/   \n",
       "2     https://www.berkeley.edu/   \n",
       "3     https://www.berkeley.edu/   \n",
       "4     https://www.berkeley.edu/   \n",
       "...                         ...   \n",
       "3983   https://www.nytimes.com/   \n",
       "3984   https://www.nytimes.com/   \n",
       "3985   https://www.nytimes.com/   \n",
       "3986   https://www.nytimes.com/   \n",
       "3987   https://www.nytimes.com/   \n",
       "\n",
       "                                                    url  \\\n",
       "0                             https://www.berkeley.edu/   \n",
       "1     https://www.berkeley.edu/cache/5813b1334e164cd...   \n",
       "2     https://www.berkeley.edu/?css=styles/.infograp...   \n",
       "3            https://www.berkeley.edu/?css=styles/.yamm   \n",
       "4                    https://use.typekit.net/zpy2xov.js   \n",
       "...                                                 ...   \n",
       "3983  https://pagead2.googlesyndication.com/pagead/g...   \n",
       "3984                     https://a.et.nytimes.com/track   \n",
       "3985                     https://a.et.nytimes.com/track   \n",
       "3986  https://pnytimes.chartbeat.net/ping?h=nytimes....   \n",
       "3987                     https://a.et.nytimes.com/track   \n",
       "\n",
       "                    time_stamp  \\\n",
       "0     2020-04-23T03:35:19.020Z   \n",
       "1     2020-04-23T03:35:19.483Z   \n",
       "2     2020-04-23T03:35:19.483Z   \n",
       "3     2020-04-23T03:35:19.483Z   \n",
       "4     2020-04-23T03:35:19.484Z   \n",
       "...                        ...   \n",
       "3983  2020-04-23T03:42:06.423Z   \n",
       "3984  2020-04-23T03:42:10.594Z   \n",
       "3985  2020-04-23T03:42:15.597Z   \n",
       "3986  2020-04-23T03:42:18.003Z   \n",
       "3987  2020-04-23T03:42:20.591Z   \n",
       "\n",
       "                                                cookies  \\\n",
       "0                                                         \n",
       "1                                                         \n",
       "2                                                         \n",
       "3                                                         \n",
       "4                                                         \n",
       "...                                                 ...   \n",
       "3983                                                      \n",
       "3984  nyt-a=N1f2AAhkYYQcRa9lhI_ld2; nyt-gdpr=0; nyt-...   \n",
       "3985  nyt-a=N1f2AAhkYYQcRa9lhI_ld2; nyt-gdpr=0; nyt-...   \n",
       "3986                                                      \n",
       "3987  nyt-a=N1f2AAhkYYQcRa9lhI_ld2; nyt-gdpr=0; nyt-...   \n",
       "\n",
       "                               host  \n",
       "0                  www.berkeley.edu  \n",
       "1                  www.berkeley.edu  \n",
       "2                  www.berkeley.edu  \n",
       "3                  www.berkeley.edu  \n",
       "4                   use.typekit.net  \n",
       "...                             ...  \n",
       "3983  pagead2.googlesyndication.com  \n",
       "3984               a.et.nytimes.com  \n",
       "3985               a.et.nytimes.com  \n",
       "3986         pnytimes.chartbeat.net  \n",
       "3987               a.et.nytimes.com  \n",
       "\n",
       "[3988 rows x 7 columns]"
      ]
     },
     "execution_count": 11,
     "metadata": {},
     "output_type": "execute_result"
    }
   ],
   "source": [
    "# http_req_cookies = list(map(lambda x: get_cookies_from_headers(x), http_requests.headers.tolist()))\n",
    "\n",
    "# http_requests[\"cookies\"] = http_req_cookies\n",
    "\n",
    "# http_requests\n",
    "\n",
    "\n",
    "# temp = list(map(lambda x: get_host_from_headers(x), http_requests.headers.tolist()))\n",
    "\n",
    "# http_requests[\"host\"] = temp\n",
    "\n",
    "# http_requests"
   ]
  },
  {
   "cell_type": "code",
   "execution_count": null,
   "metadata": {},
   "outputs": [],
   "source": []
  },
  {
   "cell_type": "code",
   "execution_count": 12,
   "metadata": {},
   "outputs": [],
   "source": [
    "http_request_1 = http_requests[http_requests.visit_id == 1]\n",
    "http_request_2 = http_requests[http_requests.visit_id == 2]\n",
    "http_request_3 = http_requests[http_requests.visit_id == 3]"
   ]
  },
  {
   "cell_type": "code",
   "execution_count": 13,
   "metadata": {},
   "outputs": [
    {
     "data": {
      "text/plain": [
       "array(['https://www.berkeley.edu/',\n",
       "       'https://www.berkeley.edu/cache/5813b1334e164cdb3cb68b53b251ff687172cd4e.1584483415.css',\n",
       "       'https://www.berkeley.edu/?css=styles/.infographics',\n",
       "       'https://www.berkeley.edu/?css=styles/.yamm',\n",
       "       'https://www.berkeley.edu/images/uploads/logo-ucberkeley-white.png',\n",
       "       'https://www.berkeley.edu/images/uploads/logo-ucberkeley.png',\n",
       "       'https://www.berkeley.edu/images/uploads/about_mega.jpg',\n",
       "       'https://www.berkeley.edu/images/uploads/admissions_mega.jpg',\n",
       "       'https://www.berkeley.edu/images/uploads/academic_mega.jpg',\n",
       "       'https://www.berkeley.edu/images/uploads/research_mega.jpg',\n",
       "       'https://www.berkeley.edu/images/uploads/campuslife_mega.jpg',\n",
       "       'https://www.berkeley.edu/images/news_images/Berkeley-seal-top.jpg',\n",
       "       'https://www.berkeley.edu/images/news_images/covid-grocery-worker.jpg',\n",
       "       'https://www.berkeley.edu/images/news_images/IGI-testing-initiative-468.jpg',\n",
       "       'https://www.berkeley.edu/images/news_images/CoronApp.jpg',\n",
       "       'https://news.berkeley.edu/wp-content/uploads/2020/04/swabbing750px.jpg',\n",
       "       'https://www.berkeley.edu/images/news_images/at-home-468.jpg',\n",
       "       'https://www.berkeley.edu/images/news_images/handwashing750.jpg',\n",
       "       'https://www.berkeley.edu/images/news_images/family-quarantine468.jpg',\n",
       "       'https://www.berkeley.edu/images/timeline_images/leconte-1896sierramap.jpg',\n",
       "       'https://www.berkeley.edu/cache/0789bc6c2e1d1377d053befa129dabd76cc3b247.0000000000.js',\n",
       "       'https://www.berkeley.edu/js/vendor/imagesloaded.pkgd.min.js',\n",
       "       'https://www.berkeley.edu/images/css/tessellation-bg-03.png',\n",
       "       'https://www.berkeley.edu/images/hero_images/sunsetcampanile_Photo_by_Frank_Yang_copy.jpg',\n",
       "       'https://www.berkeley.edu/images/css/tessellation-bg-04.png',\n",
       "       'https://www.berkeley.edu/images/css/tessellation-bg-08.png',\n",
       "       'https://www.berkeley.edu/images/css/tessellation-bg-05.png',\n",
       "       'https://www.berkeley.edu/images/css/tessellation-bg-07.png',\n",
       "       'https://www.berkeley.edu/fonts/fontello.woff2?14505533',\n",
       "       'https://www.berkeley.edu/twitter/index/lv_twitter_feed_UCBerkeley',\n",
       "       'https://www.berkeley.edu/blog/index/lv_blog_block_GATEWAY',\n",
       "       'https://ssl.google-analytics.com/r/__utm.gif?utmwv=5.7.2&utms=1&utmn=1096739137&utmhn=www.berkeley.edu&utmcs=UTF-8&utmsr=1366x768&utmvp=1356x694&utmsc=24-bit&utmul=en-us&utmje=0&utmfl=32.0%20r0&utmdt=Home%20%7C%20University%20of%20California%2C%20Berkeley&utmhid=1954477024&utmr=-&utmp=%2F&utmht=1587612920458&utmac=UA-1506086-3&utmcc=__utma%3D41573937.33904625.1587612920.1587612920.1587612920.1%3B%2B__utmz%3D41573937.1587612920.1.1.utmcsr%3D(direct)%7Cutmccn%3D(direct)%7Cutmcmd%3D(none)%3B&utmjid=1705935079&utmredir=1&utmu=qAAAAAAAAAAAAAAAAAAAAAAE~',\n",
       "       'https://p.typekit.net/p.gif?s=1&k=zpy2xov&ht=tk&h=www.berkeley.edu&f=10954.13453.13454.13455.13458.13459.13460.13461.13441.13442.13447.13448.13449.13450&a=565005&js=1.19.2&app=typekit&e=js&_=1587612920493',\n",
       "       'https://8343.global.siteimproveanalytics.io/image.aspx?url=https%3A%2F%2Fwww.berkeley.edu%2F&title=Home%20%7C%20University%20of%20California%2C%20Berkeley&res=1366x768&accountid=8343&rt=1834&prev=1587612924552&luid=02fb2cb7-971b-117f-8037-d6a1ce6be4e3&rnd=55280',\n",
       "       'https://www.facebook.com/x/oauth/status?client_id=290984014442671&input_token&origin=1&redirect_uri=https%3A%2F%2Fwww.berkeley.edu%2F&sdk=joey&wants_cookie_data=false',\n",
       "       'https://www.berkeley.edu/favicon.ico',\n",
       "       'https://8343.global.siteimproveanalytics.io/image.aspx?ourl=http%3A%2F%2Fvcue.berkeley.edu%2Fcommittees-initiatives%2Fcampus-accreditation-overview&ref=https%3A%2F%2Fwww.berkeley.edu%2F&autoonclick=1&accountid=8343&prev=1587612924552&rnd=47215',\n",
       "       'http://vcue.berkeley.edu/committees-initiatives/campus-accreditation-overview',\n",
       "       'https://vcue.berkeley.edu/committees-initiatives/campus-accreditation-overview',\n",
       "       'https://vcue.berkeley.edu/sites/default/files/css/css_kShW4RPmRstZ3SpIC-ZvVGNFVAi0WEMuCnI0ZkYIaFw.css',\n",
       "       'https://vcue.berkeley.edu/sites/default/files/css/css_TnnMw6Mh72mEvaDujXjSbFOpptbdTbtXwXrVO5d8QpM.css',\n",
       "       'https://vcue.berkeley.edu/sites/default/files/css/css_8XutOtFtUXVmvHNa0lL2436KhnCuczjOTmEcG7L7j7o.css',\n",
       "       'https://vcue.berkeley.edu/sites/default/files/css/css_uRH39ViHSECXQWNjFZDxTsWe1uLryRvTq0jodvY5D6M.css',\n",
       "       'https://vcue.berkeley.edu/sites/default/files/css/css_3ndCVnhYJ5Lxp3cCiXqMjKXQnIt0CXFkJftWxqAHIE0.css',\n",
       "       'https://vcue.berkeley.edu/sites/default/files/css/css_OFWfWwE9w6r-mHMqfD2-FQq9YY7Ooz_5cHDGm3San-I.css',\n",
       "       'https://vcue.berkeley.edu/sites/default/files/css/css_6qBy-D9IH9ufojGfn5Asg2_GJV689ICkMyMXtCYHKFA.css',\n",
       "       'https://vcue.berkeley.edu/sites/default/files/css/css_81EreKB4Ffrx5o-vUNZjj3ZYWD1OdbxZpAw5iIonfBQ.css',\n",
       "       'https://vcue.berkeley.edu/sites/default/files/css/css_U20a3W-MZKLqPOMeGRzLwPdt5aUV6fluCkuPPlseBFk.css',\n",
       "       'https://vcue.berkeley.edu/sites/default/files/js/js_EebRuRXFlkaf356V0T2K_8cnUVfCKesNTxdvvPSEhCM.js',\n",
       "       'https://vcue.berkeley.edu/sites/default/files/js/js_CplP3uaSe7aRXQ9aiBD3b56wkeieD2nerD94Kv9mV3k.js',\n",
       "       'https://vcue.berkeley.edu/sites/default/files/js/js_F1A0h-3-XrdufjFQAv0eJyUELqzmbRrk3idRquMLno8.js',\n",
       "       'https://vcue.berkeley.edu/sites/default/files/js/js_TKUqp0duU306x_9rKNvhrNvB2E3DgxpCDvkgWskfLKo.js',\n",
       "       'https://vcue.berkeley.edu/sites/default/files/js/js_B5AWYTdMxSh0-G4tSXVkO4C_OYpjqwrib2rvRaj-7Fg.js',\n",
       "       'https://vcue.berkeley.edu/sites/default/files/js/js_jxSkZz4kc4dg3_fLIb5HL4_Qqp5wCXdPUZoh564qmTE.js',\n",
       "       'https://vcue.berkeley.edu/sites/default/files/styles/openberkeley_megamenu/public/campus_cal_1.jpg?itok=o6i1J1hQ&timestamp=1434592301',\n",
       "       'https://vcue.berkeley.edu/sites/default/files/styles/openberkeley_megamenu/public/houseofcards_prof_sdnts2_0.jpg?itok=NgE4aJ_C&timestamp=1436483135',\n",
       "       'https://vcue.berkeley.edu/sites/default/files/styles/openberkeley_megamenu/public/twoguys_1567.jpg?itok=xYs63Izp&timestamp=1438105152',\n",
       "       'https://vcue.berkeley.edu/sites/default/files/styles/openberkeley_megamenu/public/calday_berkeley-35.jpg?itok=OTBEabkN&timestamp=1437763367',\n",
       "       'https://vcue.berkeley.edu/profiles/openberkeley/themes/openberkeley_theme_brand/assets/images/logo-ucberkeley-white.png',\n",
       "       'https://vcue.berkeley.edu/sites/default/files/js/js_29qYXJz8NLGg8Aomg-RZPjJcj9yEdEst1BMZ9gZbs-4.js',\n",
       "       'https://vcue.berkeley.edu/sites/default/files/js/js_PVEcHbX1e9-OairC7bnd7VJIqy3hBNiEN8qt7z72IgI.js',\n",
       "       'https://vcue.berkeley.edu/profiles/openberkeley/themes/openberkeley_theme_brand/assets/images/berkeley_wordmark_blue_175x70.svg',\n",
       "       'https://vcue.berkeley.edu/profiles/openberkeley/themes/openberkeley_theme_brand/assets/fonts/uc_berkeley_os/uc_berkeley_os_demi-webfont.woff',\n",
       "       'https://vcue.berkeley.edu/profiles/openberkeley/themes/openberkeley_theme_base/assets/fonts/fontawesome-webfont.woff2?v=4.7.0',\n",
       "       'https://vcue.berkeley.edu/profiles/openberkeley/themes/openberkeley_theme_brand/assets/fonts/fontello.woff?94279212',\n",
       "       'https://vcue.berkeley.edu/profiles/openberkeley/modules/contrib/extlink/images/extlink_s.png',\n",
       "       'https://vcue.berkeley.edu/profiles/openberkeley/themes/openberkeley_theme_brand/favicon.ico',\n",
       "       'https://www.google-analytics.com/r/collect?v=1&_v=j81&aip=1&a=365975866&t=pageview&_s=1&dl=https%3A%2F%2Fvcue.berkeley.edu%2Fcommittees-initiatives%2Fcampus-accreditation-overview&ul=en-us&de=UTF-8&dt=Campus%20Accreditation%20Overview%20%7C%20Undergraduate%20Education&sd=24-bit&sr=1366x768&vp=1356x694&je=0&fl=32.0%20r0&_utma=41573937.33904625.1587612920.1587612920.1587612920.1&_utmz=41573937.1587612920.1.1.utmcsr%3D(direct)%7Cutmccn%3D(direct)%7Cutmcmd%3D(none)&_utmht=1587612967455&_u=YQBCAEAB~&jid=951284556&gjid=2006252980&cid=33904625.1587612920&tid=UA-67060595-1&_gid=1400988511.1587612967&_r=1&z=942731872',\n",
       "       'https://ssl.google-analytics.com/__utm.gif?utmwv=5.7.2&utms=3&utmn=1752789141&utmhn=www.berkeley.edu&utmcs=UTF-8&utmsr=1366x768&utmvp=1356x694&utmsc=24-bit&utmul=en-us&utmje=0&utmfl=32.0%20r0&utmdt=Home%20%7C%20University%20of%20California%2C%20Berkeley&utmhid=1893013627&utmr=-&utmp=%2F&utmht=1587612988069&utmac=UA-1506086-3&utmcc=__utma%3D41573937.33904625.1587612920.1587612920.1587612920.1%3B%2B__utmz%3D41573937.1587612920.1.1.utmcsr%3D(direct)%7Cutmccn%3D(direct)%7Cutmcmd%3D(none)%3B&utmjid=&utmu=qAAAAAAAAAAAAAAAAAAAAAAE~',\n",
       "       'https://p.typekit.net/p.gif?s=1&k=zpy2xov&ht=tk&h=www.berkeley.edu&f=10954.13453.13454.13455.13458.13459.13460.13461.13441.13442.13447.13448.13449.13450&a=565005&js=1.19.2&app=typekit&e=js&_=1587612988097',\n",
       "       'https://8343.global.siteimproveanalytics.io/image.aspx?url=https%3A%2F%2Fwww.berkeley.edu%2F&title=Home%20%7C%20University%20of%20California%2C%20Berkeley&res=1366x768&accountid=8343&rt=650&prev=1587612924552&luid=65842975-b472-29c2-809c-b0ca9dd98091&rnd=42543',\n",
       "       'https://8343.global.siteimproveanalytics.io/image.aspx?ourl=https%3A%2F%2Fwww.berkeley.edu%2Fdirectory&ref=https%3A%2F%2Fwww.berkeley.edu%2F&autoonclick=1&accountid=8343&prev=1587612924552&rnd=27815',\n",
       "       'https://www.berkeley.edu/directory',\n",
       "       'https://www.berkeley.edu/cache/21e28ebcfc098b5570f73790fccb414db0950643.0000000000.js',\n",
       "       'https://www.berkeley.edu/images/css/tessellation-bg-12.png',\n",
       "       'https://p.typekit.net/p.gif?s=1&k=zpy2xov&ht=tk&h=www.berkeley.edu&f=10954.13453.13454.13455.13458.13459.13460.13461.13441.13442.13447.13448.13449.13450&a=565005&js=1.19.2&app=typekit&e=js&_=1587612991096',\n",
       "       'https://www.google-analytics.com/collect?v=1&_v=j81&a=1064424934&t=pageview&_s=1&dl=https%3A%2F%2Fwww.berkeley.edu%2Fdirectory&ul=en-us&de=UTF-8&dt=Campus%20Directory%20%7C%20University%20of%20California%2C%20Berkeley&sd=24-bit&sr=1366x768&vp=1356x694&je=0&fl=32.0%20r0&_utma=41573937.33904625.1587612920.1587612920.1587612920.1&_utmz=41573937.1587612920.1.1.utmcsr%3D(direct)%7Cutmccn%3D(direct)%7Cutmcmd%3D(none)&_utmht=1587612991323&_u=AACCAEAB~&jid=&gjid=&cid=33904625.1587612920&tid=UA-1506086-3&_gid=1400988511.1587612967&z=1513236555',\n",
       "       'https://p.typekit.net/p.gif?s=1&k=zpy2xov&ht=tk&h=www.berkeley.edu&f=10954.13453.13454.13455.13458.13459.13460.13461.13441.13442.13447.13448.13449.13450&a=565005&js=1.19.2&app=typekit&e=js&_=1587613011602',\n",
       "       'https://ssl.google-analytics.com/__utm.gif?utmwv=5.7.2&utms=5&utmn=915659377&utmhn=www.berkeley.edu&utmcs=UTF-8&utmsr=1366x768&utmvp=1356x694&utmsc=24-bit&utmul=en-us&utmje=0&utmfl=32.0%20r0&utmdt=Home%20%7C%20University%20of%20California%2C%20Berkeley&utmhid=992856810&utmr=-&utmp=%2F&utmht=1587613011706&utmac=UA-1506086-3&utmcc=__utma%3D41573937.33904625.1587612920.1587612920.1587612920.1%3B%2B__utmz%3D41573937.1587612920.1.1.utmcsr%3D(direct)%7Cutmccn%3D(direct)%7Cutmcmd%3D(none)%3B&utmjid=&utmu=qAAAAAAAAAAAAAAAAAAAAAAE~',\n",
       "       'https://8343.global.siteimproveanalytics.io/image.aspx?url=https%3A%2F%2Fwww.berkeley.edu%2F&title=Home%20%7C%20University%20of%20California%2C%20Berkeley&res=1366x768&accountid=8343&rt=344&prev=1587612924552&luid=bd77616f-42d3-5440-ba37-fb1a39fffb57&rnd=79673',\n",
       "       'https://8343.global.siteimproveanalytics.io/image.aspx?ourl=http%3A%2F%2Fevents.berkeley.edu%2F%3Fevent_ID%3D132866&ref=https%3A%2F%2Fwww.berkeley.edu%2F&autoonclick=1&accountid=8343&prev=1587612924552&rnd=31141',\n",
       "       'http://events.berkeley.edu/?event_ID=132866',\n",
       "       'https://events.berkeley.edu/index.php?event_ID=132866',\n",
       "       'https://events.berkeley.edu/print.css',\n",
       "       'https://events.berkeley.edu/brand/lib/css/minified.css.php',\n",
       "       'https://events.berkeley.edu/js/standard_library_gateway.js',\n",
       "       'https://events.berkeley.edu/images/user_uploads/1_2020-0410-Berkeley-Conversations-COVID-19-campus-calendar-banner-final.jpg',\n",
       "       'https://events.berkeley.edu/images/arrow.gif',\n",
       "       'https://events.berkeley.edu/brand/lib/img/logo-ucberkeley-white.png',\n",
       "       'https://events.berkeley.edu/brand/lib/js/minified.js.php',\n",
       "       'https://www.youtube.com/embed/https://www.youtube.com/watch?v=3_tTbvyHDa0?autoplay=0&controls=2&modestbranding=1&showinfo=0&ohide=1&enablejsapi=1&wmode=transparent&origin=http%3A%2F%2Fwww.berkeley.edu',\n",
       "       'https://events.berkeley.edu/brand/lib/css/cssimg/berkeley_wordmark_blue_175x70.svg',\n",
       "       'https://events.berkeley.edu/brand/images/css/tessellation-bg-03.png',\n",
       "       'https://events.berkeley.edu/brand/images/css/tessellation-bg-12.png',\n",
       "       'https://events.berkeley.edu/brand/lib/fonts/fontello.woff?94279212',\n",
       "       'https://graph.facebook.com/fql?q=SELECT%20total_count%20FROM%20link_stat%20WHERE%20url=%27https%3A%2F%2Fevents.berkeley.edu%2Findex.php%3Fevent_ID%3D132866%27',\n",
       "       'https://www.linkedin.com/countserv/count/share?format=jsonp&url=https%3A%2F%2Fevents.berkeley.edu%2Findex.php%3Fevent_ID%3D132866&callback=jQuery211027445760460644353_1587613015228&_=1587613015229',\n",
       "       'https://ssl.google-analytics.com/__utm.gif?utmwv=5.7.2&utms=1&utmn=1506527607&utmhn=events.berkeley.edu&utmcs=UTF-8&utmsr=1366x768&utmvp=1356x694&utmsc=24-bit&utmul=en-us&utmje=0&utmfl=32.0%20r0&utmdt=UC%20Berkeley%20Events%20Calendar%3A%20Berkeley%20Conversations%3A%20COVID-19%20--%20Trauma-Informed%20Approaches%20for%20Individual%20and%20Organizational%20Resilience%20during%20the%20COVID-19%20Crisis&utmhid=1639506091&utmr=-&utmp=%2Findex.php%3Fevent_ID%3D132866&utmht=1587613015358&utmac=UA-1506086-14&utmcc=__utma%3D20808044.33904625.1587612920.1587613015.1587613015.1%3B%2B__utmz%3D20808044.1587613015.1.1.utmcsr%3D(direct)%7Cutmccn%3D(direct)%7Cutmcmd%3D(none)%3B&utmjid=&utmu=qAAAAAAAAAAAAAAAAAABAAAE~',\n",
       "       'https://p.typekit.net/p.gif?s=1&k=zpy2xov&ht=tk&h=events.berkeley.edu&f=10954.13453.13454.13455.13458.13459.13460.13461.13441.13442.13447.13448.13449.13450&a=565005&js=1.19.2&app=typekit&e=js&_=1587613015539',\n",
       "       'https://www.linkedin.com/countserv/count/share?format=jsonp&url=https%3A%2F%2Fevents.berkeley.edu%2Findex.php%3Fevent_ID%3D132866&callback=?',\n",
       "       'https://events.berkeley.edu/favicon.ico',\n",
       "       'https://ssl.google-analytics.com/__utm.gif?utmwv=5.7.2&utms=6&utmn=780880033&utmhn=www.berkeley.edu&utmcs=UTF-8&utmsr=1366x768&utmvp=1356x694&utmsc=24-bit&utmul=en-us&utmje=0&utmfl=32.0%20r0&utmdt=Home%20%7C%20University%20of%20California%2C%20Berkeley&utmhid=1252390533&utmr=-&utmp=%2F&utmht=1587613036893&utmac=UA-1506086-3&utmcc=__utma%3D41573937.33904625.1587612920.1587612920.1587612920.1%3B%2B__utmz%3D41573937.1587612920.1.1.utmcsr%3D(direct)%7Cutmccn%3D(direct)%7Cutmcmd%3D(none)%3B&utmjid=&utmu=qAAAAAAAAAAAAAAAAAAAAAAE~',\n",
       "       'https://p.typekit.net/p.gif?s=1&k=zpy2xov&ht=tk&h=www.berkeley.edu&f=10954.13453.13454.13455.13458.13459.13460.13461.13441.13442.13447.13448.13449.13450&a=565005&js=1.19.2&app=typekit&e=js&_=1587613036933',\n",
       "       'https://8343.global.siteimproveanalytics.io/image.aspx?url=https%3A%2F%2Fwww.berkeley.edu%2F&title=Home%20%7C%20University%20of%20California%2C%20Berkeley&res=1366x768&accountid=8343&rt=683&prev=1587612924552&luid=9dc6fb24-bea5-ed3e-2492-1cf1e53180f4&rnd=53143'],\n",
       "      dtype=object)"
      ]
     },
     "execution_count": 13,
     "metadata": {},
     "output_type": "execute_result"
    }
   ],
   "source": [
    "http_request_1[http_request_1.url.str.contains(names[0])].url.unique()"
   ]
  },
  {
   "cell_type": "code",
   "execution_count": 14,
   "metadata": {},
   "outputs": [],
   "source": [
    "# http_request (filter by url)"
   ]
  },
  {
   "cell_type": "code",
   "execution_count": 15,
   "metadata": {},
   "outputs": [],
   "source": [
    "http_dict = {\n",
    "  \"nytimes\": ['https://www.nytimes.com', 'https://nytimes.com', 'https://a.et.nytimes', 'https://et.nytimes.com','https://static01.nyt.com', \\\n",
    "              'https://a.nytimes.com' ,'https://g1.nyt.com', 'https://als-svc.nytimes.com', 'https://content.api.nytimes.com', 'https://purr.nytimes.com',\\\n",
    "              'https://samizdat-graphql.nytimes.com',  'https://meter-svc.nytimes.com',  'https://mwcm.nytimes.com',  'https://myaccount.nytimes.com'],\n",
    "  \"webmd\": ['https://www.webmd.com', 'https://css.webmd.com', 'https://js.webmd.com','https://img.webmd.com',  'http://img.webmd.com',\\\n",
    "            'https://ssl.o.webmd.com' , 'https://survey.o.webmd.com', 'https://js.staging.webmd.com', 'https://css.staging.webmd.com'],\n",
    "  \"berkeley\": ['https://www.berkeley.edu', 'https://news.berkeley.edu', 'https://matrix.berkeley.edu', 'http://give.berkeley.edu', \\\n",
    "               'http://bconnected.berkeley.edu', 'https://bconnected.berkeley.edu', 'https://greatergood.berkeley.edu', \\\n",
    "               'https://irle.berkeley.edu',  'https://publichealth.berkeley.edu', 'https://calparents.berkeley.edu',  \\\n",
    "               'http://vcue.berkeley.edu','https://vcue.berkeley.edu', 'http://events.berkeley.edu','https://events.berkeley.edu']\n",
    "}"
   ]
  },
  {
   "cell_type": "code",
   "execution_count": 16,
   "metadata": {},
   "outputs": [
    {
     "name": "stdout",
     "output_type": "stream",
     "text": [
      "(257, 7)\n",
      "https://www.berkeley.edu\n",
      "(192, 7)\n",
      "https://news.berkeley.edu\n",
      "(191, 7)\n",
      "https://matrix.berkeley.edu\n",
      "(191, 7)\n",
      "http://give.berkeley.edu\n",
      "(191, 7)\n",
      "http://bconnected.berkeley.edu\n",
      "(191, 7)\n",
      "https://bconnected.berkeley.edu\n",
      "(191, 7)\n",
      "https://greatergood.berkeley.edu\n",
      "(191, 7)\n",
      "https://irle.berkeley.edu\n",
      "(191, 7)\n",
      "https://publichealth.berkeley.edu\n",
      "(191, 7)\n",
      "https://calparents.berkeley.edu\n",
      "(191, 7)\n",
      "http://vcue.berkeley.edu\n",
      "(190, 7)\n",
      "https://vcue.berkeley.edu\n",
      "(161, 7)\n",
      "http://events.berkeley.edu\n",
      "(160, 7)\n",
      "https://events.berkeley.edu\n",
      "(147, 7)\n",
      "***********************************\n",
      "(2006, 7)\n",
      "https://www.webmd.com\n",
      "(1981, 7)\n",
      "https://css.webmd.com\n",
      "(1947, 7)\n",
      "https://js.webmd.com\n",
      "(1932, 7)\n",
      "https://img.webmd.com\n",
      "(1629, 7)\n",
      "http://img.webmd.com\n",
      "(1628, 7)\n",
      "https://ssl.o.webmd.com\n",
      "(1621, 7)\n",
      "https://survey.o.webmd.com\n",
      "(1620, 7)\n",
      "https://js.staging.webmd.com\n",
      "(1620, 7)\n",
      "https://css.staging.webmd.com\n",
      "(1620, 7)\n",
      "***********************************\n",
      "(1725, 7)\n",
      "https://www.nytimes.com\n",
      "(1503, 7)\n",
      "https://nytimes.com\n",
      "(1497, 7)\n",
      "https://a.et.nytimes\n",
      "(1382, 7)\n",
      "https://et.nytimes.com\n",
      "(1305, 7)\n",
      "https://static01.nyt.com\n",
      "(1220, 7)\n",
      "https://a.nytimes.com\n",
      "(1213, 7)\n",
      "https://g1.nyt.com\n",
      "(1180, 7)\n",
      "https://als-svc.nytimes.com\n",
      "(1174, 7)\n",
      "https://content.api.nytimes.com\n",
      "(1107, 7)\n",
      "https://purr.nytimes.com\n",
      "(1101, 7)\n",
      "https://samizdat-graphql.nytimes.com\n",
      "(1086, 7)\n",
      "https://meter-svc.nytimes.com\n",
      "(1080, 7)\n",
      "https://mwcm.nytimes.com\n",
      "(1074, 7)\n",
      "https://myaccount.nytimes.com\n",
      "(1067, 7)\n",
      "***********************************\n"
     ]
    }
   ],
   "source": [
    "http_request_third_1 = http_request_1\n",
    "print(http_request_third_1.shape)\n",
    "for temp in http_dict.get(names[0]):\n",
    "    print(temp)\n",
    "    http_request_third_1 = http_request_third_1[-http_request_third_1.url.str.startswith(temp)]\n",
    "    print(http_request_third_1.shape)\n",
    "    \n",
    "print(\"***********************************\")\n",
    "\n",
    "http_request_third_2 = http_request_2\n",
    "print(http_request_third_2.shape)\n",
    "for temp in http_dict.get(names[1]):\n",
    "    print(temp)\n",
    "    http_request_third_2 = http_request_third_2[-http_request_third_2.url.str.startswith(temp)]\n",
    "    print(http_request_third_2.shape)\n",
    "\n",
    "# http_request_third_2 = http_request_third_2[-http_request_third_2.url.str.contains(\"publichealth.berkeley.edu\")]\n",
    "# print(\"special\", http_request_third_2.shape)\n",
    "\n",
    "print(\"***********************************\")\n",
    "\n",
    "\n",
    "http_request_third_3 = http_request_3\n",
    "print(http_request_third_3.shape)\n",
    "for temp in http_dict.get(names[2]):\n",
    "    print(temp)\n",
    "    http_request_third_3 = http_request_third_3[-http_request_third_3.url.str.startswith(temp)]\n",
    "    print(http_request_third_3.shape)\n",
    "    \n",
    "print(\"***********************************\")\n",
    "\n"
   ]
  },
  {
   "cell_type": "code",
   "execution_count": 60,
   "metadata": {},
   "outputs": [],
   "source": [
    "# double check\n",
    "# berkeley\n",
    "\n",
    "temp = http_request_third_1\n",
    "temp = temp[-temp.url.str.contains('facebook')]\n",
    "temp = temp[-temp.url.str.contains('typekit')]\n",
    "temp = temp[-temp.url.str.contains('google-analytics')]\n",
    "temp = temp[-temp.url.str.contains('siteimproveanalytics')]\n",
    "\n",
    "list(temp[temp.url.str.contains(names[0])].url)"
   ]
  },
  {
   "cell_type": "code",
   "execution_count": 68,
   "metadata": {},
   "outputs": [],
   "source": [
    "# double check\n",
    "\n",
    "temp = http_request_third_2\n",
    "temp = temp[-temp.url.str.contains('facebook')]\n",
    "temp = temp[-temp.url.str.contains('pinterest')]\n",
    "temp = temp[-temp.url.str.contains('criteo')]\n",
    "temp = temp[-temp.url.str.contains('liadm')]\n",
    "temp = temp[-temp.url.str.contains('pagead2')]\n",
    "temp = temp[-temp.url.str.contains('media.net')]\n",
    "temp = temp[-temp.url.str.contains('doubleclick')]\n",
    "temp = temp[-temp.url.str.contains('moatads')]\n",
    "temp = temp[-temp.url.str.contains('webmddfp936579382290')]\n",
    "temp = temp[-temp.url.str.contains('scorecardresearch')]\n",
    "temp = temp[-temp.url.str.contains('trustarc')]\n",
    "temp = temp[-temp.url.str.contains('omtrdc')]\n",
    "temp = temp[-temp.url.str.contains('doubleverify')]\n",
    "temp = temp[-temp.url.str.contains('ibclick.stream')]\n",
    "\n",
    "list(temp[temp.url.str.contains(names[1])].url)"
   ]
  },
  {
   "cell_type": "code",
   "execution_count": 71,
   "metadata": {},
   "outputs": [],
   "source": [
    "# media.net - adexchange\n",
    "\n",
    "# double check\n",
    "# nytimes\n",
    "\n",
    "temp = http_request_third_3\n",
    "temp = temp[-temp.url.str.contains('contextual')]\n",
    "temp = temp[-temp.url.str.contains('media.net')]\n",
    "temp = temp[-temp.url.str.contains('scorecardresearch')]\n",
    "temp = temp[-temp.url.str.contains('google-analytics')]\n",
    "temp = temp[-temp.url.str.contains('bluekai')]\n",
    "temp = temp[-temp.url.str.contains('chartbeat')]\n",
    "temp = temp[-temp.url.str.contains('tpcserve')]\n",
    "temp = temp[-temp.url.str.contains('doubleclick')]\n",
    "temp = temp[-temp.url.str.contains('amazon-adsystem')]\n",
    "temp = temp[-temp.url.str.contains('criteo')]\n",
    "\n",
    "list(temp[temp.url.str.contains(names[2])].url)"
   ]
  },
  {
   "cell_type": "code",
   "execution_count": null,
   "metadata": {
    "scrolled": true
   },
   "outputs": [],
   "source": []
  },
  {
   "cell_type": "code",
   "execution_count": 17,
   "metadata": {},
   "outputs": [],
   "source": [
    "http_request_third_1.to_csv('4-1-httprequest.csv', index=False)\n",
    "http_request_third_2.to_csv('4-2-httprequest.csv', index=False)\n",
    "http_request_third_3.to_csv('4-3-httprequest.csv', index=False)"
   ]
  },
  {
   "cell_type": "code",
   "execution_count": null,
   "metadata": {},
   "outputs": [],
   "source": []
  },
  {
   "cell_type": "code",
   "execution_count": null,
   "metadata": {},
   "outputs": [],
   "source": []
  },
  {
   "cell_type": "code",
   "execution_count": 76,
   "metadata": {},
   "outputs": [
    {
     "data": {
      "text/html": [
       "<div>\n",
       "<style scoped>\n",
       "    .dataframe tbody tr th:only-of-type {\n",
       "        vertical-align: middle;\n",
       "    }\n",
       "\n",
       "    .dataframe tbody tr th {\n",
       "        vertical-align: top;\n",
       "    }\n",
       "\n",
       "    .dataframe thead th {\n",
       "        text-align: right;\n",
       "    }\n",
       "</style>\n",
       "<table border=\"1\" class=\"dataframe\">\n",
       "  <thead>\n",
       "    <tr style=\"text-align: right;\">\n",
       "      <th></th>\n",
       "      <th>Exp</th>\n",
       "      <th>Websites</th>\n",
       "    </tr>\n",
       "  </thead>\n",
       "  <tbody>\n",
       "    <tr>\n",
       "      <th>0</th>\n",
       "      <td>1</td>\n",
       "      <td>['nytimes', 'webmd', 'berkeley']</td>\n",
       "    </tr>\n",
       "    <tr>\n",
       "      <th>1</th>\n",
       "      <td>2</td>\n",
       "      <td>['webmd', 'nytimes', 'berkeley']</td>\n",
       "    </tr>\n",
       "    <tr>\n",
       "      <th>2</th>\n",
       "      <td>3</td>\n",
       "      <td>['webmd', 'berkeley', 'nytimes']</td>\n",
       "    </tr>\n",
       "  </tbody>\n",
       "</table>\n",
       "</div>"
      ],
      "text/plain": [
       "   Exp                          Websites\n",
       "0    1  ['nytimes', 'webmd', 'berkeley']\n",
       "1    2  ['webmd', 'nytimes', 'berkeley']\n",
       "2    3  ['webmd', 'berkeley', 'nytimes']"
      ]
     },
     "execution_count": 76,
     "metadata": {},
     "output_type": "execute_result"
    }
   ],
   "source": [
    "experiments_df = pd.DataFrame(pd.read_csv('experiments.csv')  , columns = ['Exp', 'Websites']) \n",
    "experiments_df"
   ]
  },
  {
   "cell_type": "code",
   "execution_count": 77,
   "metadata": {},
   "outputs": [
    {
     "data": {
      "text/html": [
       "<div>\n",
       "<style scoped>\n",
       "    .dataframe tbody tr th:only-of-type {\n",
       "        vertical-align: middle;\n",
       "    }\n",
       "\n",
       "    .dataframe tbody tr th {\n",
       "        vertical-align: top;\n",
       "    }\n",
       "\n",
       "    .dataframe thead th {\n",
       "        text-align: right;\n",
       "    }\n",
       "</style>\n",
       "<table border=\"1\" class=\"dataframe\">\n",
       "  <thead>\n",
       "    <tr style=\"text-align: right;\">\n",
       "      <th></th>\n",
       "      <th>Exp</th>\n",
       "      <th>Websites</th>\n",
       "    </tr>\n",
       "  </thead>\n",
       "  <tbody>\n",
       "    <tr>\n",
       "      <th>0</th>\n",
       "      <td>1</td>\n",
       "      <td>['nytimes', 'webmd', 'berkeley']</td>\n",
       "    </tr>\n",
       "    <tr>\n",
       "      <th>1</th>\n",
       "      <td>2</td>\n",
       "      <td>['webmd', 'nytimes', 'berkeley']</td>\n",
       "    </tr>\n",
       "    <tr>\n",
       "      <th>2</th>\n",
       "      <td>3</td>\n",
       "      <td>['webmd', 'berkeley', 'nytimes']</td>\n",
       "    </tr>\n",
       "    <tr>\n",
       "      <th>0</th>\n",
       "      <td>4</td>\n",
       "      <td>[berkeley, webmd, nytimes]</td>\n",
       "    </tr>\n",
       "  </tbody>\n",
       "</table>\n",
       "</div>"
      ],
      "text/plain": [
       "   Exp                          Websites\n",
       "0    1  ['nytimes', 'webmd', 'berkeley']\n",
       "1    2  ['webmd', 'nytimes', 'berkeley']\n",
       "2    3  ['webmd', 'berkeley', 'nytimes']\n",
       "0    4        [berkeley, webmd, nytimes]"
      ]
     },
     "execution_count": 77,
     "metadata": {},
     "output_type": "execute_result"
    }
   ],
   "source": [
    "experiment_num = 4\n",
    "\n",
    "temp = pd.DataFrame([[experiment_num, names]], columns = ['Exp', 'Websites']) \n",
    "\n",
    "experiments_df = pd.concat([experiments_df,temp])\n",
    "\n",
    "experiments_df\n"
   ]
  },
  {
   "cell_type": "code",
   "execution_count": 78,
   "metadata": {},
   "outputs": [],
   "source": [
    "experiments_df.to_csv('experiments.csv', index=False)"
   ]
  },
  {
   "cell_type": "code",
   "execution_count": null,
   "metadata": {},
   "outputs": [],
   "source": []
  }
 ],
 "metadata": {
  "kernelspec": {
   "display_name": "Python 3",
   "language": "python",
   "name": "python3"
  },
  "language_info": {
   "codemirror_mode": {
    "name": "ipython",
    "version": 3
   },
   "file_extension": ".py",
   "mimetype": "text/x-python",
   "name": "python",
   "nbconvert_exporter": "python",
   "pygments_lexer": "ipython3",
   "version": "3.7.6"
  }
 },
 "nbformat": 4,
 "nbformat_minor": 2
}
