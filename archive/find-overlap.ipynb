{
 "cells": [
  {
   "cell_type": "code",
   "execution_count": 168,
   "metadata": {},
   "outputs": [],
   "source": [
    "import pandas as pd\n",
    "import numpy as np"
   ]
  },
  {
   "cell_type": "code",
   "execution_count": 169,
   "metadata": {
    "scrolled": true
   },
   "outputs": [],
   "source": [
    "exp_num = 2\n",
    "unique_huge = pd.read_csv(\"../hugecookies/hugecookies-{}.csv\".format(exp_num))"
   ]
  },
  {
   "cell_type": "code",
   "execution_count": 170,
   "metadata": {},
   "outputs": [
    {
     "data": {
      "text/plain": [
       "(197370, 6)"
      ]
     },
     "execution_count": 170,
     "metadata": {},
     "output_type": "execute_result"
    }
   ],
   "source": [
    "unique_huge.shape"
   ]
  },
  {
   "cell_type": "code",
   "execution_count": 171,
   "metadata": {},
   "outputs": [
    {
     "data": {
      "text/plain": [
       "(191841, 6)"
      ]
     },
     "execution_count": 171,
     "metadata": {},
     "output_type": "execute_result"
    }
   ],
   "source": [
    "unique_huge.dropna(inplace=True)\n",
    "unique_huge.shape"
   ]
  },
  {
   "cell_type": "code",
   "execution_count": 172,
   "metadata": {},
   "outputs": [
    {
     "data": {
      "text/plain": [
       "(146194, 6)"
      ]
     },
     "execution_count": 172,
     "metadata": {},
     "output_type": "execute_result"
    }
   ],
   "source": [
    "unique_huge = unique_huge[unique_huge['value'].str.len() >= 8]\n",
    "unique_huge.shape"
   ]
  },
  {
   "cell_type": "code",
   "execution_count": 173,
   "metadata": {},
   "outputs": [
    {
     "data": {
      "text/plain": [
       "(141778, 6)"
      ]
     },
     "execution_count": 173,
     "metadata": {},
     "output_type": "execute_result"
    }
   ],
   "source": [
    "unique_huge.drop(unique_huge[unique_huge.name.str.contains('Test|test|lang|SameSite|Samesite|sameSite|samesite|expires|Path|path|domain|Expires|max-age')].index, inplace=True)\n",
    "unique_huge.drop(unique_huge[unique_huge.value.isin(['1','0','2','true','yes','YES','ok','nan','none','None','NO_DATA','null','setstatuscode~~1'])].index, inplace=True)\n",
    "unique_huge.shape"
   ]
  },
  {
   "cell_type": "code",
   "execution_count": 174,
   "metadata": {},
   "outputs": [],
   "source": [
    "# unique_huge.value.unique().tolist()"
   ]
  },
  {
   "cell_type": "code",
   "execution_count": 175,
   "metadata": {},
   "outputs": [],
   "source": [
    "unique_huge['namevalue'] = list(map(lambda a, b: (a, b), unique_huge[\"name\"].astype(str), unique_huge[\"value\"].astype(str)))"
   ]
  },
  {
   "cell_type": "code",
   "execution_count": 176,
   "metadata": {
    "scrolled": true
   },
   "outputs": [
    {
     "data": {
      "text/html": [
       "<div>\n",
       "<style scoped>\n",
       "    .dataframe tbody tr th:only-of-type {\n",
       "        vertical-align: middle;\n",
       "    }\n",
       "\n",
       "    .dataframe tbody tr th {\n",
       "        vertical-align: top;\n",
       "    }\n",
       "\n",
       "    .dataframe thead th {\n",
       "        text-align: right;\n",
       "    }\n",
       "</style>\n",
       "<table border=\"1\" class=\"dataframe\">\n",
       "  <thead>\n",
       "    <tr style=\"text-align: right;\">\n",
       "      <th></th>\n",
       "      <th>namevalue</th>\n",
       "      <th>context_id</th>\n",
       "      <th>time_stamp</th>\n",
       "    </tr>\n",
       "  </thead>\n",
       "  <tbody>\n",
       "    <tr>\n",
       "      <th>0</th>\n",
       "      <td>(113, 20200501)</td>\n",
       "      <td>1</td>\n",
       "      <td>1</td>\n",
       "    </tr>\n",
       "    <tr>\n",
       "      <th>1</th>\n",
       "      <td>(131, 20200501)</td>\n",
       "      <td>1</td>\n",
       "      <td>1</td>\n",
       "    </tr>\n",
       "    <tr>\n",
       "      <th>2</th>\n",
       "      <td>(131, 20200501)</td>\n",
       "      <td>2</td>\n",
       "      <td>1</td>\n",
       "    </tr>\n",
       "    <tr>\n",
       "      <th>3</th>\n",
       "      <td>(33x_ps, u%3D76839448493146%3As1%3D15883690020...</td>\n",
       "      <td>2</td>\n",
       "      <td>20</td>\n",
       "    </tr>\n",
       "    <tr>\n",
       "      <th>4</th>\n",
       "      <td>(A3, d=AQABBFCWrF4CEOk_HrROnnxMZ2lVKqQaT5AFEgE...</td>\n",
       "      <td>2</td>\n",
       "      <td>3</td>\n",
       "    </tr>\n",
       "    <tr>\n",
       "      <th>...</th>\n",
       "      <td>...</td>\n",
       "      <td>...</td>\n",
       "      <td>...</td>\n",
       "    </tr>\n",
       "    <tr>\n",
       "      <th>1693</th>\n",
       "      <td>(zuid, KHZ89MT9KlK-f1O8NSb0)</td>\n",
       "      <td>1</td>\n",
       "      <td>18</td>\n",
       "    </tr>\n",
       "    <tr>\n",
       "      <th>1694</th>\n",
       "      <td>(zuid, KHZ89MT9KlK-f1O8NSb0)</td>\n",
       "      <td>2</td>\n",
       "      <td>10</td>\n",
       "    </tr>\n",
       "    <tr>\n",
       "      <th>1695</th>\n",
       "      <td>(zuuid, da2a4c3b-a7c3-4004-9688-93ae99812a48)</td>\n",
       "      <td>2</td>\n",
       "      <td>4</td>\n",
       "    </tr>\n",
       "    <tr>\n",
       "      <th>1696</th>\n",
       "      <td>(zuuid_lu, 1588368995)</td>\n",
       "      <td>2</td>\n",
       "      <td>2</td>\n",
       "    </tr>\n",
       "    <tr>\n",
       "      <th>1697</th>\n",
       "      <td>(zuuid_lu, 1588368996)</td>\n",
       "      <td>2</td>\n",
       "      <td>2</td>\n",
       "    </tr>\n",
       "  </tbody>\n",
       "</table>\n",
       "<p>1698 rows × 3 columns</p>\n",
       "</div>"
      ],
      "text/plain": [
       "                                              namevalue  context_id  \\\n",
       "0                                       (113, 20200501)           1   \n",
       "1                                       (131, 20200501)           1   \n",
       "2                                       (131, 20200501)           2   \n",
       "3     (33x_ps, u%3D76839448493146%3As1%3D15883690020...           2   \n",
       "4     (A3, d=AQABBFCWrF4CEOk_HrROnnxMZ2lVKqQaT5AFEgE...           2   \n",
       "...                                                 ...         ...   \n",
       "1693                       (zuid, KHZ89MT9KlK-f1O8NSb0)           1   \n",
       "1694                       (zuid, KHZ89MT9KlK-f1O8NSb0)           2   \n",
       "1695      (zuuid, da2a4c3b-a7c3-4004-9688-93ae99812a48)           2   \n",
       "1696                             (zuuid_lu, 1588368995)           2   \n",
       "1697                             (zuuid_lu, 1588368996)           2   \n",
       "\n",
       "      time_stamp  \n",
       "0              1  \n",
       "1              1  \n",
       "2              1  \n",
       "3             20  \n",
       "4              3  \n",
       "...          ...  \n",
       "1693          18  \n",
       "1694          10  \n",
       "1695           4  \n",
       "1696           2  \n",
       "1697           2  \n",
       "\n",
       "[1698 rows x 3 columns]"
      ]
     },
     "execution_count": 176,
     "metadata": {},
     "output_type": "execute_result"
    }
   ],
   "source": [
    "byoccur = unique_huge.groupby([\"namevalue\", \"context_id\"], as_index = False)['time_stamp'].count()\n",
    "byoccur\n",
    "#temp2.to_csv(\"unique_namevalue-3.csv\", index=False)"
   ]
  },
  {
   "cell_type": "code",
   "execution_count": null,
   "metadata": {},
   "outputs": [],
   "source": []
  },
  {
   "cell_type": "code",
   "execution_count": 177,
   "metadata": {},
   "outputs": [],
   "source": [
    "# clean host domain \n",
    "temp = list(map(lambda x:\".\".join(x.split(\".\")[:2]).replace('https://','').replace('www',''), unique_huge['host'].tolist()))                    \n",
    "len(temp)\n",
    "unique_huge['host_clean'] = temp\n"
   ]
  },
  {
   "cell_type": "code",
   "execution_count": 178,
   "metadata": {},
   "outputs": [
    {
     "data": {
      "text/html": [
       "<div>\n",
       "<style scoped>\n",
       "    .dataframe tbody tr th:only-of-type {\n",
       "        vertical-align: middle;\n",
       "    }\n",
       "\n",
       "    .dataframe tbody tr th {\n",
       "        vertical-align: top;\n",
       "    }\n",
       "\n",
       "    .dataframe thead th {\n",
       "        text-align: right;\n",
       "    }\n",
       "</style>\n",
       "<table border=\"1\" class=\"dataframe\">\n",
       "  <thead>\n",
       "    <tr style=\"text-align: right;\">\n",
       "      <th></th>\n",
       "      <th>namevalue</th>\n",
       "      <th>context_id</th>\n",
       "      <th>byhost</th>\n",
       "    </tr>\n",
       "  </thead>\n",
       "  <tbody>\n",
       "    <tr>\n",
       "      <th>0</th>\n",
       "      <td>(113, 20200501)</td>\n",
       "      <td>1</td>\n",
       "      <td>{.deepintent}</td>\n",
       "    </tr>\n",
       "    <tr>\n",
       "      <th>1</th>\n",
       "      <td>(131, 20200501)</td>\n",
       "      <td>1</td>\n",
       "      <td>{match.deepintent}</td>\n",
       "    </tr>\n",
       "    <tr>\n",
       "      <th>2</th>\n",
       "      <td>(131, 20200501)</td>\n",
       "      <td>2</td>\n",
       "      <td>{.deepintent}</td>\n",
       "    </tr>\n",
       "    <tr>\n",
       "      <th>3</th>\n",
       "      <td>(33x_ps, u%3D76839448493146%3As1%3D15883690020...</td>\n",
       "      <td>2</td>\n",
       "      <td>{cms-xch-chicago.33across, .33across, ssc.33ac...</td>\n",
       "    </tr>\n",
       "    <tr>\n",
       "      <th>4</th>\n",
       "      <td>(A3, d=AQABBFCWrF4CEOk_HrROnnxMZ2lVKqQaT5AFEgE...</td>\n",
       "      <td>2</td>\n",
       "      <td>{ups.analytics, pr-bh.ybp, .yahoo}</td>\n",
       "    </tr>\n",
       "    <tr>\n",
       "      <th>...</th>\n",
       "      <td>...</td>\n",
       "      <td>...</td>\n",
       "      <td>...</td>\n",
       "    </tr>\n",
       "    <tr>\n",
       "      <th>1693</th>\n",
       "      <td>(zuid, KHZ89MT9KlK-f1O8NSb0)</td>\n",
       "      <td>1</td>\n",
       "      <td>{b1sync.zemanta, .zemanta}</td>\n",
       "    </tr>\n",
       "    <tr>\n",
       "      <th>1694</th>\n",
       "      <td>(zuid, KHZ89MT9KlK-f1O8NSb0)</td>\n",
       "      <td>2</td>\n",
       "      <td>{b1sync.zemanta, .zemanta}</td>\n",
       "    </tr>\n",
       "    <tr>\n",
       "      <th>1695</th>\n",
       "      <td>(zuuid, da2a4c3b-a7c3-4004-9688-93ae99812a48)</td>\n",
       "      <td>2</td>\n",
       "      <td>{a.sportradarserving, .sportradarserving}</td>\n",
       "    </tr>\n",
       "    <tr>\n",
       "      <th>1696</th>\n",
       "      <td>(zuuid_lu, 1588368995)</td>\n",
       "      <td>2</td>\n",
       "      <td>{a.sportradarserving, .sportradarserving}</td>\n",
       "    </tr>\n",
       "    <tr>\n",
       "      <th>1697</th>\n",
       "      <td>(zuuid_lu, 1588368996)</td>\n",
       "      <td>2</td>\n",
       "      <td>{.sportradarserving}</td>\n",
       "    </tr>\n",
       "  </tbody>\n",
       "</table>\n",
       "<p>1698 rows × 3 columns</p>\n",
       "</div>"
      ],
      "text/plain": [
       "                                              namevalue  context_id  \\\n",
       "0                                       (113, 20200501)           1   \n",
       "1                                       (131, 20200501)           1   \n",
       "2                                       (131, 20200501)           2   \n",
       "3     (33x_ps, u%3D76839448493146%3As1%3D15883690020...           2   \n",
       "4     (A3, d=AQABBFCWrF4CEOk_HrROnnxMZ2lVKqQaT5AFEgE...           2   \n",
       "...                                                 ...         ...   \n",
       "1693                       (zuid, KHZ89MT9KlK-f1O8NSb0)           1   \n",
       "1694                       (zuid, KHZ89MT9KlK-f1O8NSb0)           2   \n",
       "1695      (zuuid, da2a4c3b-a7c3-4004-9688-93ae99812a48)           2   \n",
       "1696                             (zuuid_lu, 1588368995)           2   \n",
       "1697                             (zuuid_lu, 1588368996)           2   \n",
       "\n",
       "                                                 byhost  \n",
       "0                                         {.deepintent}  \n",
       "1                                    {match.deepintent}  \n",
       "2                                         {.deepintent}  \n",
       "3     {cms-xch-chicago.33across, .33across, ssc.33ac...  \n",
       "4                    {ups.analytics, pr-bh.ybp, .yahoo}  \n",
       "...                                                 ...  \n",
       "1693                         {b1sync.zemanta, .zemanta}  \n",
       "1694                         {b1sync.zemanta, .zemanta}  \n",
       "1695          {a.sportradarserving, .sportradarserving}  \n",
       "1696          {a.sportradarserving, .sportradarserving}  \n",
       "1697                               {.sportradarserving}  \n",
       "\n",
       "[1698 rows x 3 columns]"
      ]
     },
     "execution_count": 178,
     "metadata": {},
     "output_type": "execute_result"
    }
   ],
   "source": [
    "# byhost = pd.DataFrame(unique_huge.groupby([\"namevalue\", \"context_id\"], as_index = False)['host_clean'].apply(list))\n",
    "byhost = pd.DataFrame(unique_huge.groupby([\"namevalue\", \"context_id\"], as_index = False)['host_clean'].apply(set).reset_index(name='byhost'))\n",
    "byhost"
   ]
  },
  {
   "cell_type": "code",
   "execution_count": 179,
   "metadata": {},
   "outputs": [
    {
     "data": {
      "text/html": [
       "<div>\n",
       "<style scoped>\n",
       "    .dataframe tbody tr th:only-of-type {\n",
       "        vertical-align: middle;\n",
       "    }\n",
       "\n",
       "    .dataframe tbody tr th {\n",
       "        vertical-align: top;\n",
       "    }\n",
       "\n",
       "    .dataframe thead th {\n",
       "        text-align: right;\n",
       "    }\n",
       "</style>\n",
       "<table border=\"1\" class=\"dataframe\">\n",
       "  <thead>\n",
       "    <tr style=\"text-align: right;\">\n",
       "      <th></th>\n",
       "      <th>namevalue</th>\n",
       "      <th>context_id</th>\n",
       "      <th>time_stamp</th>\n",
       "      <th>byhost</th>\n",
       "    </tr>\n",
       "  </thead>\n",
       "  <tbody>\n",
       "    <tr>\n",
       "      <th>0</th>\n",
       "      <td>(113, 20200501)</td>\n",
       "      <td>1</td>\n",
       "      <td>1</td>\n",
       "      <td>{.deepintent}</td>\n",
       "    </tr>\n",
       "    <tr>\n",
       "      <th>1</th>\n",
       "      <td>(131, 20200501)</td>\n",
       "      <td>1</td>\n",
       "      <td>1</td>\n",
       "      <td>{match.deepintent}</td>\n",
       "    </tr>\n",
       "    <tr>\n",
       "      <th>2</th>\n",
       "      <td>(131, 20200501)</td>\n",
       "      <td>2</td>\n",
       "      <td>1</td>\n",
       "      <td>{.deepintent}</td>\n",
       "    </tr>\n",
       "    <tr>\n",
       "      <th>3</th>\n",
       "      <td>(33x_ps, u%3D76839448493146%3As1%3D15883690020...</td>\n",
       "      <td>2</td>\n",
       "      <td>20</td>\n",
       "      <td>{cms-xch-chicago.33across, .33across, ssc.33ac...</td>\n",
       "    </tr>\n",
       "    <tr>\n",
       "      <th>4</th>\n",
       "      <td>(A3, d=AQABBFCWrF4CEOk_HrROnnxMZ2lVKqQaT5AFEgE...</td>\n",
       "      <td>2</td>\n",
       "      <td>3</td>\n",
       "      <td>{ups.analytics, pr-bh.ybp, .yahoo}</td>\n",
       "    </tr>\n",
       "    <tr>\n",
       "      <th>...</th>\n",
       "      <td>...</td>\n",
       "      <td>...</td>\n",
       "      <td>...</td>\n",
       "      <td>...</td>\n",
       "    </tr>\n",
       "    <tr>\n",
       "      <th>1693</th>\n",
       "      <td>(zuid, KHZ89MT9KlK-f1O8NSb0)</td>\n",
       "      <td>1</td>\n",
       "      <td>18</td>\n",
       "      <td>{b1sync.zemanta, .zemanta}</td>\n",
       "    </tr>\n",
       "    <tr>\n",
       "      <th>1694</th>\n",
       "      <td>(zuid, KHZ89MT9KlK-f1O8NSb0)</td>\n",
       "      <td>2</td>\n",
       "      <td>10</td>\n",
       "      <td>{b1sync.zemanta, .zemanta}</td>\n",
       "    </tr>\n",
       "    <tr>\n",
       "      <th>1695</th>\n",
       "      <td>(zuuid, da2a4c3b-a7c3-4004-9688-93ae99812a48)</td>\n",
       "      <td>2</td>\n",
       "      <td>4</td>\n",
       "      <td>{a.sportradarserving, .sportradarserving}</td>\n",
       "    </tr>\n",
       "    <tr>\n",
       "      <th>1696</th>\n",
       "      <td>(zuuid_lu, 1588368995)</td>\n",
       "      <td>2</td>\n",
       "      <td>2</td>\n",
       "      <td>{a.sportradarserving, .sportradarserving}</td>\n",
       "    </tr>\n",
       "    <tr>\n",
       "      <th>1697</th>\n",
       "      <td>(zuuid_lu, 1588368996)</td>\n",
       "      <td>2</td>\n",
       "      <td>2</td>\n",
       "      <td>{.sportradarserving}</td>\n",
       "    </tr>\n",
       "  </tbody>\n",
       "</table>\n",
       "<p>1698 rows × 4 columns</p>\n",
       "</div>"
      ],
      "text/plain": [
       "                                              namevalue  context_id  \\\n",
       "0                                       (113, 20200501)           1   \n",
       "1                                       (131, 20200501)           1   \n",
       "2                                       (131, 20200501)           2   \n",
       "3     (33x_ps, u%3D76839448493146%3As1%3D15883690020...           2   \n",
       "4     (A3, d=AQABBFCWrF4CEOk_HrROnnxMZ2lVKqQaT5AFEgE...           2   \n",
       "...                                                 ...         ...   \n",
       "1693                       (zuid, KHZ89MT9KlK-f1O8NSb0)           1   \n",
       "1694                       (zuid, KHZ89MT9KlK-f1O8NSb0)           2   \n",
       "1695      (zuuid, da2a4c3b-a7c3-4004-9688-93ae99812a48)           2   \n",
       "1696                             (zuuid_lu, 1588368995)           2   \n",
       "1697                             (zuuid_lu, 1588368996)           2   \n",
       "\n",
       "      time_stamp                                             byhost  \n",
       "0              1                                      {.deepintent}  \n",
       "1              1                                 {match.deepintent}  \n",
       "2              1                                      {.deepintent}  \n",
       "3             20  {cms-xch-chicago.33across, .33across, ssc.33ac...  \n",
       "4              3                 {ups.analytics, pr-bh.ybp, .yahoo}  \n",
       "...          ...                                                ...  \n",
       "1693          18                         {b1sync.zemanta, .zemanta}  \n",
       "1694          10                         {b1sync.zemanta, .zemanta}  \n",
       "1695           4          {a.sportradarserving, .sportradarserving}  \n",
       "1696           2          {a.sportradarserving, .sportradarserving}  \n",
       "1697           2                               {.sportradarserving}  \n",
       "\n",
       "[1698 rows x 4 columns]"
      ]
     },
     "execution_count": 179,
     "metadata": {},
     "output_type": "execute_result"
    }
   ],
   "source": [
    "highlight = pd.merge(byoccur, byhost, on=['namevalue',  'context_id'])\n",
    "highlight"
   ]
  },
  {
   "cell_type": "code",
   "execution_count": 180,
   "metadata": {},
   "outputs": [],
   "source": [
    "# select only across contexts\n",
    "ltd = []\n",
    "Counter = collections.Counter(highlight.namevalue.tolist())"
   ]
  },
  {
   "cell_type": "code",
   "execution_count": 181,
   "metadata": {},
   "outputs": [],
   "source": [
    "for key, value in Counter.items():\n",
    "    if value == 1:\n",
    "        ltd.append(key)"
   ]
  },
  {
   "cell_type": "code",
   "execution_count": 182,
   "metadata": {},
   "outputs": [],
   "source": [
    "indtd = highlight[highlight['namevalue'].isin(ltd)].index\n",
    "highlight.drop(indtd, inplace=True)"
   ]
  },
  {
   "cell_type": "code",
   "execution_count": 185,
   "metadata": {
    "scrolled": false
   },
   "outputs": [],
   "source": [
    "# highlight.namevalue.unique().tolist()"
   ]
  },
  {
   "cell_type": "code",
   "execution_count": 184,
   "metadata": {},
   "outputs": [],
   "source": [
    "highlight.to_csv(\"../overlap-cookies/unique_namevalue-{}.csv\".format(exp_num), index=False)"
   ]
  },
  {
   "cell_type": "code",
   "execution_count": null,
   "metadata": {},
   "outputs": [],
   "source": []
  }
 ],
 "metadata": {
  "kernelspec": {
   "display_name": "Python 3",
   "language": "python",
   "name": "python3"
  },
  "language_info": {
   "codemirror_mode": {
    "name": "ipython",
    "version": 3
   },
   "file_extension": ".py",
   "mimetype": "text/x-python",
   "name": "python",
   "nbconvert_exporter": "python",
   "pygments_lexer": "ipython3",
   "version": "3.7.6"
  }
 },
 "nbformat": 4,
 "nbformat_minor": 2
}
