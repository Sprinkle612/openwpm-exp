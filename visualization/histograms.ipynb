{
 "cells": [
  {
   "cell_type": "code",
   "execution_count": 1,
   "metadata": {},
   "outputs": [],
   "source": [
    "import matplotlib.pyplot as plt\n",
    "import pandas as pd\n",
    "import ast\n",
    "import numpy as np"
   ]
  },
  {
   "cell_type": "code",
   "execution_count": 2,
   "metadata": {},
   "outputs": [],
   "source": [
    "cont1 = []\n",
    "cont2 = []\n",
    "cont3 = []"
   ]
  },
  {
   "cell_type": "code",
   "execution_count": 12,
   "metadata": {},
   "outputs": [],
   "source": [
    "trackers_1 = []\n",
    "trackers_2 = []\n",
    "trackers_3 = []"
   ]
  },
  {
   "cell_type": "code",
   "execution_count": 47,
   "metadata": {},
   "outputs": [],
   "source": [
    "exp_num = 6"
   ]
  },
  {
   "cell_type": "code",
   "execution_count": 48,
   "metadata": {},
   "outputs": [],
   "source": [
    "df = pd.read_csv('sankey-helper-{}.csv'.format(exp_num), converters={'byhost':ast.literal_eval, 'byvname': ast.literal_eval})"
   ]
  },
  {
   "cell_type": "code",
   "execution_count": 49,
   "metadata": {},
   "outputs": [
    {
     "data": {
      "text/html": [
       "<div>\n",
       "<style scoped>\n",
       "    .dataframe tbody tr th:only-of-type {\n",
       "        vertical-align: middle;\n",
       "    }\n",
       "\n",
       "    .dataframe tbody tr th {\n",
       "        vertical-align: top;\n",
       "    }\n",
       "\n",
       "    .dataframe thead th {\n",
       "        text-align: right;\n",
       "    }\n",
       "</style>\n",
       "<table border=\"1\" class=\"dataframe\">\n",
       "  <thead>\n",
       "    <tr style=\"text-align: right;\">\n",
       "      <th></th>\n",
       "      <th>namevalue</th>\n",
       "      <th>context_id</th>\n",
       "      <th>time_stamp</th>\n",
       "      <th>byhost</th>\n",
       "      <th>byvname</th>\n",
       "    </tr>\n",
       "  </thead>\n",
       "  <tbody>\n",
       "    <tr>\n",
       "      <th>0</th>\n",
       "      <td>('131', '20200502')</td>\n",
       "      <td>1</td>\n",
       "      <td>6</td>\n",
       "      <td>{match.deepintent.com}</td>\n",
       "      <td>{theguardian, forbes}</td>\n",
       "    </tr>\n",
       "    <tr>\n",
       "      <th>1</th>\n",
       "      <td>('131', '20200502')</td>\n",
       "      <td>2</td>\n",
       "      <td>1</td>\n",
       "      <td>{.deepintent.com}</td>\n",
       "      <td>{medscape}</td>\n",
       "    </tr>\n",
       "    <tr>\n",
       "      <th>2</th>\n",
       "      <td>('A3', 'd=AQABBKPMrF4CEKCi8LpQuotbEk2A-M-xq1YF...</td>\n",
       "      <td>1</td>\n",
       "      <td>21</td>\n",
       "      <td>{ups.analytics.yahoo, pr.ybp.yahoo, pr-bh.ybp....</td>\n",
       "      <td>{theguardian, cnn, nytimes, forbes}</td>\n",
       "    </tr>\n",
       "    <tr>\n",
       "      <th>3</th>\n",
       "      <td>('A3', 'd=AQABBKPMrF4CEKCi8LpQuotbEk2A-M-xq1YF...</td>\n",
       "      <td>2</td>\n",
       "      <td>44</td>\n",
       "      <td>{ups.analytics.yahoo, ads.yahoo.com, pr-bh.ybp...</td>\n",
       "      <td>{verywellhealth, webmd, medscape}</td>\n",
       "    </tr>\n",
       "    <tr>\n",
       "      <th>4</th>\n",
       "      <td>('A3', 'd=AQABBKPMrF4CEKCi8LpQuotbEk2A-M-xq1YF...</td>\n",
       "      <td>3</td>\n",
       "      <td>12</td>\n",
       "      <td>{sp.analytics.yahoo, .yahoo.com}</td>\n",
       "      <td>{colledgeboard}</td>\n",
       "    </tr>\n",
       "  </tbody>\n",
       "</table>\n",
       "</div>"
      ],
      "text/plain": [
       "                                           namevalue  context_id  time_stamp  \\\n",
       "0                                ('131', '20200502')           1           6   \n",
       "1                                ('131', '20200502')           2           1   \n",
       "2  ('A3', 'd=AQABBKPMrF4CEKCi8LpQuotbEk2A-M-xq1YF...           1          21   \n",
       "3  ('A3', 'd=AQABBKPMrF4CEKCi8LpQuotbEk2A-M-xq1YF...           2          44   \n",
       "4  ('A3', 'd=AQABBKPMrF4CEKCi8LpQuotbEk2A-M-xq1YF...           3          12   \n",
       "\n",
       "                                              byhost  \\\n",
       "0                             {match.deepintent.com}   \n",
       "1                                  {.deepintent.com}   \n",
       "2  {ups.analytics.yahoo, pr.ybp.yahoo, pr-bh.ybp....   \n",
       "3  {ups.analytics.yahoo, ads.yahoo.com, pr-bh.ybp...   \n",
       "4                   {sp.analytics.yahoo, .yahoo.com}   \n",
       "\n",
       "                               byvname  \n",
       "0                {theguardian, forbes}  \n",
       "1                           {medscape}  \n",
       "2  {theguardian, cnn, nytimes, forbes}  \n",
       "3    {verywellhealth, webmd, medscape}  \n",
       "4                      {colledgeboard}  "
      ]
     },
     "execution_count": 49,
     "metadata": {},
     "output_type": "execute_result"
    }
   ],
   "source": [
    "df[:5]"
   ]
  },
  {
   "cell_type": "code",
   "execution_count": 50,
   "metadata": {},
   "outputs": [],
   "source": [
    "keywords = \"\"\"deepintent\n",
    "yahoo\n",
    "advertising\n",
    "ib-ibi\n",
    "mookie1\n",
    "atdmt\n",
    "casalemedia\n",
    "exelator\n",
    "bttrack\n",
    "doubleclick\n",
    "contextweb\n",
    "nr-data\n",
    "pubmatic\n",
    "bing\n",
    "adsrvr\n",
    "tapad\n",
    "adsymptotic\n",
    "scorecardresearch\n",
    "crwdcntrl\n",
    "districtm\n",
    "krxd\n",
    "1rx\n",
    "agkn\n",
    "amazon-adsystem\n",
    "adentifi\n",
    "adnxs\n",
    "spotxchange\n",
    "rubiconproject\n",
    "bidr\n",
    "bluekai\n",
    "dnacdn\n",
    "bidswitch\n",
    "myvisualiq\n",
    "ipredictive\n",
    "quantserve\n",
    "media.net\n",
    "demdex\n",
    "everesttech\n",
    "extend.tv\n",
    "facebook\n",
    "openx\n",
    "mathtag\n",
    "mxptint\n",
    "twitter\n",
    "rlcdn\n",
    "rkdms\n",
    "owneriq\n",
    "sitescout\n",
    "sharethrough\n",
    "simpli\n",
    "taboola\n",
    "3lift\n",
    "myvisualiq\n",
    "turn.com\n",
    "adform\n",
    "w55c\n",
    "zemanta\n",
    "tribalfusion\n",
    "linkedin\n",
    "iasds01\n",
    "dotomi\n",
    "appier\n",
    "acuityplatform\n",
    "advangelists\n",
    "mfadsrvr\n",
    "zorosrv\n",
    "smartadserver\n",
    "rfihub\n",
    "srv\n",
    "creativecdn\n",
    "addthis\n",
    "gumgum\n",
    "yieldmo\"\"\"\n",
    "keywords = keywords.split(\"\\n\")"
   ]
  },
  {
   "cell_type": "code",
   "execution_count": 51,
   "metadata": {},
   "outputs": [
    {
     "data": {
      "text/plain": [
       "73"
      ]
     },
     "execution_count": 51,
     "metadata": {},
     "output_type": "execute_result"
    }
   ],
   "source": [
    "len(keywords)"
   ]
  },
  {
   "cell_type": "code",
   "execution_count": 52,
   "metadata": {},
   "outputs": [],
   "source": [
    "unique_trackers = [set(), set(), set()]"
   ]
  },
  {
   "cell_type": "code",
   "execution_count": 53,
   "metadata": {},
   "outputs": [],
   "source": [
    "for i in range(df.shape[0]):\n",
    "    for keyword in keywords:\n",
    "        for host in df.byhost[i]:\n",
    "            if host.find(keyword) != -1:\n",
    "                unique_trackers[df.context_id[i]-1].add(keyword)"
   ]
  },
  {
   "cell_type": "code",
   "execution_count": 54,
   "metadata": {},
   "outputs": [],
   "source": [
    "trackers_1.append(\",\".join(unique_trackers[0]))\n",
    "trackers_2.append(\",\".join(unique_trackers[1]))\n",
    "trackers_3.append(\",\".join(unique_trackers[2]))"
   ]
  },
  {
   "cell_type": "code",
   "execution_count": 56,
   "metadata": {},
   "outputs": [],
   "source": [
    "trackers_df = pd.DataFrame({'context1':trackers_1, 'context2:':trackers_2, 'context3:':trackers_3})"
   ]
  },
  {
   "cell_type": "code",
   "execution_count": 58,
   "metadata": {},
   "outputs": [],
   "source": [
    "trackers_df.index += 1"
   ]
  },
  {
   "cell_type": "code",
   "execution_count": 60,
   "metadata": {},
   "outputs": [],
   "source": [
    "trackers_df.to_csv('trackers_acorss_contexts_and_exps.csv')"
   ]
  },
  {
   "cell_type": "code",
   "execution_count": 72,
   "metadata": {},
   "outputs": [],
   "source": [
    "cont1.append(len(unique_trackers[0]))\n",
    "cont2.append(len(unique_trackers[1]))\n",
    "cont3.append(len(unique_trackers[2]))"
   ]
  },
  {
   "cell_type": "code",
   "execution_count": 73,
   "metadata": {},
   "outputs": [
    {
     "data": {
      "text/plain": [
       "[57, 69, 40, 64, 55, 69]"
      ]
     },
     "execution_count": 73,
     "metadata": {},
     "output_type": "execute_result"
    }
   ],
   "source": [
    "cont1"
   ]
  },
  {
   "cell_type": "code",
   "execution_count": 74,
   "metadata": {},
   "outputs": [
    {
     "data": {
      "text/plain": [
       "[57, 68, 32, 62, 55, 68]"
      ]
     },
     "execution_count": 74,
     "metadata": {},
     "output_type": "execute_result"
    }
   ],
   "source": [
    "cont2"
   ]
  },
  {
   "cell_type": "code",
   "execution_count": 75,
   "metadata": {},
   "outputs": [
    {
     "data": {
      "text/plain": [
       "[7, 7, 11, 11, 11, 10]"
      ]
     },
     "execution_count": 75,
     "metadata": {},
     "output_type": "execute_result"
    }
   ],
   "source": [
    "cont3"
   ]
  },
  {
   "cell_type": "code",
   "execution_count": 107,
   "metadata": {},
   "outputs": [
    {
     "data": {
      "image/png": "[encoded data removed]",
      "text/plain": [
       "<Figure size 864x432 with 1 Axes>"
      ]
     },
     "metadata": {},
     "output_type": "display_data"
    }
   ],
   "source": [
    "ind = np.arange(6) \n",
    "width = 0.35\n",
    "fig, ax = plt.subplots(figsize=(12,6))\n",
    "ax.bar(ind, cont1, width, color='#7f6d5f', edgecolor='white', label='News')\n",
    "ax.bar(ind, cont2, width, bottom=cont1, color='#557f2d', edgecolor='white', label='Health')\n",
    "ax.bar(ind, cont3, width, bottom=cont2, color='orange', edgecolor='white', label='Education')\n",
    "names = ['EXP1','EXP2','EXP3','EXP4','EXP5','EXP6']\n",
    "ax.set_ylim([0, 165])\n",
    "ax.legend(loc=\"upper right\")\n",
    "plt.xticks(ind, names, fontweight='bold')\n",
    "plt.xlabel(\"Experiment Num\")\n",
    "plt.show()"
   ]
  },
  {
   "cell_type": "code",
   "execution_count": null,
   "metadata": {},
   "outputs": [],
   "source": []
  }
 ],
 "metadata": {
  "kernelspec": {
   "display_name": "Python 3",
   "language": "python",
   "name": "python3"
  },
  "language_info": {
   "codemirror_mode": {
    "name": "ipython",
    "version": 3
   },
   "file_extension": ".py",
   "mimetype": "text/x-python",
   "name": "python",
   "nbconvert_exporter": "python",
   "pygments_lexer": "ipython3",
   "version": "3.6.8"
  }
 },
 "nbformat": 4,
 "nbformat_minor": 2
}
