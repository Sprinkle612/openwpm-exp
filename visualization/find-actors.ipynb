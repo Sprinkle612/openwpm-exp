{
 "cells": [
  {
   "cell_type": "code",
   "execution_count": 13,
   "metadata": {},
   "outputs": [],
   "source": [
    "import numpy as np\n",
    "import pandas as pd\n",
    "import ast\n",
    "import collections"
   ]
  },
  {
   "cell_type": "code",
   "execution_count": 80,
   "metadata": {},
   "outputs": [],
   "source": [
    "exp_num = 6\n",
    "df = pd.read_csv('sankey-helper-{}.csv'.format(exp_num), \\\n",
    "                 converters={'byhost':ast.literal_eval, 'byvname': ast.literal_eval})"
   ]
  },
  {
   "cell_type": "code",
   "execution_count": 81,
   "metadata": {},
   "outputs": [
    {
     "data": {
      "text/html": [
       "<div>\n",
       "<style scoped>\n",
       "    .dataframe tbody tr th:only-of-type {\n",
       "        vertical-align: middle;\n",
       "    }\n",
       "\n",
       "    .dataframe tbody tr th {\n",
       "        vertical-align: top;\n",
       "    }\n",
       "\n",
       "    .dataframe thead th {\n",
       "        text-align: right;\n",
       "    }\n",
       "</style>\n",
       "<table border=\"1\" class=\"dataframe\">\n",
       "  <thead>\n",
       "    <tr style=\"text-align: right;\">\n",
       "      <th></th>\n",
       "      <th>namevalue</th>\n",
       "      <th>context_id</th>\n",
       "      <th>time_stamp</th>\n",
       "      <th>byhost</th>\n",
       "      <th>byvname</th>\n",
       "    </tr>\n",
       "  </thead>\n",
       "  <tbody>\n",
       "    <tr>\n",
       "      <th>0</th>\n",
       "      <td>('131', '20200502')</td>\n",
       "      <td>1</td>\n",
       "      <td>6</td>\n",
       "      <td>{match.deepintent.com}</td>\n",
       "      <td>{forbes, theguardian}</td>\n",
       "    </tr>\n",
       "    <tr>\n",
       "      <th>1</th>\n",
       "      <td>('131', '20200502')</td>\n",
       "      <td>2</td>\n",
       "      <td>1</td>\n",
       "      <td>{.deepintent.com}</td>\n",
       "      <td>{medscape}</td>\n",
       "    </tr>\n",
       "    <tr>\n",
       "      <th>2</th>\n",
       "      <td>('A3', 'd=AQABBKPMrF4CEKCi8LpQuotbEk2A-M-xq1YF...</td>\n",
       "      <td>1</td>\n",
       "      <td>21</td>\n",
       "      <td>{cms.analytics.yahoo, pr.ybp.yahoo, pr-bh.ybp....</td>\n",
       "      <td>{cnn, nytimes, forbes, theguardian}</td>\n",
       "    </tr>\n",
       "    <tr>\n",
       "      <th>3</th>\n",
       "      <td>('A3', 'd=AQABBKPMrF4CEKCi8LpQuotbEk2A-M-xq1YF...</td>\n",
       "      <td>2</td>\n",
       "      <td>44</td>\n",
       "      <td>{ads.yahoo.com, cookiex.ngd.yahoo, service.ids...</td>\n",
       "      <td>{verywellhealth, webmd, medscape}</td>\n",
       "    </tr>\n",
       "    <tr>\n",
       "      <th>4</th>\n",
       "      <td>('A3', 'd=AQABBKPMrF4CEKCi8LpQuotbEk2A-M-xq1YF...</td>\n",
       "      <td>3</td>\n",
       "      <td>12</td>\n",
       "      <td>{sp.analytics.yahoo, .yahoo.com}</td>\n",
       "      <td>{colledgeboard}</td>\n",
       "    </tr>\n",
       "  </tbody>\n",
       "</table>\n",
       "</div>"
      ],
      "text/plain": [
       "                                           namevalue  context_id  time_stamp  \\\n",
       "0                                ('131', '20200502')           1           6   \n",
       "1                                ('131', '20200502')           2           1   \n",
       "2  ('A3', 'd=AQABBKPMrF4CEKCi8LpQuotbEk2A-M-xq1YF...           1          21   \n",
       "3  ('A3', 'd=AQABBKPMrF4CEKCi8LpQuotbEk2A-M-xq1YF...           2          44   \n",
       "4  ('A3', 'd=AQABBKPMrF4CEKCi8LpQuotbEk2A-M-xq1YF...           3          12   \n",
       "\n",
       "                                              byhost  \\\n",
       "0                             {match.deepintent.com}   \n",
       "1                                  {.deepintent.com}   \n",
       "2  {cms.analytics.yahoo, pr.ybp.yahoo, pr-bh.ybp....   \n",
       "3  {ads.yahoo.com, cookiex.ngd.yahoo, service.ids...   \n",
       "4                   {sp.analytics.yahoo, .yahoo.com}   \n",
       "\n",
       "                               byvname  \n",
       "0                {forbes, theguardian}  \n",
       "1                           {medscape}  \n",
       "2  {cnn, nytimes, forbes, theguardian}  \n",
       "3    {verywellhealth, webmd, medscape}  \n",
       "4                      {colledgeboard}  "
      ]
     },
     "execution_count": 81,
     "metadata": {},
     "output_type": "execute_result"
    }
   ],
   "source": [
    "df[:5]"
   ]
  },
  {
   "cell_type": "code",
   "execution_count": 82,
   "metadata": {},
   "outputs": [],
   "source": [
    "keywords = \"\"\"deepintent\n",
    "yahoo\n",
    "advertising\n",
    "ib-ibi\n",
    "mookie1\n",
    "atdmt\n",
    "casalemedia\n",
    "exelator\n",
    "bttrack\n",
    "doubleclick\n",
    "contextweb\n",
    "nr-data\n",
    "pubmatic\n",
    "bing\n",
    "adsrvr\n",
    "tapad\n",
    "adsymptotic\n",
    "scorecardresearch\n",
    "crwdcntrl\n",
    "districtm\n",
    "krxd\n",
    "1rx\n",
    "agkn\n",
    "amazon-adsystem\n",
    "adentifi\n",
    "adnxs\n",
    "spotxchange\n",
    "rubiconproject\n",
    "bidr\n",
    "bluekai\n",
    "dnacdn\n",
    "bidswitch\n",
    "myvisualiq\n",
    "ipredictive\n",
    "quantserve\n",
    "media.net\n",
    "demdex\n",
    "everesttech\n",
    "extend.tv\n",
    "facebook\n",
    "openx\n",
    "mathtag\n",
    "mxptint\n",
    "twitter\n",
    "rlcdn\n",
    "rkdms\n",
    "owneriq\n",
    "sitescout\n",
    "sharethrough\n",
    "simpli\n",
    "taboola\n",
    "3lift\n",
    "myvisualiq\n",
    "turn.com\n",
    "adform\n",
    "w55c\n",
    "zemanta\n",
    "tribalfusion\n",
    "linkedin\n",
    "iasds01\n",
    "dotomi\n",
    "appier\n",
    "acuityplatform\n",
    "advangelists\n",
    "mfadsrvr\n",
    "zorosrv\n",
    "smartadserver\n",
    "rfihub\n",
    "srv\n",
    "creativecdn\n",
    "addthis\n",
    "gumgum\n",
    "yieldmo\"\"\"\n",
    "keywords = keywords.split(\"\\n\")"
   ]
  },
  {
   "cell_type": "code",
   "execution_count": 83,
   "metadata": {},
   "outputs": [],
   "source": [
    "nv_ls = df.namevalue.tolist()\n",
    "origin_hosts = df.byhost.tolist()\n",
    "origin_web = df.byvname.tolist()\n",
    "contexts_ls = df.context_id.tolist()"
   ]
  },
  {
   "cell_type": "code",
   "execution_count": 84,
   "metadata": {},
   "outputs": [],
   "source": [
    "ls_news = ['cnn','nytimes','theguardian','washingtonpost','forbes']\n",
    "ls_health = ['webmd','mayoclinic','myfitnesspal','medscape','verywellhealth']\n",
    "ls_education = ['jhu','mit','edx','harvard','colledgeboard']\n",
    "name_dict = {1: ls_news, 2: ls_health, 3:ls_education}\n",
    "order_ls = [[1,2,3],[2,1,3],[3,1,2],[3,2,1],[1,3,2],[2,3,1]]\n",
    "order = order_ls[exp_num-1]\n",
    "l = name_dict[order[0]] + name_dict[order[1]] + name_dict[order[2]]"
   ]
  },
  {
   "cell_type": "code",
   "execution_count": 85,
   "metadata": {},
   "outputs": [],
   "source": [
    "dict_ls = collections.defaultdict(set)"
   ]
  },
  {
   "cell_type": "code",
   "execution_count": 86,
   "metadata": {},
   "outputs": [],
   "source": [
    "for i in range(1, len(nv_ls)):\n",
    "    if nv_ls[i-1] != nv_ls[i]:\n",
    "        continue\n",
    "    u_hosts = origin_hosts[i].union(origin_hosts[i-1])\n",
    "    if order.index(contexts_ls[i]) < order.index(contexts_ls[i-1]):\n",
    "        in_webs = origin_web[i]\n",
    "        out_webs = origin_web[i-1]\n",
    "    else:\n",
    "        in_webs = origin_web[i-1]\n",
    "        out_webs = origin_web[i]\n",
    "    for domain in keywords:\n",
    "        if any(domain in string for string in u_hosts):\n",
    "            for in_web in in_webs:\n",
    "                for out_web in out_webs:\n",
    "                    dict_ls[in_web].add((out_web, domain))"
   ]
  },
  {
   "cell_type": "code",
   "execution_count": 87,
   "metadata": {},
   "outputs": [],
   "source": [
    "inbounds = []\n",
    "outbounds = []\n",
    "trackers = []"
   ]
  },
  {
   "cell_type": "code",
   "execution_count": 88,
   "metadata": {},
   "outputs": [],
   "source": [
    "for key, s in dict_ls.items():\n",
    "    for outbound, tracker in s:\n",
    "        inbounds.append(key)\n",
    "        outbounds.append(outbound)\n",
    "        trackers.append(tracker)\n"
   ]
  },
  {
   "cell_type": "code",
   "execution_count": 89,
   "metadata": {},
   "outputs": [],
   "source": [
    "df_2 = pd.DataFrame({\"exp\":[exp_num]*len(inbounds), \"from\":inbounds, \"to\":outbounds, \"by\": trackers})"
   ]
  },
  {
   "cell_type": "code",
   "execution_count": 90,
   "metadata": {},
   "outputs": [
    {
     "data": {
      "text/plain": [
       "(500, 4)"
      ]
     },
     "execution_count": 90,
     "metadata": {},
     "output_type": "execute_result"
    }
   ],
   "source": [
    "df_2.shape"
   ]
  },
  {
   "cell_type": "code",
   "execution_count": 91,
   "metadata": {},
   "outputs": [],
   "source": [
    "big_df = pd.concat([big_df, df_2])"
   ]
  },
  {
   "cell_type": "code",
   "execution_count": 92,
   "metadata": {},
   "outputs": [
    {
     "data": {
      "text/plain": [
       "(1674, 4)"
      ]
     },
     "execution_count": 92,
     "metadata": {},
     "output_type": "execute_result"
    }
   ],
   "source": [
    "big_df.shape"
   ]
  },
  {
   "cell_type": "code",
   "execution_count": 94,
   "metadata": {},
   "outputs": [
    {
     "data": {
      "text/html": [
       "<div>\n",
       "<style scoped>\n",
       "    .dataframe tbody tr th:only-of-type {\n",
       "        vertical-align: middle;\n",
       "    }\n",
       "\n",
       "    .dataframe tbody tr th {\n",
       "        vertical-align: top;\n",
       "    }\n",
       "\n",
       "    .dataframe thead th {\n",
       "        text-align: right;\n",
       "    }\n",
       "</style>\n",
       "<table border=\"1\" class=\"dataframe\">\n",
       "  <thead>\n",
       "    <tr style=\"text-align: right;\">\n",
       "      <th></th>\n",
       "      <th>exp</th>\n",
       "      <th>from</th>\n",
       "      <th>to</th>\n",
       "      <th>by</th>\n",
       "    </tr>\n",
       "  </thead>\n",
       "  <tbody>\n",
       "    <tr>\n",
       "      <th>0</th>\n",
       "      <td>6</td>\n",
       "      <td>medscape</td>\n",
       "      <td>washingtonpost</td>\n",
       "      <td>advertising</td>\n",
       "    </tr>\n",
       "    <tr>\n",
       "      <th>1</th>\n",
       "      <td>6</td>\n",
       "      <td>medscape</td>\n",
       "      <td>cnn</td>\n",
       "      <td>yahoo</td>\n",
       "    </tr>\n",
       "    <tr>\n",
       "      <th>2</th>\n",
       "      <td>6</td>\n",
       "      <td>medscape</td>\n",
       "      <td>theguardian</td>\n",
       "      <td>acuityplatform</td>\n",
       "    </tr>\n",
       "    <tr>\n",
       "      <th>3</th>\n",
       "      <td>6</td>\n",
       "      <td>medscape</td>\n",
       "      <td>forbes</td>\n",
       "      <td>sharethrough</td>\n",
       "    </tr>\n",
       "    <tr>\n",
       "      <th>4</th>\n",
       "      <td>6</td>\n",
       "      <td>medscape</td>\n",
       "      <td>washingtonpost</td>\n",
       "      <td>openx</td>\n",
       "    </tr>\n",
       "    <tr>\n",
       "      <th>5</th>\n",
       "      <td>6</td>\n",
       "      <td>medscape</td>\n",
       "      <td>washingtonpost</td>\n",
       "      <td>yahoo</td>\n",
       "    </tr>\n",
       "    <tr>\n",
       "      <th>6</th>\n",
       "      <td>6</td>\n",
       "      <td>medscape</td>\n",
       "      <td>nytimes</td>\n",
       "      <td>adnxs</td>\n",
       "    </tr>\n",
       "    <tr>\n",
       "      <th>7</th>\n",
       "      <td>6</td>\n",
       "      <td>medscape</td>\n",
       "      <td>theguardian</td>\n",
       "      <td>deepintent</td>\n",
       "    </tr>\n",
       "    <tr>\n",
       "      <th>8</th>\n",
       "      <td>6</td>\n",
       "      <td>medscape</td>\n",
       "      <td>nytimes</td>\n",
       "      <td>rfihub</td>\n",
       "    </tr>\n",
       "    <tr>\n",
       "      <th>9</th>\n",
       "      <td>6</td>\n",
       "      <td>medscape</td>\n",
       "      <td>theguardian</td>\n",
       "      <td>contextweb</td>\n",
       "    </tr>\n",
       "  </tbody>\n",
       "</table>\n",
       "</div>"
      ],
      "text/plain": [
       "   exp      from              to              by\n",
       "0    6  medscape  washingtonpost     advertising\n",
       "1    6  medscape             cnn           yahoo\n",
       "2    6  medscape     theguardian  acuityplatform\n",
       "3    6  medscape          forbes    sharethrough\n",
       "4    6  medscape  washingtonpost           openx\n",
       "5    6  medscape  washingtonpost           yahoo\n",
       "6    6  medscape         nytimes           adnxs\n",
       "7    6  medscape     theguardian      deepintent\n",
       "8    6  medscape         nytimes          rfihub\n",
       "9    6  medscape     theguardian      contextweb"
      ]
     },
     "execution_count": 94,
     "metadata": {},
     "output_type": "execute_result"
    }
   ],
   "source": [
    "df_2[:10]"
   ]
  },
  {
   "cell_type": "code",
   "execution_count": 95,
   "metadata": {},
   "outputs": [],
   "source": [
    "big_df.to_csv(\"linkage_details.csv\", index=False)"
   ]
  },
  {
   "cell_type": "code",
   "execution_count": 104,
   "metadata": {},
   "outputs": [],
   "source": [
    "big_df_sum = big_df.groupby(['exp', 'from', 'to'])['by'].apply(set).reset_index(name='by')"
   ]
  },
  {
   "cell_type": "code",
   "execution_count": 105,
   "metadata": {},
   "outputs": [],
   "source": [
    "big_df_sum.to_csv(\"linkage_details_with_host_ls.csv\", index=False)"
   ]
  },
  {
   "cell_type": "code",
   "execution_count": null,
   "metadata": {},
   "outputs": [],
   "source": []
  }
 ],
 "metadata": {
  "kernelspec": {
   "display_name": "Python 3",
   "language": "python",
   "name": "python3"
  },
  "language_info": {
   "codemirror_mode": {
    "name": "ipython",
    "version": 3
   },
   "file_extension": ".py",
   "mimetype": "text/x-python",
   "name": "python",
   "nbconvert_exporter": "python",
   "pygments_lexer": "ipython3",
   "version": "3.6.8"
  }
 },
 "nbformat": 4,
 "nbformat_minor": 2
}
