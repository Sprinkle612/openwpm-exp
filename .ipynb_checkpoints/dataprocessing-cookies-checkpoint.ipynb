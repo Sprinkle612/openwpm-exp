{
 "cells": [
  {
   "cell_type": "code",
   "execution_count": 20,
   "metadata": {},
   "outputs": [],
   "source": [
    "import numpy as np\n",
    "import pandas as pd\n",
    "import math\n",
    "import sys"
   ]
  },
  {
   "cell_type": "code",
   "execution_count": 21,
   "metadata": {},
   "outputs": [],
   "source": [
    "def extract_from_jscookies(cookies):\n",
    "    set_cookies = cookies[[\"context_id\", \"host\", \"name\", \"value\", \"time_stamp\"]]\n",
    "    \n",
    "    # set cookies\n",
    "    set_cookies[\"type\"] = [\"set\"] * set_cookies.shape[0]\n",
    "    return set_cookies"
   ]
  },
  {
   "cell_type": "code",
   "execution_count": 22,
   "metadata": {},
   "outputs": [],
   "source": [
    "def sep_cookies(ls):\n",
    "    res = []\n",
    "    for l in ls:\n",
    "        idx = l.find('=')\n",
    "        if idx > 0:\n",
    "            res.append((l[:idx], l[idx+1:]))\n",
    "    return res\n"
   ]
  },
  {
   "cell_type": "code",
   "execution_count": 23,
   "metadata": {},
   "outputs": [],
   "source": [
    "def extract_from_js(js):\n",
    "    js_cookies = js[js.symbol == 'window.document.cookie']\n",
    "    js_cookies = js_cookies[js_cookies.value.notnull()]\n",
    "    js_cookies_list = list(map(lambda x:x.replace(\" \",\"\").split(';'), js_cookies.value.tolist()))\n",
    "    js_cookies_ls_dict = list(map(lambda x:sep_cookies(x), js_cookies_list))\n",
    "\n",
    "    js_cookies['cookies_dict'] = js_cookies_ls_dict\n",
    "\n",
    "    js_cookies_temp = js_cookies[['context_id','script_url', 'cookies_dict', \"time_stamp\"]]\n",
    "\n",
    "    ids = []\n",
    "    hosts = []\n",
    "    c_names = []\n",
    "    c_values = []\n",
    "    t_stamps = []\n",
    "    for _, row in js_cookies_temp.iterrows():\n",
    "        Id = row.context_id\n",
    "        host = row.script_url\n",
    "        for name, value in row.cookies_dict:\n",
    "            ids.append(Id)\n",
    "            hosts.append(host)\n",
    "            c_names.append(name)\n",
    "            c_values.append(value)\n",
    "            t_stamps.append(row.time_stamp)\n",
    "\n",
    "    js_cookies_new = pd.DataFrame({\"context_id\":ids, \"host\": hosts, \"name\":c_names, \"value\":c_values, \"time_stamp\":t_stamps })\n",
    "\n",
    "    # cookie use tables\n",
    "    js_cookies_new[\"type\"] = [\"use\"] * js_cookies_new.shape[0]\n",
    "    return js_cookies_new"
   ]
  },
  {
   "cell_type": "code",
   "execution_count": 24,
   "metadata": {},
   "outputs": [],
   "source": [
    "def extract_http(httprequests):\n",
    "    httprequests = httprequests[httprequests.cookies.notnull()]\n",
    "\n",
    "    ids = []\n",
    "    hosts = []\n",
    "    c_names = []\n",
    "    c_values = []\n",
    "    t_stamps = []\n",
    "    for i, row in httprequests.iterrows():\n",
    "        Id = row.context_id\n",
    "        cookies_ls = row.cookies.replace(' ','').split(';')\n",
    "        for l in cookies_ls:\n",
    "            idx = l.find('=')\n",
    "            if idx > 0:\n",
    "                ids.append(row.context_id)\n",
    "                hosts.append(row.host)\n",
    "                c_names.append(l[:idx])\n",
    "                c_values.append(l[idx+1:])\n",
    "                t_stamps.append(row.time_stamp)\n",
    "\n",
    "    httpcookies = pd.DataFrame({\"context_id\":ids, \"host\": hosts, \"name\":c_names, \"value\":c_values, \"time_stamp\":t_stamps })\n",
    "\n",
    "    httpcookies['type'] = ['send'] * httpcookies.shape[0]\n",
    "    return httpcookies"
   ]
  },
  {
   "cell_type": "code",
   "execution_count": 25,
   "metadata": {},
   "outputs": [],
   "source": [
    "def merge_cookies(jsc_cookies, js_cookies, http_cookies):\n",
    "    bigcookies = pd.concat([jsc_cookies, js_cookies, http_cookies], ignore_index=True)\n",
    "    return bigcookies"
   ]
  },
  {
   "cell_type": "code",
   "execution_count": 26,
   "metadata": {},
   "outputs": [],
   "source": [
    "##### concatenate"
   ]
  },
  {
   "cell_type": "code",
   "execution_count": 27,
   "metadata": {},
   "outputs": [
    {
     "name": "stderr",
     "output_type": "stream",
     "text": [
      "/opt/anaconda3/lib/python3.7/site-packages/ipykernel_launcher.py:5: SettingWithCopyWarning: \n",
      "A value is trying to be set on a copy of a slice from a DataFrame.\n",
      "Try using .loc[row_indexer,col_indexer] = value instead\n",
      "\n",
      "See the caveats in the documentation: https://pandas.pydata.org/pandas-docs/stable/user_guide/indexing.html#returning-a-view-versus-a-copy\n",
      "  \"\"\"\n"
     ]
    }
   ],
   "source": [
    "# cookies (set/change httpresponce, js)\n",
    "bigcookies = []\n",
    "# experiment_num = sys.argv[0] #1\n",
    "# web_nums = sys.argv[1] #3\n",
    "experiment_num = 1\n",
    "web_nums = 3\n",
    "for i in range(1, web_nums+1):\n",
    "    cookies = pd.read_csv(\"./{}-{}-ThirdCookies.csv\".format(experiment_num, i))\n",
    "    jscookiesc = extract_from_jscookies(cookies)\n",
    "    httprequests = pd.read_csv(\"./{}-{}-httprequest.csv\".format(experiment_num, i))\n",
    "    httpc = extract_http(httprequests)\n",
    "    js = pd.read_csv(\"./{}-{}-js.csv\".format(experiment_num, i))\n",
    "    jsc = extract_from_js(js)\n",
    "    bigcookies.append(merge_cookies(jscookiesc, httpc, jsc))"
   ]
  },
  {
   "cell_type": "code",
   "execution_count": 28,
   "metadata": {},
   "outputs": [],
   "source": [
    "hugecookies = pd.concat(bigcookies)"
   ]
  },
  {
   "cell_type": "code",
   "execution_count": 29,
   "metadata": {},
   "outputs": [],
   "source": [
    "hugecookies.to_csv(\"./hugecookies/hugecookies-{}.csv\".format(experiment_num), index=False)"
   ]
  },
  {
   "cell_type": "code",
   "execution_count": 30,
   "metadata": {},
   "outputs": [],
   "source": [
    "##########\n",
    "unique_hugecookies = hugecookies.drop_duplicates()\n",
    "unique_hugecookies.to_csv(\"./hugecookies/unique_hugecookies-{}.csv\".format(experiment_num), index=False)"
   ]
  },
  {
   "cell_type": "code",
   "execution_count": 31,
   "metadata": {},
   "outputs": [
    {
     "data": {
      "text/plain": [
       "(67468, 6)"
      ]
     },
     "execution_count": 31,
     "metadata": {},
     "output_type": "execute_result"
    }
   ],
   "source": [
    "hugecookies.shape"
   ]
  },
  {
   "cell_type": "code",
   "execution_count": 32,
   "metadata": {},
   "outputs": [],
   "source": [
    "# unique_hugecookies.groupby(\"value\").mean().shape"
   ]
  },
  {
   "cell_type": "code",
   "execution_count": 33,
   "metadata": {},
   "outputs": [],
   "source": [
    "unique_context_1 = unique_hugecookies[unique_hugecookies.context_id == 1].value.tolist()\n",
    "unique_context_2 = unique_hugecookies[unique_hugecookies.context_id == 2].value.tolist()\n",
    "unique_context_3 = unique_hugecookies[unique_hugecookies.context_id == 3].value.tolist()"
   ]
  },
  {
   "cell_type": "code",
   "execution_count": 34,
   "metadata": {},
   "outputs": [
    {
     "data": {
      "text/plain": [
       "['',\n",
       " 'AQvitULEwpGHyem3KD_sclC_TdevAkmkIDc5fX-2ctnM3cuySKT08zVqdm6IIk8PUxEDL9hvoMEK4titQ8kOr5jiWXjgwlFT-oo',\n",
       " '\\\\v1_Qy2edN3p3Xyn/PRyFq5qkA==\\\\',\n",
       " 'SYYIIXTLSI2r3Pl2jBlm8Q',\n",
       " '7f675ea8-395e-4900-ac28-995748e08e07',\n",
       " '6ZmmRprj1JtqWW5~~1',\n",
       " '4679e76d-9062-4b75-8547-8ae6d7f4aaa1~~1',\n",
       " '00000000-0000-003a-398c-861588083038',\n",
       " 'd=AQABBF45qF4CEEgvPTiD59Nt7NBRJgIJ_7MFEgEBAQGKqV6yXgAAAAAA_SMAAAcIXjmoXgIJ_7M&S=AQAAAjIjmhMSKUaUG3XfXfyVNH8',\n",
       " '5LD99aG83a85wM/A',\n",
       " 'testWrite',\n",
       " '2fac0fa240ca1592',\n",
       " '1DA23a36a2aa20a318412601588083033',\n",
       " 'di_9592bd7b1b884f9381548~~1',\n",
       " '4b07018c-0dcb-40e4-8314-5ae24eab86d9',\n",
       " 'g_surferid~Xqg5XAAAAKg2BwFU',\n",
       " '4679e76d-9062-4b75-8547-8ae6d7f4aaa1',\n",
       " 'YES',\n",
       " '1AB15E46-124E-4486-9D2E-CF149023BDE1',\n",
       " '1588083033',\n",
       " '4Oe53a4sDRVl1-qj0eXv6L',\n",
       " 'NO_DATA',\n",
       " '203=bHHssFauB8Gn7J19HHvYAtfqgk-pvmGVbRLDCNL385XQIjO1-bGzE_cpYAp4bawqxjC6pYXp2udS6fZ4kOUxm8bq7wve-5WyJNPr-SNTYn1f2Z-75jTdVBxdQRzjMKPpaMjtRKafXCAhGP-IzdmcihVUgiW04OMAPMeMmcJZoAI',\n",
       " '00000000-0000-003a-3d76-c31588083153',\n",
       " 'AHWqTUlOVZKvNy4CkZNqO7cRitxqXgMD91fWHMzrP_KlgTJoBV118EIpwWuHIXw7',\n",
       " 'b7vo909fageau&b=3&s=pu',\n",
       " 'phx',\n",
       " 'None',\n",
       " '/',\n",
       " 'AAAGS4e_fM5r_wMBwAzSAAAAAAA~~1',\n",
       " '4:1588083122',\n",
       " 'CAA=',\n",
       " 'oW3Z6M8xneycbA0Z5WVC~~1',\n",
       " '\\\\\\\\',\n",
       " 'A-NQZc62Z08Doo7EcvKyr34',\n",
       " '1588083034',\n",
       " '1',\n",
       " 'FTF',\n",
       " 'Good',\n",
       " 'a71a8619-1168-467b-803a-eb1d7fcef021#1588083069027',\n",
       " '2310846292182041000V10',\n",
       " '0',\n",
       " 'Thu,01Jan197000:00:01GMT',\n",
       " 'AQEBAQFeqYpeskIeXgSK',\n",
       " '.com',\n",
       " 'a86be414-eaf1-4c9a-aa35-6cce2d06a0c3~~1',\n",
       " '4216705963238673072',\n",
       " 'CAESFgoHcnViaWNvbhILCL7Tot7-4bU4EAUYBSABKAIyCwiEksiKleK1OBAFOAE.',\n",
       " 'K9JZMWOU-1E-KP5N~~1',\n",
       " '1588083035',\n",
       " 'rNR6Gl9md1RRY3NRVWJua2w0WXFxdWxZQU9mJTJCR3V4OEtCRE5JYzc3cFRpeEo4Qmd5SHJndmhZZCUyRnRLQmk5MWNhOSUyQkRSaG1sR0pPTXBDa3diUHdhSHlhdFdjUSUzRCUzRA',\n",
       " 'test',\n",
       " 'AEYECmK4p0epAQUnpGNUnV2fwEISwdK8S9R1KczgJ2I=',\n",
       " '2558098555938012379',\n",
       " '1588083038',\n",
       " 'e30',\n",
       " '4216705963238673072~~1']"
      ]
     },
     "execution_count": 34,
     "metadata": {},
     "output_type": "execute_result"
    }
   ],
   "source": [
    "list(set(unique_context_1) & set(unique_context_2))"
   ]
  },
  {
   "cell_type": "code",
   "execution_count": 35,
   "metadata": {},
   "outputs": [
    {
     "data": {
      "text/plain": [
       "['',\n",
       " '1',\n",
       " 'NO_DATA',\n",
       " 'AHWqTUlOVZKvNy4CkZNqO7cRitxqXgMD91fWHMzrP_KlgTJoBV118EIpwWuHIXw7',\n",
       " '/']"
      ]
     },
     "execution_count": 35,
     "metadata": {},
     "output_type": "execute_result"
    }
   ],
   "source": [
    "list(set(unique_context_1) & set(unique_context_3))"
   ]
  },
  {
   "cell_type": "code",
   "execution_count": 36,
   "metadata": {},
   "outputs": [
    {
     "data": {
      "text/plain": [
       "['',\n",
       " '1',\n",
       " '0VKKhljkesAUbsROW..BeqDnl..F6o.1.0.BeqDnl.',\n",
       " 'lax',\n",
       " 'NO_DATA',\n",
       " 'AHWqTUlOVZKvNy4CkZNqO7cRitxqXgMD91fWHMzrP_KlgTJoBV118EIpwWuHIXw7',\n",
       " '/']"
      ]
     },
     "execution_count": 36,
     "metadata": {},
     "output_type": "execute_result"
    }
   ],
   "source": [
    "list(set(unique_context_2) & set(unique_context_3))"
   ]
  },
  {
   "cell_type": "code",
   "execution_count": 37,
   "metadata": {},
   "outputs": [
    {
     "data": {
      "text/plain": [
       "['',\n",
       " '1',\n",
       " 'NO_DATA',\n",
       " 'AHWqTUlOVZKvNy4CkZNqO7cRitxqXgMD91fWHMzrP_KlgTJoBV118EIpwWuHIXw7',\n",
       " '/']"
      ]
     },
     "execution_count": 37,
     "metadata": {},
     "output_type": "execute_result"
    }
   ],
   "source": [
    "list(set(unique_context_1) & set(unique_context_2) & set(unique_context_3))"
   ]
  },
  {
   "cell_type": "code",
   "execution_count": 38,
   "metadata": {},
   "outputs": [
    {
     "data": {
      "text/plain": [
       "57"
      ]
     },
     "execution_count": 38,
     "metadata": {},
     "output_type": "execute_result"
    }
   ],
   "source": [
    "len(list(set(unique_context_1) & set(unique_context_2)))"
   ]
  },
  {
   "cell_type": "code",
   "execution_count": 39,
   "metadata": {},
   "outputs": [
    {
     "data": {
      "text/plain": [
       "5"
      ]
     },
     "execution_count": 39,
     "metadata": {},
     "output_type": "execute_result"
    }
   ],
   "source": [
    "len(list(set(unique_context_1) & set(unique_context_3)))"
   ]
  },
  {
   "cell_type": "code",
   "execution_count": 40,
   "metadata": {},
   "outputs": [
    {
     "data": {
      "text/plain": [
       "7"
      ]
     },
     "execution_count": 40,
     "metadata": {},
     "output_type": "execute_result"
    }
   ],
   "source": [
    "len(list(set(unique_context_2) & set(unique_context_3)))"
   ]
  }
 ],
 "metadata": {
  "kernelspec": {
   "display_name": "Python 3",
   "language": "python",
   "name": "python3"
  },
  "language_info": {
   "codemirror_mode": {
    "name": "ipython",
    "version": 3
   },
   "file_extension": ".py",
   "mimetype": "text/x-python",
   "name": "python",
   "nbconvert_exporter": "python",
   "pygments_lexer": "ipython3",
   "version": "3.7.6"
  }
 },
 "nbformat": 4,
 "nbformat_minor": 4
}
