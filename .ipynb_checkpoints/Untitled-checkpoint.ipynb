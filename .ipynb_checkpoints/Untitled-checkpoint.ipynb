{
 "cells": [
  {
   "cell_type": "code",
   "execution_count": 15,
   "metadata": {},
   "outputs": [],
   "source": [
    "import pandas as pd\n",
    "import numpy as np"
   ]
  },
  {
   "cell_type": "code",
   "execution_count": 69,
   "metadata": {},
   "outputs": [],
   "source": [
    "unique_huge = pd.read_csv(\"hugecookies/hugecookies-3.csv\")"
   ]
  },
  {
   "cell_type": "code",
   "execution_count": 70,
   "metadata": {},
   "outputs": [],
   "source": [
    "ndex = unique_huge[unique_huge['name'].isin(['expires', 'path'])].index"
   ]
  },
  {
   "cell_type": "code",
   "execution_count": 71,
   "metadata": {},
   "outputs": [],
   "source": [
    "unique_huge.drop(ndex, inplace=True)"
   ]
  },
  {
   "cell_type": "code",
   "execution_count": 75,
   "metadata": {},
   "outputs": [],
   "source": [
    "unique_huge['namevalue'] = list(map(lambda a, b: (a, b), unique_huge[\"name\"].astype(str), unique_huge[\"value\"].astype(str)))\n",
    "temp1 = unique_huge.groupby([\"namevalue\", \"context_id\"], as_index = False).first()"
   ]
  },
  {
   "cell_type": "code",
   "execution_count": 77,
   "metadata": {},
   "outputs": [],
   "source": [
    "temp2 = unique_huge.groupby([\"namevalue\", \"context_id\"], as_index = False)['time_stamp'].count()\n",
    "\n",
    "temp2.to_csv(\"unique_namevalue-3.csv\")"
   ]
  },
  {
   "cell_type": "code",
   "execution_count": null,
   "metadata": {},
   "outputs": [],
   "source": [
    "# group by cookie name and context_id\n",
    "temp3 = unique_huge.groupby([\"name\", \"context_id\"], as_index = False)['time_stamp'].count()"
   ]
  },
  {
   "cell_type": "code",
   "execution_count": null,
   "metadata": {},
   "outputs": [],
   "source": [
    "# group by cookie value and context_id\n",
    "temp3 = unique_huge.groupby([\"value\", \"context_id\"], as_index = False)['time_stamp'].count()"
   ]
  }
 ],
 "metadata": {
  "kernelspec": {
   "display_name": "Python 3",
   "language": "python",
   "name": "python3"
  },
  "language_info": {
   "codemirror_mode": {
    "name": "ipython",
    "version": 3
   },
   "file_extension": ".py",
   "mimetype": "text/x-python",
   "name": "python",
   "nbconvert_exporter": "python",
   "pygments_lexer": "ipython3",
   "version": "3.6.8"
  }
 },
 "nbformat": 4,
 "nbformat_minor": 2
}
