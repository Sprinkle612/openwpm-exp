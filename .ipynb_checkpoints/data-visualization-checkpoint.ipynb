{
 "cells": [
  {
   "cell_type": "code",
   "execution_count": 13,
   "metadata": {},
   "outputs": [],
   "source": [
    "import numpy as np\n",
    "import pandas as pd"
   ]
  },
  {
   "cell_type": "code",
   "execution_count": 14,
   "metadata": {},
   "outputs": [],
   "source": [
    "# ido = 'adentifi; adform; adnxs; adsrvr; adsymptotic; \\\n",
    "# adsystem; advertising.com; agkn; atdmt.com; bidr; \\\n",
    "# bidswitch; bing; bttrack; casalemdia; contextweb; \\\n",
    "# crwdcntrl; doubleclick; districtm; dnacdn; demdex; \\\n",
    "# exelator; eversttech; extend; facebook; ibi-ibi.com; \\\n",
    "# ipredictive.com; mookie1; myvisualiq; media.net; mxptint; \\\n",
    "# mathtag.com; openx; owneriq; pubmatic; quantserve; 1rx.io; \\\n",
    "# rubiconproject; rkdms;scorecardresearch; spotxchange; sitescout;\\\n",
    "# sharethrough; simpli; tapad; twitter; taboola; turn; \\\n",
    "# yahoo; w55c.net; zemanta; 3lift; bluekai; deepintent; rlcdn;pippio; sail-horizon'"
   ]
  },
  {
   "cell_type": "code",
   "execution_count": 17,
   "metadata": {},
   "outputs": [
    {
     "name": "stdout",
     "output_type": "stream",
     "text": [
      "56\n"
     ]
    },
    {
     "data": {
      "text/plain": [
       "'adentifi|adform|adnxs|adsrvr|adsymptotic|adsystem|advertising.com|agkn|atdmt.com|bidr|bidswitch|bing|bttrack|casalemdia|contextweb|crwdcntrl|doubleclick|districtm|dnacdn|demdex|exelator|eversttech|extend|facebook|ibi-ibi.com|ipredictive.com|mookie1|myvisualiq|media.net|mxptint|mathtag.com|openx|owneriq|pubmatic|quantserve|1rx.io|rubiconproject|rkdms|scorecardresearch|spotxchange|sitescout|sharethrough|simpli|tapad|twitter|taboola|turn|yahoo|w55c.net|zemanta|3lift|bluekai|deepintent|rlcdn|pippio|sail-horizon'"
      ]
     },
     "execution_count": 17,
     "metadata": {},
     "output_type": "execute_result"
    }
   ],
   "source": [
    "# ido = ido.replace(\";\",\"|\").replace(\" \", '')\n",
    "# print(len(ido.split(\"|\")))\n",
    "# ido"
   ]
  },
  {
   "cell_type": "code",
   "execution_count": 16,
   "metadata": {},
   "outputs": [
    {
     "data": {
      "text/plain": [
       "56"
      ]
     },
     "execution_count": 16,
     "metadata": {},
     "output_type": "execute_result"
    }
   ],
   "source": []
  },
  {
   "cell_type": "code",
   "execution_count": 3,
   "metadata": {},
   "outputs": [
    {
     "data": {
      "text/html": [
       "<div>\n",
       "<style scoped>\n",
       "    .dataframe tbody tr th:only-of-type {\n",
       "        vertical-align: middle;\n",
       "    }\n",
       "\n",
       "    .dataframe tbody tr th {\n",
       "        vertical-align: top;\n",
       "    }\n",
       "\n",
       "    .dataframe thead th {\n",
       "        text-align: right;\n",
       "    }\n",
       "</style>\n",
       "<table border=\"1\" class=\"dataframe\">\n",
       "  <thead>\n",
       "    <tr style=\"text-align: right;\">\n",
       "      <th></th>\n",
       "      <th>namevalue</th>\n",
       "      <th>context_id</th>\n",
       "      <th>count</th>\n",
       "      <th>host_list</th>\n",
       "    </tr>\n",
       "  </thead>\n",
       "  <tbody>\n",
       "    <tr>\n",
       "      <th>0</th>\n",
       "      <td>('131', '20200501')</td>\n",
       "      <td>1</td>\n",
       "      <td>8</td>\n",
       "      <td>['match.deepintent.com', '.deepintent.com']</td>\n",
       "    </tr>\n",
       "    <tr>\n",
       "      <th>1</th>\n",
       "      <td>('131', '20200501')</td>\n",
       "      <td>2</td>\n",
       "      <td>1</td>\n",
       "      <td>['.deepintent.com']</td>\n",
       "    </tr>\n",
       "    <tr>\n",
       "      <th>2</th>\n",
       "      <td>('A3', 'd=AQABBBoqrF4CEPdY3jmf7y0lqIos6X6BvLMF...</td>\n",
       "      <td>1</td>\n",
       "      <td>37</td>\n",
       "      <td>['.yahoo.com', 'ads.yahoo.com', 'cookiex.ngd.y...</td>\n",
       "    </tr>\n",
       "    <tr>\n",
       "      <th>3</th>\n",
       "      <td>('A3', 'd=AQABBBoqrF4CEPdY3jmf7y0lqIos6X6BvLMF...</td>\n",
       "      <td>2</td>\n",
       "      <td>22</td>\n",
       "      <td>['pr-bh.ybp.yahoo.com', 'ups.analytics.yahoo.c...</td>\n",
       "    </tr>\n",
       "    <tr>\n",
       "      <th>4</th>\n",
       "      <td>('A3', 'd=AQABBPcsrF4CENuOO3pHfRbNXEYpdY8MhvEF...</td>\n",
       "      <td>2</td>\n",
       "      <td>9</td>\n",
       "      <td>['cookiex.ngd.yahoo.com', '.yahoo.com', 'beap-...</td>\n",
       "    </tr>\n",
       "    <tr>\n",
       "      <th>...</th>\n",
       "      <td>...</td>\n",
       "      <td>...</td>\n",
       "      <td>...</td>\n",
       "      <td>...</td>\n",
       "    </tr>\n",
       "    <tr>\n",
       "      <th>301</th>\n",
       "      <td>('visitor-id', '2313428786589727000V10')</td>\n",
       "      <td>2</td>\n",
       "      <td>139</td>\n",
       "      <td>['hbxlp.media.net', 'hbx.media.net', 'https://...</td>\n",
       "    </tr>\n",
       "    <tr>\n",
       "      <th>302</th>\n",
       "      <td>('wfivefivec', '4FlCNvXw1Juw7K5')</td>\n",
       "      <td>1</td>\n",
       "      <td>13</td>\n",
       "      <td>['.w55c.net', 'i.w55c.net', 'pm.w55c.net']</td>\n",
       "    </tr>\n",
       "    <tr>\n",
       "      <th>303</th>\n",
       "      <td>('wfivefivec', '4FlCNvXw1Juw7K5')</td>\n",
       "      <td>2</td>\n",
       "      <td>3</td>\n",
       "      <td>['.w55c.net', 'pm.w55c.net']</td>\n",
       "    </tr>\n",
       "    <tr>\n",
       "      <th>304</th>\n",
       "      <td>('zuid', 'TM6LMxYK3kC19y2AVTom')</td>\n",
       "      <td>1</td>\n",
       "      <td>16</td>\n",
       "      <td>['.zemanta.com', 'b1sync.zemanta.com']</td>\n",
       "    </tr>\n",
       "    <tr>\n",
       "      <th>305</th>\n",
       "      <td>('zuid', 'TM6LMxYK3kC19y2AVTom')</td>\n",
       "      <td>2</td>\n",
       "      <td>6</td>\n",
       "      <td>['.zemanta.com', 'b1sync.zemanta.com']</td>\n",
       "    </tr>\n",
       "  </tbody>\n",
       "</table>\n",
       "<p>306 rows × 4 columns</p>\n",
       "</div>"
      ],
      "text/plain": [
       "                                             namevalue  context_id  count  \\\n",
       "0                                  ('131', '20200501')           1      8   \n",
       "1                                  ('131', '20200501')           2      1   \n",
       "2    ('A3', 'd=AQABBBoqrF4CEPdY3jmf7y0lqIos6X6BvLMF...           1     37   \n",
       "3    ('A3', 'd=AQABBBoqrF4CEPdY3jmf7y0lqIos6X6BvLMF...           2     22   \n",
       "4    ('A3', 'd=AQABBPcsrF4CENuOO3pHfRbNXEYpdY8MhvEF...           2      9   \n",
       "..                                                 ...         ...    ...   \n",
       "301           ('visitor-id', '2313428786589727000V10')           2    139   \n",
       "302                  ('wfivefivec', '4FlCNvXw1Juw7K5')           1     13   \n",
       "303                  ('wfivefivec', '4FlCNvXw1Juw7K5')           2      3   \n",
       "304                   ('zuid', 'TM6LMxYK3kC19y2AVTom')           1     16   \n",
       "305                   ('zuid', 'TM6LMxYK3kC19y2AVTom')           2      6   \n",
       "\n",
       "                                             host_list  \n",
       "0          ['match.deepintent.com', '.deepintent.com']  \n",
       "1                                  ['.deepintent.com']  \n",
       "2    ['.yahoo.com', 'ads.yahoo.com', 'cookiex.ngd.y...  \n",
       "3    ['pr-bh.ybp.yahoo.com', 'ups.analytics.yahoo.c...  \n",
       "4    ['cookiex.ngd.yahoo.com', '.yahoo.com', 'beap-...  \n",
       "..                                                 ...  \n",
       "301  ['hbxlp.media.net', 'hbx.media.net', 'https://...  \n",
       "302         ['.w55c.net', 'i.w55c.net', 'pm.w55c.net']  \n",
       "303                       ['.w55c.net', 'pm.w55c.net']  \n",
       "304             ['.zemanta.com', 'b1sync.zemanta.com']  \n",
       "305             ['.zemanta.com', 'b1sync.zemanta.com']  \n",
       "\n",
       "[306 rows x 4 columns]"
      ]
     },
     "execution_count": 3,
     "metadata": {},
     "output_type": "execute_result"
    }
   ],
   "source": [
    "df1 = pd.read_csv('./overlap-cookies/unique_namevalue-1.csv')\n",
    "df1"
   ]
  },
  {
   "cell_type": "code",
   "execution_count": null,
   "metadata": {},
   "outputs": [],
   "source": []
  }
 ],
 "metadata": {
  "kernelspec": {
   "display_name": "Python 3",
   "language": "python",
   "name": "python3"
  },
  "language_info": {
   "codemirror_mode": {
    "name": "ipython",
    "version": 3
   },
   "file_extension": ".py",
   "mimetype": "text/x-python",
   "name": "python",
   "nbconvert_exporter": "python",
   "pygments_lexer": "ipython3",
   "version": "3.7.6"
  }
 },
 "nbformat": 4,
 "nbformat_minor": 4
}
