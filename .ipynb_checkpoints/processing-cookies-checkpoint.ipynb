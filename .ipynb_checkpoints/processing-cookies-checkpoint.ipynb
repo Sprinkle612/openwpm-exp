{
 "cells": [
  {
   "cell_type": "code",
   "execution_count": 16,
   "metadata": {},
   "outputs": [],
   "source": [
    "import numpy as np\n",
    "import pandas as pd\n",
    "import math\n",
    "import sys"
   ]
  },
  {
   "cell_type": "code",
   "execution_count": 3,
   "metadata": {},
   "outputs": [],
   "source": [
    "def extract_from_jscookies(cookies):\n",
    "    set_cookies = cookies[[\"visit_id\", \"host\", \"name\", \"value\", \"time_stamp\"]]\n",
    "    \n",
    "    # set cookies\n",
    "    set_cookies[\"type\"] = [\"set\"] * set_cookies.shape[0]\n",
    "    return set_cookies"
   ]
  },
  {
   "cell_type": "code",
   "execution_count": 4,
   "metadata": {},
   "outputs": [],
   "source": [
    "def sep_cookies(ls):\n",
    "    res = []\n",
    "    for l in ls:\n",
    "        idx = l.find('=')\n",
    "        if idx > 0:\n",
    "            res.append((l[:idx], l[idx+1:]))\n",
    "    return res\n"
   ]
  },
  {
   "cell_type": "code",
   "execution_count": 5,
   "metadata": {},
   "outputs": [],
   "source": [
    "def extract_from_js(js):\n",
    "    js_cookies = js[js.symbol == 'window.document.cookie']\n",
    "    js_cookies = js_cookies[js_cookies.value.notnull()]\n",
    "    js_cookies_list = list(map(lambda x:x.replace(\" \",\"\").split(';'), js_cookies.value.tolist()))\n",
    "    js_cookies_ls_dict = list(map(lambda x:sep_cookies(x), js_cookies_list))\n",
    "\n",
    "    js_cookies['cookies_dict'] = js_cookies_ls_dict\n",
    "\n",
    "    js_cookies_temp = js_cookies[['visit_id','script_url', 'cookies_dict', \"time_stamp\"]]\n",
    "\n",
    "    ids = []\n",
    "    hosts = []\n",
    "    c_names = []\n",
    "    c_values = []\n",
    "    t_stamps = []\n",
    "    for _, row in js_cookies_temp.iterrows():\n",
    "        Id = row.visit_id\n",
    "        host = row.script_url\n",
    "        for name, value in row.cookies_dict:\n",
    "            ids.append(Id)\n",
    "            hosts.append(host)\n",
    "            c_names.append(name)\n",
    "            c_values.append(value)\n",
    "            t_stamps.append(row.time_stamp)\n",
    "\n",
    "    js_cookies_new = pd.DataFrame({\"visit_id\":ids, \"host\": hosts, \"name\":c_names, \"value\":c_values, \"time_stamp\":t_stamps })\n",
    "\n",
    "    # cookie use tables\n",
    "    js_cookies_new[\"type\"] = [\"use\"] * js_cookies_new.shape[0]\n",
    "    return js_cookies_new"
   ]
  },
  {
   "cell_type": "code",
   "execution_count": 6,
   "metadata": {},
   "outputs": [],
   "source": [
    "def extract_http(httprequests):\n",
    "    httprequests = httprequests[httprequests.cookies.notnull()]\n",
    "\n",
    "    ids = []\n",
    "    hosts = []\n",
    "    c_names = []\n",
    "    c_values = []\n",
    "    t_stamps = []\n",
    "    for i, row in httprequests.iterrows():\n",
    "        Id = row.visit_id\n",
    "        cookies_ls = row.cookies.replace(' ','').split(';')\n",
    "        for l in cookies_ls:\n",
    "            idx = l.find('=')\n",
    "            if idx > 0:\n",
    "                ids.append(row.visit_id)\n",
    "                hosts.append(row.host)\n",
    "                c_names.append(l[:idx])\n",
    "                c_values.append(l[idx+1:])\n",
    "                t_stamps.append(row.time_stamp)\n",
    "\n",
    "    httpcookies = pd.DataFrame({\"visit_id\":ids, \"host\": hosts, \"name\":c_names, \"value\":c_values, \"time_stamp\":t_stamps })\n",
    "\n",
    "    httpcookies['type'] = ['send'] * httpcookies.shape[0]\n",
    "    return httpcookies"
   ]
  },
  {
   "cell_type": "code",
   "execution_count": 7,
   "metadata": {},
   "outputs": [],
   "source": [
    "def merge_cookies(jsc_cookies, js_cookies, http_cookies):\n",
    "    bigcookies = pd.concat([jsc_cookies, js_cookies, http_cookies], ignore_index=True)\n",
    "    return bigcookies"
   ]
  },
  {
   "cell_type": "code",
   "execution_count": 83,
   "metadata": {},
   "outputs": [],
   "source": [
    "bigcookies.to_csv(\"bigcookies-1-3.csv\", index=False)"
   ]
  },
  {
   "cell_type": "code",
   "execution_count": 183,
   "metadata": {},
   "outputs": [],
   "source": [
    "##### concatenate"
   ]
  },
  {
   "cell_type": "code",
   "execution_count": 12,
   "metadata": {},
   "outputs": [
    {
     "name": "stderr",
     "output_type": "stream",
     "text": [
      "/Users/rainyleon/anaconda3/lib/python3.6/site-packages/ipykernel_launcher.py:5: SettingWithCopyWarning: \n",
      "A value is trying to be set on a copy of a slice from a DataFrame.\n",
      "Try using .loc[row_indexer,col_indexer] = value instead\n",
      "\n",
      "See the caveats in the documentation: http://pandas.pydata.org/pandas-docs/stable/indexing.html#indexing-view-versus-copy\n",
      "  \"\"\"\n"
     ]
    }
   ],
   "source": [
    "# cookies (set/change httpresponce, js)\n",
    "bigcookies = []\n",
    "experiment_num = sys.argv[0] #1\n",
    "web_nums = sys.argv[1] #3\n",
    "for i in range(1, web_nums+1):\n",
    "    cookies = pd.read_csv(\"./tables/{}-{}-FP-cookies.csv\".format(experiment_num, i))\n",
    "    jscookiesc = extract_from_jscookies(cookies)\n",
    "    httprequests = pd.read_csv(\"./tables/{}-{}-httprequest.csv\".format(experiment_num, i))\n",
    "    httpc = extract_http(httprequests)\n",
    "    js = pd.read_csv(\"./tables/{}-{}-js.csv\".format(experiment_num, i))\n",
    "    jsc = extract_from_js(js)\n",
    "    bigcookies.append(merge_cookies(jscookiesc, httpc, jsc))"
   ]
  },
  {
   "cell_type": "code",
   "execution_count": 13,
   "metadata": {},
   "outputs": [],
   "source": [
    "hugecookies = pd.concat(bigcookies)"
   ]
  },
  {
   "cell_type": "code",
   "execution_count": 86,
   "metadata": {},
   "outputs": [],
   "source": [
    "hugecookies.to_csv(\"./hugecookies/hugecookies-{}.csv\".format(experiment_num), index=False)"
   ]
  },
  {
   "cell_type": "code",
   "execution_count": null,
   "metadata": {},
   "outputs": [],
   "source": []
  }
 ],
 "metadata": {
  "kernelspec": {
   "display_name": "Python 3",
   "language": "python",
   "name": "python3"
  },
  "language_info": {
   "codemirror_mode": {
    "name": "ipython",
    "version": 3
   },
   "file_extension": ".py",
   "mimetype": "text/x-python",
   "name": "python",
   "nbconvert_exporter": "python",
   "pygments_lexer": "ipython3",
   "version": "3.6.8"
  }
 },
 "nbformat": 4,
 "nbformat_minor": 4
}
