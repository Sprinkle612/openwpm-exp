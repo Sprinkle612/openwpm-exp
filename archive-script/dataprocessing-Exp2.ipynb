{
 "cells": [
  {
   "cell_type": "code",
   "execution_count": 17,
   "metadata": {},
   "outputs": [],
   "source": [
    "import numpy as np\n",
    "import pandas as pd\n",
    "import sqlite3"
   ]
  },
  {
   "cell_type": "code",
   "execution_count": 18,
   "metadata": {},
   "outputs": [],
   "source": [
    "conn = sqlite3.connect(\"./raw-data/4-22-exp2/crawl-data.sqlite\")"
   ]
  },
  {
   "cell_type": "code",
   "execution_count": 19,
   "metadata": {},
   "outputs": [],
   "source": [
    "# cur = conn.cursor()\n",
    "javascript_cookies = pd.read_sql_query(\"select visit_id, record_type, change_cause, host, name, value, \\\n",
    "time_stamp from javascript_cookies;\", conn)"
   ]
  },
  {
   "cell_type": "code",
   "execution_count": 20,
   "metadata": {},
   "outputs": [],
   "source": [
    "http_responses = pd.read_sql_query(\"select visit_id, url, method, headers, time_stamp from http_responses where response_status == 200;\", conn)"
   ]
  },
  {
   "cell_type": "code",
   "execution_count": 21,
   "metadata": {},
   "outputs": [],
   "source": [
    "http_requests = pd.read_sql_query(\"select visit_id, headers, referrer, Url, time_stamp from http_requests;\", conn)"
   ]
  },
  {
   "cell_type": "code",
   "execution_count": 13,
   "metadata": {},
   "outputs": [],
   "source": [
    "javascript = pd.read_sql_query(\"select visit_id, script_url, symbol, operation, value, arguments, time_stamp from javascript;\", conn)"
   ]
  },
  {
   "cell_type": "code",
   "execution_count": 29,
   "metadata": {},
   "outputs": [],
   "source": [
    "site_visits = pd.read_sql_query(\"select visit_id, site_url from site_visits;\", conn)"
   ]
  },
  {
   "cell_type": "code",
   "execution_count": 30,
   "metadata": {},
   "outputs": [],
   "source": [
    "conn.close()"
   ]
  },
  {
   "cell_type": "code",
   "execution_count": 31,
   "metadata": {},
   "outputs": [
    {
     "data": {
      "text/plain": [
       "['webmd', 'nytimes', 'berkeley']"
      ]
     },
     "execution_count": 31,
     "metadata": {},
     "output_type": "execute_result"
    }
   ],
   "source": [
    "names = list(map(lambda x: x.split('.')[1], list(site_visits.site_url)))\n",
    "names"
   ]
  },
  {
   "cell_type": "code",
   "execution_count": 132,
   "metadata": {},
   "outputs": [],
   "source": [
    "cookies_dict = {\n",
    "  \"nytimes\": ['.nytimes.com', '.et.nytimes.com', 'www.nytimes.com', '.a.nytimes.com', 'static01.nyt.com'],\n",
    "  \"webmd\": ['.www.webmd.com', '.webmd.com', '.css.webmd.com', '.js.webmd.com','.img.webmd.com', 'www.webmd.com', 'survey.o.webmd.com', '.staging.webmd.com'],\n",
    "  \"berkeley\": ['.berkeley.edu', '.www.berkeley.edu', 'www.berkeley.edu', 'matrix.berkeley.edu', \\\n",
    "               'give.berkeley.edu', 'news.berkeley.edu', '.news.berkeley.edu', 'bconnected.berkeley.edu',\\\n",
    "               '.publichealth.berkeley.edu', 'greatergood.berkeley.edu']\n",
    "}"
   ]
  },
  {
   "cell_type": "code",
   "execution_count": 133,
   "metadata": {},
   "outputs": [],
   "source": [
    "js_cookies_1 = javascript_cookies[javascript_cookies.visit_id == 1]\n",
    "js_cookies_2 = javascript_cookies[javascript_cookies.visit_id == 2]\n",
    "js_cookies_3 = javascript_cookies[javascript_cookies.visit_id == 3]"
   ]
  },
  {
   "cell_type": "code",
   "execution_count": 134,
   "metadata": {},
   "outputs": [
    {
     "data": {
      "text/plain": [
       "array(['.nytimes.com', '.et.nytimes.com', '.berkeley.edu',\n",
       "       '.www.berkeley.edu', '8343.global.siteimproveanalytics.io',\n",
       "       'www.berkeley.edu', 'bconnected.berkeley.edu', '.nr-data.net',\n",
       "       'greatergood.berkeley.edu', '.google.com', '.addthis.com',\n",
       "       '.facebook.com', 'disqus.com', '.disqus.com', 'io.narrative.io',\n",
       "       '.adnxs.com', '.pippio.com', '.rezync.com', 'live.rezync.com',\n",
       "       '.rlcdn.com', '.adsymptotic.com', '.apxlv.com', '.adsrvr.org',\n",
       "       '.cpx.to', '.amazon-adsystem.com', '.cogocast.net', '.tapad.com',\n",
       "       '.rfihub.com', '.w55c.net', '.demdex.net', '.krxd.net',\n",
       "       '.dpm.demdex.net', '.bluekai.com'], dtype=object)"
      ]
     },
     "execution_count": 134,
     "metadata": {},
     "output_type": "execute_result"
    }
   ],
   "source": [
    "# third party cookies (filter by host)\n",
    "js_cookies_3.host.unique()"
   ]
  },
  {
   "cell_type": "code",
   "execution_count": 135,
   "metadata": {
    "scrolled": false
   },
   "outputs": [
    {
     "name": "stdout",
     "output_type": "stream",
     "text": [
      "(688, 7)\n",
      ".www.webmd.com\n",
      "(687, 7)\n",
      ".webmd.com\n",
      "(428, 7)\n",
      ".css.webmd.com\n",
      "(427, 7)\n",
      ".js.webmd.com\n",
      "(426, 7)\n",
      ".img.webmd.com\n",
      "(421, 7)\n",
      "www.webmd.com\n",
      "(327, 7)\n",
      "survey.o.webmd.com\n",
      "(321, 7)\n",
      ".staging.webmd.com\n",
      "(321, 7)\n",
      "***********************************\n",
      "(598, 7)\n",
      ".nytimes.com\n",
      "(360, 7)\n",
      ".et.nytimes.com\n",
      "(219, 7)\n",
      "www.nytimes.com\n",
      "(188, 7)\n",
      ".a.nytimes.com\n",
      "(182, 7)\n",
      "static01.nyt.com\n",
      "(177, 7)\n",
      "***********************************\n",
      "(213, 7)\n",
      ".berkeley.edu\n",
      "(147, 7)\n",
      ".www.berkeley.edu\n",
      "(146, 7)\n",
      "www.berkeley.edu\n",
      "(138, 7)\n",
      "matrix.berkeley.edu\n",
      "(138, 7)\n",
      "give.berkeley.edu\n",
      "(138, 7)\n",
      "news.berkeley.edu\n",
      "(138, 7)\n",
      ".news.berkeley.edu\n",
      "(138, 7)\n",
      "bconnected.berkeley.edu\n",
      "(137, 7)\n",
      ".publichealth.berkeley.edu\n",
      "(137, 7)\n",
      "greatergood.berkeley.edu\n",
      "(125, 7)\n"
     ]
    }
   ],
   "source": [
    "js_cookies_third_1 = js_cookies_1\n",
    "print(js_cookies_third_1.shape)\n",
    "\n",
    "for temp in cookies_dict.get(names[0]):\n",
    "    print(temp)\n",
    "    # js_cookies_third_1 = js_cookies_third_1[-js_cookies_third_1.host.str.contains(temp)]\n",
    "    js_cookies_third_1 = js_cookies_third_1[-js_cookies_third_1.host.str.match(temp)]\n",
    "    print(js_cookies_third_1.shape)\n",
    "\n",
    "print(\"***********************************\")\n",
    "\n",
    "js_cookies_third_2 = js_cookies_2\n",
    "print(js_cookies_third_2.shape)\n",
    "\n",
    "for temp in cookies_dict.get(names[1]):\n",
    "    print(temp)\n",
    "    js_cookies_third_2 = js_cookies_third_2[-js_cookies_third_2.host.str.match(temp)]\n",
    "    print(js_cookies_third_2.shape)    \n",
    "    \n",
    "print(\"***********************************\")\n",
    "\n",
    "js_cookies_third_3 = js_cookies_3\n",
    "print(js_cookies_third_3.shape)\n",
    "\n",
    "for temp in cookies_dict.get(names[2]):\n",
    "    print(temp)\n",
    "    js_cookies_third_3 = js_cookies_third_3[-js_cookies_third_3.host.str.match(temp)]\n",
    "    print(js_cookies_third_3.shape)\n"
   ]
  },
  {
   "cell_type": "code",
   "execution_count": 137,
   "metadata": {},
   "outputs": [
    {
     "data": {
      "text/html": [
       "<div>\n",
       "<style scoped>\n",
       "    .dataframe tbody tr th:only-of-type {\n",
       "        vertical-align: middle;\n",
       "    }\n",
       "\n",
       "    .dataframe tbody tr th {\n",
       "        vertical-align: top;\n",
       "    }\n",
       "\n",
       "    .dataframe thead th {\n",
       "        text-align: right;\n",
       "    }\n",
       "</style>\n",
       "<table border=\"1\" class=\"dataframe\">\n",
       "  <thead>\n",
       "    <tr style=\"text-align: right;\">\n",
       "      <th></th>\n",
       "      <th>visit_id</th>\n",
       "      <th>record_type</th>\n",
       "      <th>change_cause</th>\n",
       "      <th>host</th>\n",
       "      <th>name</th>\n",
       "      <th>value</th>\n",
       "      <th>time_stamp</th>\n",
       "    </tr>\n",
       "  </thead>\n",
       "  <tbody>\n",
       "  </tbody>\n",
       "</table>\n",
       "</div>"
      ],
      "text/plain": [
       "Empty DataFrame\n",
       "Columns: [visit_id, record_type, change_cause, host, name, value, time_stamp]\n",
       "Index: []"
      ]
     },
     "execution_count": 137,
     "metadata": {},
     "output_type": "execute_result"
    }
   ],
   "source": [
    "# double check\n",
    "js_cookies_third_1[js_cookies_third_1.host.str.contains(names[0])]\n",
    "js_cookies_third_2[js_cookies_third_2.host.str.contains(names[1])]\n",
    "js_cookies_third_3[js_cookies_third_3.host.str.contains(names[2])]"
   ]
  },
  {
   "cell_type": "code",
   "execution_count": null,
   "metadata": {},
   "outputs": [],
   "source": []
  },
  {
   "cell_type": "code",
   "execution_count": 139,
   "metadata": {},
   "outputs": [],
   "source": [
    "js_cookies_third_1.to_csv('2-1-cookies.csv', index=False)\n",
    "js_cookies_third_2.to_csv('2-2-cookies.csv', index=False)\n",
    "js_cookies_third_3.to_csv('2-3-cookies.csv', index=False)"
   ]
  },
  {
   "cell_type": "code",
   "execution_count": null,
   "metadata": {},
   "outputs": [],
   "source": []
  },
  {
   "cell_type": "code",
   "execution_count": null,
   "metadata": {},
   "outputs": [],
   "source": []
  },
  {
   "cell_type": "code",
   "execution_count": 152,
   "metadata": {},
   "outputs": [],
   "source": [
    "js_1 = javascript[javascript.visit_id == 1]\n",
    "js_2 = javascript[javascript.visit_id == 2]\n",
    "js_3 = javascript[javascript.visit_id == 3]"
   ]
  },
  {
   "cell_type": "code",
   "execution_count": 153,
   "metadata": {},
   "outputs": [
    {
     "data": {
      "text/plain": [
       "array(['https://s.go-mpulse.net/boomerang/7TA4C-EHAW8-JP6NL-WZFXG-NSUSJ',\n",
       "       'https://gum.criteo.com/syncframe?topUrl=www.webmd.com#{%22sid%22:{%22value%22:null,%22origin%22:0},%22uid%22:{%22value%22:null,%22origin%22:0},%22optout%22:{%22value%22:false,%22origin%22:0},%22bundle%22:{%22value%22:null,%22origin%22:0},%22lwid%22:{%22value%22:null,%22origin%22:0},%22tld%22:%22webmd.com%22,%22cw%22:true,%22origin%22:%22rtus%22,%22topUrl%22:%22www.webmd.com%22,%22rtusCallerId%22:321}',\n",
       "       'https://js.webmd.com/dtmcms/live/webmd/PageBuilder_Assets/JS/responsive_scripts153.js',\n",
       "       'https://assets.adobedtm.com/dbc05520d4f49caf542bbd26c65a4b463263a2c9/satelliteLib-99a8aacf5aa69747ae52c15253c9133d2fb09587.js',\n",
       "       'https://assets.adobedtm.com/dbc05520d4f49caf542bbd26c65a4b463263a2c9/mbox-contents-ebaef46ec7b7354eb057e66308e35f0ebbe97370.js',\n",
       "       'https://c.amazon-adsystem.com/aax2/apstag.js',\n",
       "       'https://securepubads.g.doubleclick.net/tag/js/gpt.js',\n",
       "       'https://contextual.media.net/dmedianet.js?cid=8CUU54RQD&https=1',\n",
       "       'https://contextual.media.net/bidexchange.js?cid=8CU66J63J&version=3.2&https=1',\n",
       "       'https://securepubads.g.doubleclick.net/gpt/pubads_impl_2020041602.js',\n",
       "       'https://ibclick.stream/assets/js/track/dist/js/v1/tracker.min.js',\n",
       "       'https://gum.criteo.com/sync?r=2&c=321&j=window.advBidxc.mnetRtusId',\n",
       "       'https://cdn.tt.omtrdc.net/cdn/target.js',\n",
       "       'https://contextual.media.net/pubcid.php?itype=HB&cb=window.advBidxc.mnetCoRtusId',\n",
       "       'https://www.webmd.com/',\n",
       "       'https://img.webmd.com/bi_common/bi_consumer.js?d=4/22/2020',\n",
       "       'https://www.googleadservices.com/pagead/conversion_async.js',\n",
       "       'https://js.webmd.com/dtmcms/live/webmd/PageBuilder_Assets/JS_static/responsive_scripts_body.js',\n",
       "       'https://connect.facebook.net/en_US/sdk.js#xfbml=1&version=v3.1',\n",
       "       'https://connect.facebook.net/en_US/fbevents.js',\n",
       "       'https://www.redditstatic.com/ads/pixel.js',\n",
       "       'https://b-code.liadm.com/a-00xm.min.js',\n",
       "       'https://consent.trustarc.com/notice?domain=webmd.com&c=teconsent&js=nj&noticeType=bb&text=true&cookieLink=https%3A%2F%2Fwww.webmd.com%2Fabout-webmd-policies%2Fabout-california-privacy-policy&privacypolicylink=https%3A%2F%2Fwww.webmd.com%2Fabout-webmd-policies%2Fabout-privacy-policy',\n",
       "       'https://connect.facebook.net/en_US/sdk.js?hash=e478562eb56f3a954e2f26fef25bb103',\n",
       "       'https://cdn.mouseflow.com/projects/5ac4993e-d991-4a31-8de6-778aba38a40c.js',\n",
       "       'https://connect.facebook.net/signals/config/428750600651790?v=2.9.16&r=stable',\n",
       "       'https://s.pinimg.com/ct/lib/main.a37a8bbc.js',\n",
       "       'https://img.webmd.com/pixel/aiq.a.html?domain=webmd.com&pvid=158760660280054751',\n",
       "       'https://js.webmd.com/dtmcms/live/webmd/PageBuilder_Assets/JS_static/components/beacon.aiq.js',\n",
       "       'https://js.webmd.com/dtmcms/live/webmd/PageBuilder_Assets/JS_static/components/beacon.liveramp.js',\n",
       "       'https://webmd.demdex.net/dest5.html?d_nsid=0#https%3A%2F%2Fwww.webmd.com',\n",
       "       'https://img.webmd.com/pixel/liveramp.b.html?lrid=ff53374bd5b2cac2e90f6479e6728a9bb372a265aa66cf8dcd95dd2ac95ed191525a548f079a9e09',\n",
       "       'https://www.googletagservices.com/activeview/js/current/osd_listener.js?cache=r20110914',\n",
       "       'https://z.moatads.com/webmddfp936579382290/moatad.js#moatClientLevel1=17912954&moatClientLevel2=2678096350&moatClientLevel3=5329369610&moatClientLevel4=138307139196&moatClientSlicer1=3312554&moatClientSlicer2=25989674&zMoatMNView=&zMoatMNRefresh=&zMoatPG=&zMoatECD=0&zMoatMGV=&zMoatMMV=&zMoatMSafety=&zMoatMData=&zMoatCC=83&zMoatLeaf=17008&zMoatPT=1728&zMoatBP=1&zMoatURI=/default&zMoatVALUE=158760660280054751&zMoatShield=&zMoatPS=137&zMoatFR=',\n",
       "       'https://img.webmd.com/dtmcms/live/webmd/consumer_assets/site_images/tools/coronavirus-map/js/app.js?v=603749525',\n",
       "       'https://www.googletagservices.com/dcm/dcmads.js',\n",
       "       'https://www.googletagservices.com/dcm/impl_v55.js',\n",
       "       'https://ad.doubleclick.net/ddm/adj/N1251450.1236WEBMD/B24026375.271692387;dc_ver=55.153;sz=728x90;u_sd=1;dc_adk=1027831081;ord=6cg75b;click=https%3A%2F%2Fadclick.g.doubleclick.net%2Fpcs%2Fclick%3Fxai%3DAKAOjstWLAaXy2QedMYUFPskQpy79qsJjCncXBt_Pypc913Ec0V1xfD-7NXda5lO-rKrrk5dfjhO8iNhO3t89R3CYmgKF7Lwg4TEWork5eozLcbK66fTR5rPaMzCjzNPf9HrmzTgAUEroI_bI8eymDa7DUBJ0QXZBf4a4KHbcI7W2hzokWV7Faw3f6maaZNXF_0WO0LRv2ix5Yh526EhQ7SJ-SNRbPhVzdcZCvq6y8eJXdyjVUOv1e-FZayByfnziVdhoaK1BBF7JVRFTDIV%26sai%3DAMfl-YSHlXm9fE86ZS8wejnWz72AI0tFNBGV9SfsmTY-fqpwhHbcc0Yl03UOnseh5wEtwlqeBdBIa4c014CILFPbGtysr1q8lydb0un4ekPOZg%26sig%3DCg0ArKJSzFmAc-F2lK8-EAE%26urlfix%3D1%26adurl%3D;dc_rfl=1,https%3A%2F%2Fwww.webmd.com%2F$0;xdt=0;crlt=2Xvexl5g3X;osda=2;sttr=1465;prcl=s?',\n",
       "       'https://z.moatads.com/webmddfp936579382290/moatad.js#moatClientLevel1=4862803161&moatClientLevel2=2685151144&moatClientLevel3=5347387581&moatClientLevel4=138309470542&moatClientSlicer1=3312554&moatClientSlicer2=25989674&zMoatMNView=&zMoatMNRefresh=&zMoatPG=&zMoatECD=0&zMoatMGV=&zMoatMMV=&zMoatMSafety=&zMoatMData=&zMoatCC=83&zMoatLeaf=17008&zMoatPT=1728&zMoatBP=1&zMoatURI=/default&zMoatVALUE=158760660280054751&zMoatShield=&zMoatPS=101&zMoatFR=',\n",
       "       'https://tpc.googlesyndication.com/sodar/UFYwWwmt.js',\n",
       "       'https://www.googletagservices.com/activeview/js/current/lidar.js?cache=r20110914',\n",
       "       'https://ad.doubleclick.net/ddm/adj/N1251450.1236WEBMD/B24026375.271614484;dc_ver=55.153;dc_eid=40004000;sz=300x250;u_sd=1;dc_adk=1526426640;ord=nzwblu;click=https%3A%2F%2Fadclick.g.doubleclick.net%2Fpcs%2Fclick%3Fxai%3DAKAOjst0i2YgI5PpUEBmbkWFxjQoQkzRnMrDcwGCgS3JDKLZq4ipOTtBCtLHN1wAJHcoZ4IwlOgx5x4QgxI8U1UFdQ5uxqemJ6-CECsn9xPXITLRBDYQ5cc3e7y1fJeiDTxCmP4lY9kmXF_QNkc1MiiEptMzPE0rlnnmubHcfkiKFMmHMbNthaHUazXETJ6HR3DRdbysyUIoudgtkRJ8jfb6vXzvhDWZ1uGN8T1zPdXYHZA4ejsqwjOOENJLrHyXGwWQZnafIXSaFG_J840V%26sai%3DAMfl-YTGNh-m6FmHehs4A9Ojdc7wWTkyGwhmOkhDMiho4if66szK0FpJkOxpocUnch06Td1oHxJaMlT-zpLsQ4XRtp9QhQfY3HjXTEJ9DkkD8g%26sig%3DCg0ArKJSzHTsADb78qAyEAE%26urlfix%3D1%26adurl%3D;dc_rfl=1,https%3A%2F%2Fwww.webmd.com%2F$0;xdt=0;crlt=2Xvexl5g3X;osda=2;sttr=1418;prcl=s?',\n",
       "       'https://z.moatads.com/webmddfp936579382290/moatad.js#moatClientLevel1=4862803161&moatClientLevel2=2685151144&moatClientLevel3=5347387581&moatClientLevel4=138309097785&moatClientSlicer1=3312554&moatClientSlicer2=25989674&zMoatMNView=&zMoatMNRefresh=&zMoatPG=&zMoatECD=0&zMoatMGV=&zMoatMMV=&zMoatMSafety=&zMoatMData=&zMoatCC=83&zMoatLeaf=17008&zMoatPT=1728&zMoatBP=1&zMoatURI=/default&zMoatVALUE=158760660280054751&zMoatShield=&zMoatPS=121&zMoatFR=',\n",
       "       'https://tpc.googlesyndication.com/safeframe/1-0-37/html/container.html',\n",
       "       'https://tpc.googlesyndication.com/safeframe/1-0-37/js/ext.js',\n",
       "       'https://tpc.googlesyndication.com/sodar/Enqz_20U.html',\n",
       "       'https://dntcl.qualaroo.com/frame.html',\n",
       "       'https://ads.pubmatic.com/AdServer/js/showad.js#PIX&kdntuid=1&SPug=true&p=156176&predirect=https%3A%2F%2Fcontextual.media.net%2Fcksync.php%3Fcs%3D1%26vsid%3D2306082024971355000V10%26type%3Dpb%26refUrl%3D%26vid%3D76066137802306082024971355000V10%26ovsid%3DPM_UID&userIdMacro=PM_UID&it=0&gdpr=0&np=0',\n",
       "       'https://eus.rubiconproject.com/usync.html?p=medianet',\n",
       "       'https://tpc.googlesyndication.com/sodar/sodar2/209/runner.html',\n",
       "       'https://gum.criteo.com/sync?r=2&c=158&j=STRCriteoCallback&callback=STRCriteoCallback',\n",
       "       'https://securepubads.g.doubleclick.net/gpt/pubads_impl_rendering_2020041602.js',\n",
       "       'https://www.googletagservices.com/activeview/js/current/osd.js?cb=%2Fr20100101',\n",
       "       'https://b-code.liadm.com/sync-container.js',\n",
       "       'https://s3.amazonaws.com/ki.js/38969/hrI.js',\n",
       "       'https://tpc.googlesyndication.com/sodar/sodar2.js',\n",
       "       'https://www.facebook.com/rsrc.php/v3/yf/r/0MkaEOgawcv.js?_nc_x=Ij3Wp8lg5Kz',\n",
       "       'https://www.facebook.com/rsrc.php/v3iEpO4/yk/l/en_US/An_VLSLsTP_.js?_nc_x=Ij3Wp8lg5Kz',\n",
       "       'https://eus.rubiconproject.com/usync.html?region=na&country=us&endpoint=us-east&p=a9us&',\n",
       "       'https://www.facebook.com/rsrc.php/v3/yK/r/36oG0kEj1NI.js?_nc_x=Ij3Wp8lg5Kz',\n",
       "       'https://img.webmd.com/dtmcms/live/webmd/consumer_assets/site_images/amd_modules/newsletter-hover/1/hover-newsletter-counter.js',\n",
       "       'https://pagead2.googlesyndication.com/bg/r_kJ4x66L0q9ptqPN1EZdQZJVGt7LCWecB4z-4tOz0Y.js',\n",
       "       'https://www.facebook.com/rsrc.php/v3/y1/r/VBWHd98I2om.js?_nc_x=Ij3Wp8lg5Kz',\n",
       "       'https://ads.pubmatic.com/AdServer/js/user_sync.html?p=156176&userIdMacro=PM_UID&predirect=https%3A%2F%2Fcontextual.media.net%2Fcksync.php%3Fcs%3D1%26vsid%3D2306082024971355000V10%26type%3Dpb%26refUrl%3D%26vid%3D76066137802306082024971355000V10%26ovsid%3DPM_UID',\n",
       "       'https://contextual.media.net/checksync.php?&vsSync=1&cs=1&hb=1&cv=37&ndec=1&cid=8CU66J63J&prvid=23%2C28%2C29%2C38%2C41%2C51%2C54%2C55%2C56%2C59%2C72%2C76%2C79%2C80%2C82%2C84%2C86%2C96%2C97%2C102%2C107%2C108%2C109%2C132%2C145%2C157%2C159%2C171%2C172%2C175%2C178%2C186%2C201%2C203%2C208%2C214%2C222%2C3003%2C3008%2C3014&rtime=9958&https=1&usp_status=0&usp_consent=1',\n",
       "       'https://www.facebook.com/rsrc.php/v3/yg/r/A3gFHgoUMHG.js?_nc_x=Ij3Wp8lg5Kz',\n",
       "       'https://www.webmd.com/skin-problems-and-treatments/psoriasis/interact-psoriasis-skin-areas',\n",
       "       'https://z.moatads.com/webmddfp936579382290/moatad.js#moatClientLevel1=25453634&moatClientLevel2=2649539190&moatClientLevel3=5266795868&moatClientLevel4=138299083924&moatClientSlicer1=3312554&moatClientSlicer2=25989914&zMoatMNView=&zMoatMNRefresh=&zMoatPG=&zMoatECD=0&zMoatMGV=&zMoatMMV=&zMoatMSafety=&zMoatMData=&zMoatCC=95&zMoatLeaf=17459&zMoatPT=4223&zMoatBP=1&zMoatURI=/skin-problems-and-treatments/psoriasis/interact-psoriasis-skin-areas&zMoatVALUE=158760668290468993&zMoatShield=&zMoatPS=121&zMoatFR=',\n",
       "       'https://z.moatads.com/webmddfp936579382290/moatad.js#moatClientLevel1=25453634&moatClientLevel2=2649539190&moatClientLevel3=5266795868&moatClientLevel4=138298746509&moatClientSlicer1=3312554&moatClientSlicer2=25989914&zMoatMNView=&zMoatMNRefresh=&zMoatPG=&zMoatECD=0&zMoatMGV=&zMoatMMV=&zMoatMSafety=&zMoatMData=&zMoatCC=95&zMoatLeaf=17459&zMoatPT=4223&zMoatBP=1&zMoatURI=/skin-problems-and-treatments/psoriasis/interact-psoriasis-skin-areas&zMoatVALUE=158760668290468993&zMoatShield=&zMoatPS=101&zMoatFR=',\n",
       "       'https://aframe.io/releases/0.7.1/aframe.min.js',\n",
       "       'https://survey.o.webmd.com/in/survey/survey140/C5213_2020004P_AT1x.asp?itype=5&prg=[InsertProgramCode]&eaid=5266795868&ecid=138298746509&esid=3312554&epid=25989914&pt=4223&hcent=1028&scent=&leaf=17459&art=091e9c5e81ce8ce2&uri=/skin-problems-and-treatments/psoriasis/interact-psoriasis-skin-areas&pvid=158760668290468993',\n",
       "       'https://s0.2mdn.net/879366/express_html_inpage_rendering_lib_200_269.js',\n",
       "       'https://survey.o.webmd.com/in/survey/survey140/C5213_2020004P_AT1x.asp?itype=5&prg=[InsertProgramCode]&eaid=5266795868&ecid=138299083924&esid=3312554&epid=25989914&pt=4223&hcent=1028&scent=&leaf=17459&art=091e9c5e81ce8ce2&uri=/skin-problems-and-treatments/psoriasis/interact-psoriasis-skin-areas&pvid=158760668290468993',\n",
       "       'https://img.webmd.com/dtmcms/live/webmd/consumer_assets/site_images/amd_modules/video2/1/api/video-api.js',\n",
       "       'https://webmdplayer-a.akamaihd.net/consumer/live/resources/amp_min.js',\n",
       "       'https://img.webmd.com/dtmcms/live/webmd/consumer_assets/site_images/amd_modules/video2/1/consumer-shared/player-shared.js',\n",
       "       'https://cdnjs.cloudflare.com/ajax/libs/iScroll/5.1.1/iscroll-min.js',\n",
       "       'https://s0.2mdn.net/3576711/1585032831841/gwd_300x600%20v5.2/index.html',\n",
       "       'https://s0.2mdn.net/ads/studio/Enabler.js',\n",
       "       'https://sb.voicefive.com/c2/7337609/rs.js#c1=3&amp;c3=23609298&amp;c4=130668790&amp;c5=262892289&amp;c11=1241489&amp;c13=300x600&amp;c16=dcm',\n",
       "       'https://s0.2mdn.net/3576711/1585032840843/gwd_728x90%20v5.2/index.html',\n",
       "       'https://sb.voicefive.com/c2/7337609/rs.js#c1=3&amp;c3=23609298&amp;c4=130668793&amp;c5=262489811&amp;c11=1241489&amp;c13=728x90&amp;c16=dcm',\n",
       "       'https://imasdk.googleapis.com/js/sdkloader/ima3.js',\n",
       "       'https://cdn.doubleverify.com/dv-measurements319.js',\n",
       "       'https://sb.scorecardresearch.com/rs/vce_st.js',\n",
       "       'https://cdn3.doubleverify.com/t2tv7.html',\n",
       "       'https://cdn.dashjs.org/v2.6.4/dash.all.min.js',\n",
       "       'https://img.webmd.com/dtmcms/live/webmd/consumer_assets/site_images/amd_modules/video2/1/responsive-player/responsive-control-bar.js',\n",
       "       'https://tps30.doubleverify.com/visit.js?bridua=2&tstype=2&eparams=DC4FC%3Dl9EEADTbpTauTauHHH%5DH63%3E5%5D4%40%3ETauD%3C%3A%3F%5CAC%403%3D6%3ED%5C2%3F5%5CEC62E%3E6%3FEDTauAD%40C%3A2D%3ADTau%3A%3FE6C24E%5CAD%40C%3A2D%3AD%5CD%3C%3A%3F%5C2C62DU2%26C%3Dl&srcurlD=0&aUrlD=0&ssl=https:&dvp_region=30&dfs=9457&ddur=1141&uid=1587606704956551&jsCallback=dvCallback_1587606704956642&dvtagver=6.1.src&navUa=Mozilla%2F5.0%20(X11%3B%20Linux%20x86_64%3B%20rv%3A72.0)%20Gecko%2F20100101%20Firefox%2F72.0&htmlmsging=1&chro=0&hist=2&winh=694&winw=1366&wouh=768&wouw=1366&scah=768&scaw=1366&jsver=319&lvvn=28&m1=13&refD=1&fwc=0&fcl=2673&flt=0&fec=404&fcifrms=8&brh=2&dvp_epl=183&noc=2&ctx=2097880&cmp=23609298&sid=1241489&plc=262892289&crt=130668790&btreg=458373826&btadsrv=doubleclick&adsrv=1&advid=3576711&dvp_tuid=361310515091',\n",
       "       'https://imasdk.googleapis.com/js/core/bridge3.382.1_en.html#goog_894352948',\n",
       "       'https://tps30.doubleverify.com/visit.js?bridua=2&tstype=2&eparams=DC4FC%3Dl9EEADTbpTauTauHHH%5DH63%3E5%5D4%40%3ETauD%3C%3A%3F%5CAC%403%3D6%3ED%5C2%3F5%5CEC62E%3E6%3FEDTauAD%40C%3A2D%3ADTau%3A%3FE6C24E%5CAD%40C%3A2D%3AD%5CD%3C%3A%3F%5C2C62DU2%26C%3Dl&srcurlD=0&aUrlD=0&ssl=https:&dvp_region=30&dfs=10602&ddur=948&uid=1587606705057490&jsCallback=dvCallback_1587606705057892&dvtagver=6.1.src&navUa=Mozilla%2F5.0%20(X11%3B%20Linux%20x86_64%3B%20rv%3A72.0)%20Gecko%2F20100101%20Firefox%2F72.0&htmlmsging=1&chro=0&hist=2&winh=694&winw=1366&wouh=768&wouw=1366&scah=768&scaw=1366&jsver=319&lvvn=28&m1=13&refD=1&fwc=0&fcl=2673&flt=0&fec=404&fcifrms=8&brh=2&dvp_epl=183&noc=2&ctx=2097880&cmp=23609298&sid=1241489&plc=262489811&crt=130668793&btreg=458373838&btadsrv=doubleclick&adsrv=1&advid=3576711&dvp_tuid=898127990833',\n",
       "       'https://gum.criteo.com/syncframe?topUrl=www.webmd.com#{%22sid%22:{%22value%22:null,%22origin%22:0},%22uid%22:{%22value%22:null,%22origin%22:0},%22optout%22:{%22value%22:false,%22origin%22:0},%22bundle%22:{%22value%22:%22RtV7LV83MkdHOHlkNXdENmxPNld4akRKazRsRkxjZ09jZjJXOUpDWlhoYnVXOWhVU1ZDRmcxTSUyRlJFU3JtYjk0ZDVwVzBQYzlidm13UllSSFJTbEc5NzVDT2RrUkVTdXBQc1VrMWpiaGp0OWdoa0JaT0JxcGFWMGRDUnVudVE0RHZwN0Fk%22,%22origin%22:3},%22lwid%22:{%22value%22:null,%22origin%22:0},%22tld%22:%22webmd.com%22,%22cw%22:true,%22origin%22:%22rtus%22,%22topUrl%22:%22www.webmd.com%22,%22rtusCallerId%22:158}',\n",
       "       'https://s0.2mdn.net/instream/video/client.js',\n",
       "       'https://gum.criteo.com/syncframe?topUrl=www.webmd.com#{%22sid%22:{%22value%22:null,%22origin%22:0},%22uid%22:{%22value%22:null,%22origin%22:0},%22optout%22:{%22value%22:false,%22origin%22:0},%22bundle%22:{%22value%22:%2206qLjV83MkdHOHlkNXdENmxPNld4akRKazRpYiUyRnhmc29saktsTnlWMkxTY1FoQUI4JTJGYWNPeUE5M0dhTGJwSSUyQnZpZjU1JTJGWUZWM2l4cTM5VWt0ZnolMkJaeWN2V2g2Z29kZ0IwY3p1UFA0MFhlcGVXaGV1VDR5NUNodDM0NHRZc3N1UXN5UFdBd2o2YiUyQmhkUXRqMGI4SXFUUnBmMWclM0QlM0Q%22,%22origin%22:3},%22lwid%22:{%22value%22:null,%22origin%22:0},%22tld%22:%22webmd.com%22,%22cw%22:true,%22origin%22:%22rtus%22,%22topUrl%22:%22www.webmd.com%22,%22rtusCallerId%22:321}',\n",
       "       'https://z.moatads.com/webmddfp936579382290/moatad.js#moatClientLevel1=17912954&moatClientLevel2=2678096350&moatClientLevel3=5329369610&moatClientLevel4=138307516696&moatClientSlicer1=3312554&moatClientSlicer2=25989674&zMoatMNView=&zMoatMNRefresh=&zMoatPG=&zMoatECD=0&zMoatMGV=&zMoatMMV=&zMoatMSafety=&zMoatMData=&zMoatCC=83&zMoatLeaf=17008&zMoatPT=1728&zMoatBP=1&zMoatURI=/default&zMoatVALUE=158760673769008528&zMoatShield=&zMoatPS=137&zMoatFR=',\n",
       "       'https://ad.doubleclick.net/ddm/adj/N1251450.1236WEBMD/B24026375.271692387;dc_ver=55.153;sz=728x90;u_sd=1;dc_adk=1224494890;ord=hh8cdo;click=https%3A%2F%2Fadclick.g.doubleclick.net%2Fpcs%2Fclick%3Fxai%3DAKAOjssv7E0XAYMzWOyxl7I7FPuNwF_C_gS3_m0l4K51JEmzwbgxJ3mInMASEVg5trIxBy4ZnToRaOnwXN7Fx5Yp6d_fkTdQOldFsjwdzalukMTNmROjRqM8hmZQN6G5DhnepvpA40c25Ymso-ddgeaV5TTWR0jlF6-c5OUCyMHbJ1Sszc01aD9Qe7VoisQ-S2ubxioChIMd1aEteIGKaUdWbWIf0Pmt9UKbLtJq2WfbVOZA9_zgS4YntULuHrrdOL7MrlvO1Debb-Wk0Fdc%26sig%3DCg0ArKJSzCDs7HmDOveFEAE%26urlfix%3D1%26adurl%3D;dc_rfl=1,https%3A%2F%2Fwww.webmd.com%2F$0;xdt=0;crlt=(SXVIvHuBm;osda=2;sttr=1755;prcl=s?',\n",
       "       'https://img.webmd.com/dtmcms/live/webmd/consumer_assets/site_images/tools/coronavirus-map/js/app.js?v=422651549'],\n",
       "      dtype=object)"
      ]
     },
     "execution_count": 153,
     "metadata": {},
     "output_type": "execute_result"
    }
   ],
   "source": [
    "# third party js (filter by script_url)\n",
    "js_1.script_url.unique()"
   ]
  },
  {
   "cell_type": "code",
   "execution_count": 126,
   "metadata": {},
   "outputs": [],
   "source": [
    "# https://webmd.demdex.net"
   ]
  },
  {
   "cell_type": "code",
   "execution_count": null,
   "metadata": {},
   "outputs": [],
   "source": []
  },
  {
   "cell_type": "code",
   "execution_count": 154,
   "metadata": {
    "scrolled": true
   },
   "outputs": [],
   "source": [
    "js_dict = {\n",
    "  \"nytimes\": ['https://static01.nyt.com', 'https://www.nytimes.com', 'https://myaccount.nytimes.com'],\n",
    "  \"webmd\": ['https://js.webmd.com', 'https://www.webmd.com', 'https://img.webmd.com', \\\n",
    "            'https://survey.o.webmd.com', 'https://js.staging.webmd.com'],\n",
    "  \"berkeley\": ['https://www.berkeley.edu', 'https://bconnected.berkeley.edu', 'https://give.berkeley.edu', \\\n",
    "               'https://news.berkeley.edu', 'https://greatergood.berkeley.edu', 'https://matrix.berkeley.edu'\\\n",
    "              , 'https://irle.berkeley.edu']\n",
    "}"
   ]
  },
  {
   "cell_type": "code",
   "execution_count": 155,
   "metadata": {},
   "outputs": [
    {
     "name": "stdout",
     "output_type": "stream",
     "text": [
      "(10707, 7)\n",
      "https://js.webmd.com\n",
      "(10055, 7)\n",
      "https://www.webmd.com\n",
      "(9534, 7)\n",
      "https://img.webmd.com\n",
      "(9089, 7)\n",
      "https://survey.o.webmd.com\n",
      "(9075, 7)\n",
      "https://js.staging.webmd.com\n",
      "(9075, 7)\n",
      "***********************************\n",
      "(7982, 7)\n",
      "https://static01.nyt.com\n",
      "(7859, 7)\n",
      "https://www.nytimes.com\n",
      "(5679, 7)\n",
      "https://myaccount.nytimes.com\n",
      "(5669, 7)\n",
      "***********************************\n",
      "(2410, 7)\n",
      "https://www.berkeley.edu\n",
      "(1610, 7)\n",
      "https://bconnected.berkeley.edu\n",
      "(1605, 7)\n",
      "https://give.berkeley.edu\n",
      "(1605, 7)\n",
      "https://news.berkeley.edu\n",
      "(1605, 7)\n",
      "https://greatergood.berkeley.edu\n",
      "(1591, 7)\n",
      "https://matrix.berkeley.edu\n",
      "(1591, 7)\n",
      "https://irle.berkeley.edu\n",
      "(1555, 7)\n",
      "***********************************\n"
     ]
    }
   ],
   "source": [
    "js_third_1 = js_1\n",
    "print(js_third_1.shape)\n",
    "for temp in js_dict.get(names[0]):\n",
    "    print(temp)\n",
    "    js_third_1 = js_third_1[-js_third_1.script_url.str.startswith(temp)]\n",
    "    print(js_third_1.shape)\n",
    "    \n",
    "print(\"***********************************\")\n",
    "\n",
    "js_third_2 = js_2\n",
    "print(js_third_2.shape)\n",
    "for temp in js_dict.get(names[1]):\n",
    "    print(temp)\n",
    "    js_third_2 = js_third_2[-js_third_2.script_url.str.startswith(temp)]\n",
    "    print(js_third_2.shape)\n",
    "    \n",
    "print(\"***********************************\")\n",
    "\n",
    "js_third_3 = js_3\n",
    "print(js_third_3.shape)\n",
    "for temp in js_dict.get(names[2]):\n",
    "    print(temp)\n",
    "    js_third_3 = js_third_3[-js_third_3.script_url.str.startswith(temp)]\n",
    "    print(js_third_3.shape)\n",
    "    \n",
    "print(\"***********************************\")"
   ]
  },
  {
   "cell_type": "code",
   "execution_count": 144,
   "metadata": {},
   "outputs": [],
   "source": [
    "# double check\n",
    "# webmd\n",
    "\n",
    "temp = js_third_1[-js_third_1.script_url.str.contains('moatads')]\n",
    "temp = temp[-temp.script_url.str.contains('akamaihd')]\n",
    "temp = temp[-temp.script_url.str.contains('criteo')]\n",
    "list(temp[temp.script_url.str.contains(names[0])].script_url)"
   ]
  },
  {
   "cell_type": "code",
   "execution_count": 151,
   "metadata": {},
   "outputs": [],
   "source": [
    "# double check\n",
    "# nytimes\n",
    "\n",
    "temp = js_third_2\n",
    "temp = temp[-temp.script_url.str.contains('contextual')]\n",
    "list(temp[temp.script_url.str.contains(names[1])].script_url)"
   ]
  },
  {
   "cell_type": "code",
   "execution_count": 149,
   "metadata": {},
   "outputs": [
    {
     "data": {
      "text/plain": [
       "[]"
      ]
     },
     "execution_count": 149,
     "metadata": {},
     "output_type": "execute_result"
    }
   ],
   "source": [
    "# double check\n",
    "# berkeley\n",
    "\n",
    "temp = js_third_3\n",
    "temp = temp[-temp.script_url.str.contains('addthis')]\n",
    "temp = temp[-temp.script_url.str.contains('twitter')]\n",
    "list(temp[temp.script_url.str.contains(names[2])].script_url)"
   ]
  },
  {
   "cell_type": "code",
   "execution_count": 156,
   "metadata": {},
   "outputs": [],
   "source": [
    "js_third_1.to_csv('2-1-js.csv', index=False)\n",
    "js_third_2.to_csv('2-2-js.csv', index=False)\n",
    "js_third_3.to_csv('2-3-js.csv', index=False)"
   ]
  },
  {
   "cell_type": "code",
   "execution_count": null,
   "metadata": {},
   "outputs": [],
   "source": []
  },
  {
   "cell_type": "code",
   "execution_count": 22,
   "metadata": {},
   "outputs": [],
   "source": [
    "# HTTP REQUEST\n",
    "\n",
    "def get_host_from_headers(x):\n",
    "    temp = x.replace('\"','').split('],[')\n",
    "    for t in temp:\n",
    "            pair = t.replace(']]','').replace('[[','').split(',')\n",
    "            if \"Host\" in pair:\n",
    "                host_value = pair[1]\n",
    "    return host_value\n",
    "\n",
    "def get_cookies_from_headers(x):\n",
    "    ls = x.replace('\"','').split('],[')\n",
    "    for l in ls:\n",
    "        ta = l.replace(']]','').split(',')\n",
    "        if \"Cookie\" in ta:\n",
    "            return ta[-1]\n",
    "    return ''\n",
    "\n"
   ]
  },
  {
   "cell_type": "code",
   "execution_count": 23,
   "metadata": {},
   "outputs": [
    {
     "data": {
      "text/html": [
       "<div>\n",
       "<style scoped>\n",
       "    .dataframe tbody tr th:only-of-type {\n",
       "        vertical-align: middle;\n",
       "    }\n",
       "\n",
       "    .dataframe tbody tr th {\n",
       "        vertical-align: top;\n",
       "    }\n",
       "\n",
       "    .dataframe thead th {\n",
       "        text-align: right;\n",
       "    }\n",
       "</style>\n",
       "<table border=\"1\" class=\"dataframe\">\n",
       "  <thead>\n",
       "    <tr style=\"text-align: right;\">\n",
       "      <th></th>\n",
       "      <th>visit_id</th>\n",
       "      <th>headers</th>\n",
       "      <th>referrer</th>\n",
       "      <th>url</th>\n",
       "      <th>time_stamp</th>\n",
       "      <th>cookies</th>\n",
       "      <th>host</th>\n",
       "    </tr>\n",
       "  </thead>\n",
       "  <tbody>\n",
       "    <tr>\n",
       "      <th>0</th>\n",
       "      <td>1</td>\n",
       "      <td>[[\"Host\",\"www.webmd.com\"],[\"User-Agent\",\"Mozil...</td>\n",
       "      <td></td>\n",
       "      <td>https://www.webmd.com/</td>\n",
       "      <td>2020-04-23T01:50:01.239Z</td>\n",
       "      <td></td>\n",
       "      <td>www.webmd.com</td>\n",
       "    </tr>\n",
       "    <tr>\n",
       "      <th>1</th>\n",
       "      <td>1</td>\n",
       "      <td>[[\"Host\",\"css.webmd.com\"],[\"User-Agent\",\"Mozil...</td>\n",
       "      <td>https://www.webmd.com/</td>\n",
       "      <td>https://css.webmd.com/dtmcms/live/webmd/PageBu...</td>\n",
       "      <td>2020-04-23T01:50:02.127Z</td>\n",
       "      <td>\\ci\\:\\3.12.123.145\\}; VisitorId=6178bf93-a639-...</td>\n",
       "      <td>css.webmd.com</td>\n",
       "    </tr>\n",
       "    <tr>\n",
       "      <th>2</th>\n",
       "      <td>1</td>\n",
       "      <td>[[\"Host\",\"css.webmd.com\"],[\"User-Agent\",\"Mozil...</td>\n",
       "      <td>https://www.webmd.com/</td>\n",
       "      <td>https://css.webmd.com/dtmcms/live/webmd/PageBu...</td>\n",
       "      <td>2020-04-23T01:50:02.128Z</td>\n",
       "      <td>\\ci\\:\\3.12.123.145\\}; VisitorId=6178bf93-a639-...</td>\n",
       "      <td>css.webmd.com</td>\n",
       "    </tr>\n",
       "    <tr>\n",
       "      <th>3</th>\n",
       "      <td>1</td>\n",
       "      <td>[[\"Host\",\"css.webmd.com\"],[\"User-Agent\",\"Mozil...</td>\n",
       "      <td>https://www.webmd.com/</td>\n",
       "      <td>https://css.webmd.com/dtmcms/live/webmd/PageBu...</td>\n",
       "      <td>2020-04-23T01:50:02.128Z</td>\n",
       "      <td>\\ci\\:\\3.12.123.145\\}; VisitorId=6178bf93-a639-...</td>\n",
       "      <td>css.webmd.com</td>\n",
       "    </tr>\n",
       "    <tr>\n",
       "      <th>4</th>\n",
       "      <td>1</td>\n",
       "      <td>[[\"Host\",\"js.webmd.com\"],[\"User-Agent\",\"Mozill...</td>\n",
       "      <td>https://www.webmd.com/</td>\n",
       "      <td>https://js.webmd.com/dtmcms/live/webmd/PageBui...</td>\n",
       "      <td>2020-04-23T01:50:02.129Z</td>\n",
       "      <td>\\ci\\:\\3.12.123.145\\}; VisitorId=6178bf93-a639-...</td>\n",
       "      <td>js.webmd.com</td>\n",
       "    </tr>\n",
       "    <tr>\n",
       "      <th>...</th>\n",
       "      <td>...</td>\n",
       "      <td>...</td>\n",
       "      <td>...</td>\n",
       "      <td>...</td>\n",
       "      <td>...</td>\n",
       "      <td>...</td>\n",
       "      <td>...</td>\n",
       "    </tr>\n",
       "    <tr>\n",
       "      <th>2800</th>\n",
       "      <td>3</td>\n",
       "      <td>[[\"Host\",\"use.typekit.net\"],[\"User-Agent\",\"Moz...</td>\n",
       "      <td>https://www.berkeley.edu/</td>\n",
       "      <td>https://use.typekit.net/af/675d34/000000000000...</td>\n",
       "      <td>2020-04-23T01:56:42.057Z</td>\n",
       "      <td></td>\n",
       "      <td>use.typekit.net</td>\n",
       "    </tr>\n",
       "    <tr>\n",
       "      <th>2801</th>\n",
       "      <td>3</td>\n",
       "      <td>[[\"Host\",\"www.berkeley.edu\"],[\"User-Agent\",\"Mo...</td>\n",
       "      <td>https://www.berkeley.edu/</td>\n",
       "      <td>https://www.berkeley.edu/twitter/index/lv_twit...</td>\n",
       "      <td>2020-04-23T01:56:42.058Z</td>\n",
       "      <td>__utma=41573937.289548075.1587606873.158760687...</td>\n",
       "      <td>www.berkeley.edu</td>\n",
       "    </tr>\n",
       "    <tr>\n",
       "      <th>2802</th>\n",
       "      <td>3</td>\n",
       "      <td>[[\"Host\",\"www.berkeley.edu\"],[\"User-Agent\",\"Mo...</td>\n",
       "      <td>https://www.berkeley.edu/</td>\n",
       "      <td>https://www.berkeley.edu/blog/index/lv_blog_bl...</td>\n",
       "      <td>2020-04-23T01:56:42.058Z</td>\n",
       "      <td>__utma=41573937.289548075.1587606873.158760687...</td>\n",
       "      <td>www.berkeley.edu</td>\n",
       "    </tr>\n",
       "    <tr>\n",
       "      <th>2803</th>\n",
       "      <td>3</td>\n",
       "      <td>[[\"Host\",\"www.youtube.com\"],[\"User-Agent\",\"Moz...</td>\n",
       "      <td>https://www.berkeley.edu/</td>\n",
       "      <td>https://www.youtube.com/iframe_api</td>\n",
       "      <td>2020-04-23T01:56:42.058Z</td>\n",
       "      <td></td>\n",
       "      <td>www.youtube.com</td>\n",
       "    </tr>\n",
       "    <tr>\n",
       "      <th>2804</th>\n",
       "      <td>3</td>\n",
       "      <td>[[\"Host\",\"connect.facebook.net\"],[\"User-Agent\"...</td>\n",
       "      <td>https://www.berkeley.edu/</td>\n",
       "      <td>https://connect.facebook.net/en_UK/all.js</td>\n",
       "      <td>2020-04-23T01:56:42.058Z</td>\n",
       "      <td></td>\n",
       "      <td>connect.facebook.net</td>\n",
       "    </tr>\n",
       "  </tbody>\n",
       "</table>\n",
       "<p>2805 rows × 7 columns</p>\n",
       "</div>"
      ],
      "text/plain": [
       "      visit_id                                            headers  \\\n",
       "0            1  [[\"Host\",\"www.webmd.com\"],[\"User-Agent\",\"Mozil...   \n",
       "1            1  [[\"Host\",\"css.webmd.com\"],[\"User-Agent\",\"Mozil...   \n",
       "2            1  [[\"Host\",\"css.webmd.com\"],[\"User-Agent\",\"Mozil...   \n",
       "3            1  [[\"Host\",\"css.webmd.com\"],[\"User-Agent\",\"Mozil...   \n",
       "4            1  [[\"Host\",\"js.webmd.com\"],[\"User-Agent\",\"Mozill...   \n",
       "...        ...                                                ...   \n",
       "2800         3  [[\"Host\",\"use.typekit.net\"],[\"User-Agent\",\"Moz...   \n",
       "2801         3  [[\"Host\",\"www.berkeley.edu\"],[\"User-Agent\",\"Mo...   \n",
       "2802         3  [[\"Host\",\"www.berkeley.edu\"],[\"User-Agent\",\"Mo...   \n",
       "2803         3  [[\"Host\",\"www.youtube.com\"],[\"User-Agent\",\"Moz...   \n",
       "2804         3  [[\"Host\",\"connect.facebook.net\"],[\"User-Agent\"...   \n",
       "\n",
       "                       referrer  \\\n",
       "0                                 \n",
       "1        https://www.webmd.com/   \n",
       "2        https://www.webmd.com/   \n",
       "3        https://www.webmd.com/   \n",
       "4        https://www.webmd.com/   \n",
       "...                         ...   \n",
       "2800  https://www.berkeley.edu/   \n",
       "2801  https://www.berkeley.edu/   \n",
       "2802  https://www.berkeley.edu/   \n",
       "2803  https://www.berkeley.edu/   \n",
       "2804  https://www.berkeley.edu/   \n",
       "\n",
       "                                                    url  \\\n",
       "0                                https://www.webmd.com/   \n",
       "1     https://css.webmd.com/dtmcms/live/webmd/PageBu...   \n",
       "2     https://css.webmd.com/dtmcms/live/webmd/PageBu...   \n",
       "3     https://css.webmd.com/dtmcms/live/webmd/PageBu...   \n",
       "4     https://js.webmd.com/dtmcms/live/webmd/PageBui...   \n",
       "...                                                 ...   \n",
       "2800  https://use.typekit.net/af/675d34/000000000000...   \n",
       "2801  https://www.berkeley.edu/twitter/index/lv_twit...   \n",
       "2802  https://www.berkeley.edu/blog/index/lv_blog_bl...   \n",
       "2803                 https://www.youtube.com/iframe_api   \n",
       "2804          https://connect.facebook.net/en_UK/all.js   \n",
       "\n",
       "                    time_stamp  \\\n",
       "0     2020-04-23T01:50:01.239Z   \n",
       "1     2020-04-23T01:50:02.127Z   \n",
       "2     2020-04-23T01:50:02.128Z   \n",
       "3     2020-04-23T01:50:02.128Z   \n",
       "4     2020-04-23T01:50:02.129Z   \n",
       "...                        ...   \n",
       "2800  2020-04-23T01:56:42.057Z   \n",
       "2801  2020-04-23T01:56:42.058Z   \n",
       "2802  2020-04-23T01:56:42.058Z   \n",
       "2803  2020-04-23T01:56:42.058Z   \n",
       "2804  2020-04-23T01:56:42.058Z   \n",
       "\n",
       "                                                cookies                  host  \n",
       "0                                                               www.webmd.com  \n",
       "1     \\ci\\:\\3.12.123.145\\}; VisitorId=6178bf93-a639-...         css.webmd.com  \n",
       "2     \\ci\\:\\3.12.123.145\\}; VisitorId=6178bf93-a639-...         css.webmd.com  \n",
       "3     \\ci\\:\\3.12.123.145\\}; VisitorId=6178bf93-a639-...         css.webmd.com  \n",
       "4     \\ci\\:\\3.12.123.145\\}; VisitorId=6178bf93-a639-...          js.webmd.com  \n",
       "...                                                 ...                   ...  \n",
       "2800                                                          use.typekit.net  \n",
       "2801  __utma=41573937.289548075.1587606873.158760687...      www.berkeley.edu  \n",
       "2802  __utma=41573937.289548075.1587606873.158760687...      www.berkeley.edu  \n",
       "2803                                                          www.youtube.com  \n",
       "2804                                                     connect.facebook.net  \n",
       "\n",
       "[2805 rows x 7 columns]"
      ]
     },
     "execution_count": 23,
     "metadata": {},
     "output_type": "execute_result"
    }
   ],
   "source": [
    "# http_req_cookies = list(map(lambda x: get_cookies_from_headers(x), http_requests.headers.tolist()))\n",
    "\n",
    "# http_requests[\"cookies\"] = http_req_cookies\n",
    "\n",
    "# http_requests\n",
    "\n",
    "\n",
    "# temp = list(map(lambda x: get_host_from_headers(x), http_requests.headers.tolist()))\n",
    "\n",
    "# http_requests[\"host\"] = temp\n",
    "\n",
    "# http_requests"
   ]
  },
  {
   "cell_type": "code",
   "execution_count": null,
   "metadata": {},
   "outputs": [],
   "source": []
  },
  {
   "cell_type": "code",
   "execution_count": null,
   "metadata": {},
   "outputs": [],
   "source": []
  },
  {
   "cell_type": "code",
   "execution_count": 24,
   "metadata": {},
   "outputs": [],
   "source": [
    "http_request_1 = http_requests[http_requests.visit_id == 1]\n",
    "http_request_2 = http_requests[http_requests.visit_id == 2]\n",
    "http_request_3 = http_requests[http_requests.visit_id == 3]"
   ]
  },
  {
   "cell_type": "code",
   "execution_count": 25,
   "metadata": {},
   "outputs": [],
   "source": [
    "# http_request (filter by url)\n",
    "# http_request_1[http_request_1.url.str.contains(names[0])].url.unique()"
   ]
  },
  {
   "cell_type": "code",
   "execution_count": null,
   "metadata": {},
   "outputs": [],
   "source": []
  },
  {
   "cell_type": "code",
   "execution_count": 32,
   "metadata": {},
   "outputs": [],
   "source": [
    "http_dict = {\n",
    "  \"nytimes\": ['https://www.nytimes.com', 'https://nytimes.com', 'https://a.et.nytimes', 'https://et.nytimes.com','https://static01.nyt.com', \\\n",
    "              'https://a.nytimes.com' ,'https://g1.nyt.com', 'https://als-svc.nytimes.com', 'https://content.api.nytimes.com', 'https://purr.nytimes.com',\\\n",
    "              'https://samizdat-graphql.nytimes.com',  'https://meter-svc.nytimes.com',  'https://mwcm.nytimes.com',  'https://myaccount.nytimes.com'],\n",
    "  \"webmd\": ['https://www.webmd.com', 'https://css.webmd.com', 'https://js.webmd.com','https://img.webmd.com',  'http://img.webmd.com',\\\n",
    "            'https://ssl.o.webmd.com' , 'https://survey.o.webmd.com', 'https://js.staging.webmd.com', 'https://css.staging.webmd.com'],\n",
    "  \"berkeley\": ['https://www.berkeley.edu', 'https://news.berkeley.edu', 'https://matrix.berkeley.edu', 'http://give.berkeley.edu', \\\n",
    "               'http://bconnected.berkeley.edu', 'https://bconnected.berkeley.edu', 'https://greatergood.berkeley.edu', \\\n",
    "               'https://irle.berkeley.edu',  'https://publichealth.berkeley.edu', 'https://calparents.berkeley.edu',  \\\n",
    "               'http://vcue.berkeley.edu','https://vcue.berkeley.edu', 'http://events.berkeley.edu','https://events.berkeley.edu']\n",
    "}"
   ]
  },
  {
   "cell_type": "code",
   "execution_count": 33,
   "metadata": {},
   "outputs": [
    {
     "name": "stdout",
     "output_type": "stream",
     "text": [
      "(1385, 7)\n",
      "https://www.webmd.com\n",
      "(1369, 7)\n",
      "https://css.webmd.com\n",
      "(1350, 7)\n",
      "https://js.webmd.com\n",
      "(1341, 7)\n",
      "https://img.webmd.com\n",
      "(1080, 7)\n",
      "http://img.webmd.com\n",
      "(1080, 7)\n",
      "https://ssl.o.webmd.com\n",
      "(1074, 7)\n",
      "https://survey.o.webmd.com\n",
      "(1070, 7)\n",
      "https://js.staging.webmd.com\n",
      "(1070, 7)\n",
      "https://css.staging.webmd.com\n",
      "(1070, 7)\n",
      "***********************************\n",
      "(972, 7)\n",
      "https://www.nytimes.com\n",
      "(782, 7)\n",
      "https://nytimes.com\n",
      "(779, 7)\n",
      "https://a.et.nytimes\n",
      "(716, 7)\n",
      "https://et.nytimes.com\n",
      "(675, 7)\n",
      "https://static01.nyt.com\n",
      "(629, 7)\n",
      "https://a.nytimes.com\n",
      "(625, 7)\n",
      "https://g1.nyt.com\n",
      "(600, 7)\n",
      "https://als-svc.nytimes.com\n",
      "(597, 7)\n",
      "https://content.api.nytimes.com\n",
      "(554, 7)\n",
      "https://purr.nytimes.com\n",
      "(551, 7)\n",
      "https://samizdat-graphql.nytimes.com\n",
      "(542, 7)\n",
      "https://meter-svc.nytimes.com\n",
      "(539, 7)\n",
      "https://mwcm.nytimes.com\n",
      "(536, 7)\n",
      "https://myaccount.nytimes.com\n",
      "(529, 7)\n",
      "***********************************\n",
      "(448, 7)\n",
      "https://www.berkeley.edu\n",
      "(382, 7)\n",
      "https://news.berkeley.edu\n",
      "(381, 7)\n",
      "https://matrix.berkeley.edu\n",
      "(381, 7)\n",
      "http://give.berkeley.edu\n",
      "(381, 7)\n",
      "http://bconnected.berkeley.edu\n",
      "(381, 7)\n",
      "https://bconnected.berkeley.edu\n",
      "(338, 7)\n",
      "https://greatergood.berkeley.edu\n",
      "(285, 7)\n",
      "https://irle.berkeley.edu\n",
      "(246, 7)\n",
      "https://publichealth.berkeley.edu\n",
      "(246, 7)\n",
      "https://calparents.berkeley.edu\n",
      "(246, 7)\n",
      "http://vcue.berkeley.edu\n",
      "(246, 7)\n",
      "https://vcue.berkeley.edu\n",
      "(246, 7)\n",
      "http://events.berkeley.edu\n",
      "(246, 7)\n",
      "https://events.berkeley.edu\n",
      "(246, 7)\n",
      "***********************************\n"
     ]
    }
   ],
   "source": [
    "http_request_third_1 = http_request_1\n",
    "print(http_request_third_1.shape)\n",
    "for temp in http_dict.get(names[0]):\n",
    "    print(temp)\n",
    "    http_request_third_1 = http_request_third_1[-http_request_third_1.url.str.startswith(temp)]\n",
    "    print(http_request_third_1.shape)\n",
    "    \n",
    "print(\"***********************************\")\n",
    "\n",
    "http_request_third_2 = http_request_2\n",
    "print(http_request_third_2.shape)\n",
    "for temp in http_dict.get(names[1]):\n",
    "    print(temp)\n",
    "    http_request_third_2 = http_request_third_2[-http_request_third_2.url.str.startswith(temp)]\n",
    "    print(http_request_third_2.shape)\n",
    "    \n",
    "print(\"***********************************\")\n",
    "\n",
    "\n",
    "http_request_third_3 = http_request_3\n",
    "print(http_request_third_3.shape)\n",
    "for temp in http_dict.get(names[2]):\n",
    "    print(temp)\n",
    "    http_request_third_3 = http_request_third_3[-http_request_third_3.url.str.startswith(temp)]\n",
    "    print(http_request_third_3.shape)\n",
    "    \n",
    "print(\"***********************************\")\n",
    "\n"
   ]
  },
  {
   "cell_type": "code",
   "execution_count": 34,
   "metadata": {
    "scrolled": true
   },
   "outputs": [
    {
     "data": {
      "text/plain": [
       "(1070, 7)"
      ]
     },
     "execution_count": 34,
     "metadata": {},
     "output_type": "execute_result"
    }
   ],
   "source": [
    "http_request_third_1.shape"
   ]
  },
  {
   "cell_type": "code",
   "execution_count": 35,
   "metadata": {},
   "outputs": [],
   "source": [
    "http_request_third_1.to_csv('2-1-httprequest.csv', index=False)\n",
    "http_request_third_2.to_csv('2-2-httprequest.csv', index=False)\n",
    "http_request_third_3.to_csv('2-3-httprequest.csv', index=False)"
   ]
  },
  {
   "cell_type": "code",
   "execution_count": null,
   "metadata": {},
   "outputs": [],
   "source": []
  },
  {
   "cell_type": "code",
   "execution_count": null,
   "metadata": {},
   "outputs": [],
   "source": []
  },
  {
   "cell_type": "code",
   "execution_count": 120,
   "metadata": {},
   "outputs": [
    {
     "data": {
      "text/html": [
       "<div>\n",
       "<style scoped>\n",
       "    .dataframe tbody tr th:only-of-type {\n",
       "        vertical-align: middle;\n",
       "    }\n",
       "\n",
       "    .dataframe tbody tr th {\n",
       "        vertical-align: top;\n",
       "    }\n",
       "\n",
       "    .dataframe thead th {\n",
       "        text-align: right;\n",
       "    }\n",
       "</style>\n",
       "<table border=\"1\" class=\"dataframe\">\n",
       "  <thead>\n",
       "    <tr style=\"text-align: right;\">\n",
       "      <th></th>\n",
       "      <th>Exp</th>\n",
       "      <th>Websites</th>\n",
       "    </tr>\n",
       "  </thead>\n",
       "  <tbody>\n",
       "    <tr>\n",
       "      <th>0</th>\n",
       "      <td>1</td>\n",
       "      <td>['nytimes', 'webmd', 'berkeley']</td>\n",
       "    </tr>\n",
       "  </tbody>\n",
       "</table>\n",
       "</div>"
      ],
      "text/plain": [
       "   Exp                          Websites\n",
       "0    1  ['nytimes', 'webmd', 'berkeley']"
      ]
     },
     "execution_count": 120,
     "metadata": {},
     "output_type": "execute_result"
    }
   ],
   "source": [
    "experiments_df = pd.DataFrame(pd.read_csv('experiments.csv')  , columns = ['Exp', 'Websites']) \n",
    "experiments_df"
   ]
  },
  {
   "cell_type": "code",
   "execution_count": 121,
   "metadata": {},
   "outputs": [
    {
     "data": {
      "text/html": [
       "<div>\n",
       "<style scoped>\n",
       "    .dataframe tbody tr th:only-of-type {\n",
       "        vertical-align: middle;\n",
       "    }\n",
       "\n",
       "    .dataframe tbody tr th {\n",
       "        vertical-align: top;\n",
       "    }\n",
       "\n",
       "    .dataframe thead th {\n",
       "        text-align: right;\n",
       "    }\n",
       "</style>\n",
       "<table border=\"1\" class=\"dataframe\">\n",
       "  <thead>\n",
       "    <tr style=\"text-align: right;\">\n",
       "      <th></th>\n",
       "      <th>Exp</th>\n",
       "      <th>Websites</th>\n",
       "    </tr>\n",
       "  </thead>\n",
       "  <tbody>\n",
       "    <tr>\n",
       "      <th>0</th>\n",
       "      <td>1</td>\n",
       "      <td>['nytimes', 'webmd', 'berkeley']</td>\n",
       "    </tr>\n",
       "    <tr>\n",
       "      <th>0</th>\n",
       "      <td>2</td>\n",
       "      <td>[webmd, nytimes, berkeley]</td>\n",
       "    </tr>\n",
       "  </tbody>\n",
       "</table>\n",
       "</div>"
      ],
      "text/plain": [
       "   Exp                          Websites\n",
       "0    1  ['nytimes', 'webmd', 'berkeley']\n",
       "0    2        [webmd, nytimes, berkeley]"
      ]
     },
     "execution_count": 121,
     "metadata": {},
     "output_type": "execute_result"
    }
   ],
   "source": [
    "experiment_num = 2\n",
    "\n",
    "temp = pd.DataFrame([[experiment_num, names]], columns = ['Exp', 'Websites']) \n",
    "\n",
    "experiments_df = pd.concat([experiments_df,temp])\n",
    "\n",
    "experiments_df\n"
   ]
  },
  {
   "cell_type": "code",
   "execution_count": 122,
   "metadata": {},
   "outputs": [],
   "source": [
    "experiments_df.to_csv('experiments.csv', index=False)\n",
    "\n"
   ]
  },
  {
   "cell_type": "code",
   "execution_count": null,
   "metadata": {},
   "outputs": [],
   "source": []
  }
 ],
 "metadata": {
  "kernelspec": {
   "display_name": "Python 3",
   "language": "python",
   "name": "python3"
  },
  "language_info": {
   "codemirror_mode": {
    "name": "ipython",
    "version": 3
   },
   "file_extension": ".py",
   "mimetype": "text/x-python",
   "name": "python",
   "nbconvert_exporter": "python",
   "pygments_lexer": "ipython3",
   "version": "3.7.6"
  }
 },
 "nbformat": 4,
 "nbformat_minor": 2
}
